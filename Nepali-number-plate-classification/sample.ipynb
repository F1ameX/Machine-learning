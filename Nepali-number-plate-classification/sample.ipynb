{
 "cells": [
  {
   "cell_type": "code",
   "execution_count": 3,
   "id": "initial_id",
   "metadata": {
    "collapsed": true,
    "ExecuteTime": {
     "end_time": "2024-08-10T11:41:05.773937Z",
     "start_time": "2024-08-10T11:41:01.783379Z"
    }
   },
   "outputs": [
    {
     "name": "stdout",
     "output_type": "stream",
     "text": [
      "Requirement already satisfied: scikit-learn in /opt/homebrew/anaconda3/lib/python3.11/site-packages (1.3.0)\r\n",
      "Requirement already satisfied: numpy>=1.17.3 in /opt/homebrew/anaconda3/lib/python3.11/site-packages (from scikit-learn) (1.24.3)\r\n",
      "Requirement already satisfied: scipy>=1.5.0 in /opt/homebrew/anaconda3/lib/python3.11/site-packages (from scikit-learn) (1.11.1)\r\n",
      "Requirement already satisfied: joblib>=1.1.1 in /opt/homebrew/anaconda3/lib/python3.11/site-packages (from scikit-learn) (1.2.0)\r\n",
      "Requirement already satisfied: threadpoolctl>=2.0.0 in /opt/homebrew/anaconda3/lib/python3.11/site-packages (from scikit-learn) (2.2.0)\r\n",
      "Requirement already satisfied: numpy in /opt/homebrew/anaconda3/lib/python3.11/site-packages (1.24.3)\r\n"
     ]
    }
   ],
   "source": [
    "!pip install scikit-learn\n",
    "!pip install numpy"
   ]
  },
  {
   "cell_type": "code",
   "outputs": [],
   "source": [
    "import os\n",
    "import numpy as np\n",
    "from skimage.io import imread\n",
    "from skimage.transform import resize\n",
    "from skimage.color import rgb2gray\n",
    "from sklearn.model_selection import train_test_split, GridSearchCV\n",
    "from sklearn.svm import SVC\n",
    "from sklearn.metrics import accuracy_score"
   ],
   "metadata": {
    "collapsed": false,
    "ExecuteTime": {
     "end_time": "2024-08-10T19:00:01.774750Z",
     "start_time": "2024-08-10T19:00:00.850924Z"
    }
   },
   "id": "785accc297b7f37",
   "execution_count": 28
  },
  {
   "cell_type": "code",
   "outputs": [],
   "source": [
    "input_dir = \"../Nepali-number-plate-classification/character_ocr\"\n",
    "categories = [\"क\", \"को\", \"ख\", \"ग\", \"च\", \"ज\", \"झ\", \"ञ\", \"डि\", \"त\", \"ना\", \"प\", \"प्र\", \"ब\", \"बा\", \"भे\",\n",
    "              \"म\", \"मे\", \"य\", \"लु\", \"सी\", \"सु\", \"से\", \"ह\", \"०\", \"१\", \"२\", \"३\", \"४\", \"५\", \"६\", \"७\", \"८\", \"९\"]"
   ],
   "metadata": {
    "collapsed": false,
    "ExecuteTime": {
     "end_time": "2024-08-10T18:52:59.354906Z",
     "start_time": "2024-08-10T18:52:59.352656Z"
    }
   },
   "id": "1089e660bb539104",
   "execution_count": 24
  },
  {
   "cell_type": "code",
   "outputs": [],
   "source": [
    "data = []\n",
    "labels = []\n",
    "for category_idx, category in enumerate(categories):\n",
    "    for file in os.listdir(os.path.join(input_dir, category)):\n",
    "        img_path = os.path.join(input_dir, category, file)\n",
    "        img = imread(img_path)\n",
    "        \n",
    "        if img.ndim == 3:\n",
    "            if img.shape[2] == 4:\n",
    "                img = img[:, :, :3]  \n",
    "            img = rgb2gray(img)  \n",
    "\n",
    "        img = resize(img, (32, 32), anti_aliasing=True)\n",
    "        data.append(img)\n",
    "        labels.append(category_idx)"
   ],
   "metadata": {
    "collapsed": false,
    "ExecuteTime": {
     "end_time": "2024-08-10T18:53:07.711860Z",
     "start_time": "2024-08-10T18:52:59.701763Z"
    }
   },
   "id": "f2aebb751591be9e",
   "execution_count": 25
  },
  {
   "cell_type": "code",
   "outputs": [],
   "source": [
    "data = np.asarray(data)\n",
    "labels = np.asarray(labels)"
   ],
   "metadata": {
    "collapsed": false,
    "ExecuteTime": {
     "end_time": "2024-08-10T18:53:17.917618Z",
     "start_time": "2024-08-10T18:53:17.859038Z"
    }
   },
   "id": "908716e0ab5693b2",
   "execution_count": 26
  },
  {
   "cell_type": "code",
   "outputs": [],
   "source": [
    "data = data.reshape((data.shape[0], -1))\n",
    "x_train, x_test, y_train, y_test = train_test_split(data, labels, shuffle=True, test_size=0.2, random_state=52, stratify=labels)"
   ],
   "metadata": {
    "collapsed": false,
    "ExecuteTime": {
     "end_time": "2024-08-10T19:06:24.201025Z",
     "start_time": "2024-08-10T19:06:24.057298Z"
    }
   },
   "id": "1d3260bf9bab4fb3",
   "execution_count": 32
  },
  {
   "cell_type": "code",
   "outputs": [],
   "source": [
    "classifier = SVC()\n",
    "parameters = [{\n",
    "    'gamma': [0.01, 0.001, 0.0001],\n",
    "    'C': [1, 10, 100, 1000]\n",
    "}]\n",
    "grid_search = GridSearchCV(classifier, parameters)"
   ],
   "metadata": {
    "collapsed": false,
    "ExecuteTime": {
     "end_time": "2024-08-10T19:06:25.299083Z",
     "start_time": "2024-08-10T19:06:25.295696Z"
    }
   },
   "id": "eb611404362e031d",
   "execution_count": 33
  },
  {
   "cell_type": "code",
   "outputs": [],
   "source": [
    "grid_search.fit(x_train, y_train)"
   ],
   "metadata": {
    "collapsed": false,
    "is_executing": true,
    "ExecuteTime": {
     "start_time": "2024-08-10T19:06:25.893273Z"
    }
   },
   "id": "afcce3c235d12f93",
   "execution_count": null
  },
  {
   "cell_type": "code",
   "outputs": [],
   "source": [
    "best_estimator = grid_search.best_estimator_\n",
    "y_prediction = best_estimator.pedict(x_test)\n",
    "score = accuracy_score(y_prediction, y_test)\n",
    "print(f\"Model accuracy score is {score}\")"
   ],
   "metadata": {
    "collapsed": false,
    "is_executing": true
   },
   "id": "ef8d0d2fe6271471"
  },
  {
   "cell_type": "code",
   "outputs": [],
   "source": [],
   "metadata": {
    "collapsed": false
   },
   "id": "77de5ebaca5887f"
  }
 ],
 "metadata": {
  "kernelspec": {
   "display_name": "Python 3",
   "language": "python",
   "name": "python3"
  },
  "language_info": {
   "codemirror_mode": {
    "name": "ipython",
    "version": 2
   },
   "file_extension": ".py",
   "mimetype": "text/x-python",
   "name": "python",
   "nbconvert_exporter": "python",
   "pygments_lexer": "ipython2",
   "version": "2.7.6"
  }
 },
 "nbformat": 4,
 "nbformat_minor": 5
}
