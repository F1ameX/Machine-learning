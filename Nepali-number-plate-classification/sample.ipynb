{
 "cells": [
  {
   "cell_type": "code",
   "execution_count": 3,
   "id": "initial_id",
   "metadata": {
    "collapsed": true,
    "ExecuteTime": {
     "end_time": "2024-08-10T11:41:05.773937Z",
     "start_time": "2024-08-10T11:41:01.783379Z"
    }
   },
   "outputs": [
    {
     "name": "stdout",
     "output_type": "stream",
     "text": [
      "Requirement already satisfied: scikit-learn in /opt/homebrew/anaconda3/lib/python3.11/site-packages (1.3.0)\r\n",
      "Requirement already satisfied: numpy>=1.17.3 in /opt/homebrew/anaconda3/lib/python3.11/site-packages (from scikit-learn) (1.24.3)\r\n",
      "Requirement already satisfied: scipy>=1.5.0 in /opt/homebrew/anaconda3/lib/python3.11/site-packages (from scikit-learn) (1.11.1)\r\n",
      "Requirement already satisfied: joblib>=1.1.1 in /opt/homebrew/anaconda3/lib/python3.11/site-packages (from scikit-learn) (1.2.0)\r\n",
      "Requirement already satisfied: threadpoolctl>=2.0.0 in /opt/homebrew/anaconda3/lib/python3.11/site-packages (from scikit-learn) (2.2.0)\r\n",
      "Requirement already satisfied: numpy in /opt/homebrew/anaconda3/lib/python3.11/site-packages (1.24.3)\r\n"
     ]
    }
   ],
   "source": [
    "!pip install scikit-learn\n",
    "!pip install numpy"
   ]
  },
  {
   "cell_type": "code",
   "outputs": [],
   "source": [
    "import os\n",
    "import numpy as np\n",
    "from skimage.io import imread\n",
    "from skimage.transform import resize\n",
    "from skimage.color import rgb2gray"
   ],
   "metadata": {
    "collapsed": false,
    "ExecuteTime": {
     "end_time": "2024-08-10T18:49:34.987616Z",
     "start_time": "2024-08-10T18:49:34.983914Z"
    }
   },
   "id": "785accc297b7f37",
   "execution_count": 13
  },
  {
   "cell_type": "code",
   "outputs": [],
   "source": [
    "input_dir = \"../Nepali-number-plate-classification/character_ocr\"\n",
    "categories = [\"क\", \"को\", \"ख\", \"ग\", \"च\", \"ज\", \"झ\", \"ञ\", \"डि\", \"त\", \"ना\", \"प\", \"प्र\", \"ब\", \"बा\", \"भे\",\n",
    "              \"म\", \"मे\", \"य\", \"लु\", \"सी\", \"सु\", \"से\", \"ह\", \"०\", \"१\", \"२\", \"३\", \"४\", \"५\", \"६\", \"७\", \"८\", \"९\"]"
   ],
   "metadata": {
    "collapsed": false,
    "ExecuteTime": {
     "end_time": "2024-08-10T18:49:35.494562Z",
     "start_time": "2024-08-10T18:49:35.492346Z"
    }
   },
   "id": "1089e660bb539104",
   "execution_count": 14
  },
  {
   "cell_type": "code",
   "outputs": [
    {
     "ename": "ValueError",
     "evalue": "the input array must have size 3 along `channel_axis`, got (32, 32)",
     "output_type": "error",
     "traceback": [
      "\u001B[0;31m---------------------------------------------------------------------------\u001B[0m",
      "\u001B[0;31mValueError\u001B[0m                                Traceback (most recent call last)",
      "Cell \u001B[0;32mIn[15], line 6\u001B[0m\n\u001B[1;32m      4\u001B[0m \u001B[38;5;28;01mfor\u001B[39;00m file \u001B[38;5;129;01min\u001B[39;00m os\u001B[38;5;241m.\u001B[39mlistdir(os\u001B[38;5;241m.\u001B[39mpath\u001B[38;5;241m.\u001B[39mjoin(input_dir, category)):\n\u001B[1;32m      5\u001B[0m     img_path \u001B[38;5;241m=\u001B[39m os\u001B[38;5;241m.\u001B[39mpath\u001B[38;5;241m.\u001B[39mjoin(input_dir, category, file)\n\u001B[0;32m----> 6\u001B[0m     img \u001B[38;5;241m=\u001B[39m rgb2gray(imread(img_path))\n\u001B[1;32m      7\u001B[0m     img \u001B[38;5;241m=\u001B[39m resize(img, (\u001B[38;5;241m32\u001B[39m, \u001B[38;5;241m32\u001B[39m), anti_aliasing\u001B[38;5;241m=\u001B[39m\u001B[38;5;28;01mTrue\u001B[39;00m)\n\u001B[1;32m      8\u001B[0m     data\u001B[38;5;241m.\u001B[39mappend(img)\n",
      "File \u001B[0;32m/opt/homebrew/anaconda3/lib/python3.11/site-packages/skimage/_shared/utils.py:326\u001B[0m, in \u001B[0;36mchannel_as_last_axis.__call__.<locals>.fixed_func\u001B[0;34m(*args, **kwargs)\u001B[0m\n\u001B[1;32m    323\u001B[0m channel_axis \u001B[38;5;241m=\u001B[39m kwargs\u001B[38;5;241m.\u001B[39mget(\u001B[38;5;124m'\u001B[39m\u001B[38;5;124mchannel_axis\u001B[39m\u001B[38;5;124m'\u001B[39m, \u001B[38;5;28;01mNone\u001B[39;00m)\n\u001B[1;32m    325\u001B[0m \u001B[38;5;28;01mif\u001B[39;00m channel_axis \u001B[38;5;129;01mis\u001B[39;00m \u001B[38;5;28;01mNone\u001B[39;00m:\n\u001B[0;32m--> 326\u001B[0m     \u001B[38;5;28;01mreturn\u001B[39;00m func(\u001B[38;5;241m*\u001B[39margs, \u001B[38;5;241m*\u001B[39m\u001B[38;5;241m*\u001B[39mkwargs)\n\u001B[1;32m    328\u001B[0m \u001B[38;5;66;03m# TODO: convert scalars to a tuple in anticipation of eventually\u001B[39;00m\n\u001B[1;32m    329\u001B[0m \u001B[38;5;66;03m#       supporting a tuple of channel axes. Right now, only an\u001B[39;00m\n\u001B[1;32m    330\u001B[0m \u001B[38;5;66;03m#       integer or a single-element tuple is supported, though.\u001B[39;00m\n\u001B[1;32m    331\u001B[0m \u001B[38;5;28;01mif\u001B[39;00m np\u001B[38;5;241m.\u001B[39misscalar(channel_axis):\n",
      "File \u001B[0;32m/opt/homebrew/anaconda3/lib/python3.11/site-packages/skimage/color/colorconv.py:875\u001B[0m, in \u001B[0;36mrgb2gray\u001B[0;34m(rgb, channel_axis)\u001B[0m\n\u001B[1;32m    834\u001B[0m \u001B[38;5;129m@channel_as_last_axis\u001B[39m(multichannel_output\u001B[38;5;241m=\u001B[39m\u001B[38;5;28;01mFalse\u001B[39;00m)\n\u001B[1;32m    835\u001B[0m \u001B[38;5;28;01mdef\u001B[39;00m \u001B[38;5;21mrgb2gray\u001B[39m(rgb, \u001B[38;5;241m*\u001B[39m, channel_axis\u001B[38;5;241m=\u001B[39m\u001B[38;5;241m-\u001B[39m\u001B[38;5;241m1\u001B[39m):\n\u001B[1;32m    836\u001B[0m \u001B[38;5;250m    \u001B[39m\u001B[38;5;124;03m\"\"\"Compute luminance of an RGB image.\u001B[39;00m\n\u001B[1;32m    837\u001B[0m \n\u001B[1;32m    838\u001B[0m \u001B[38;5;124;03m    Parameters\u001B[39;00m\n\u001B[0;32m   (...)\u001B[0m\n\u001B[1;32m    873\u001B[0m \u001B[38;5;124;03m    >>> img_gray = rgb2gray(img)\u001B[39;00m\n\u001B[1;32m    874\u001B[0m \u001B[38;5;124;03m    \"\"\"\u001B[39;00m\n\u001B[0;32m--> 875\u001B[0m     rgb \u001B[38;5;241m=\u001B[39m _prepare_colorarray(rgb)\n\u001B[1;32m    876\u001B[0m     coeffs \u001B[38;5;241m=\u001B[39m np\u001B[38;5;241m.\u001B[39marray([\u001B[38;5;241m0.2125\u001B[39m, \u001B[38;5;241m0.7154\u001B[39m, \u001B[38;5;241m0.0721\u001B[39m], dtype\u001B[38;5;241m=\u001B[39mrgb\u001B[38;5;241m.\u001B[39mdtype)\n\u001B[1;32m    877\u001B[0m     \u001B[38;5;28;01mreturn\u001B[39;00m rgb \u001B[38;5;241m@\u001B[39m coeffs\n",
      "File \u001B[0;32m/opt/homebrew/anaconda3/lib/python3.11/site-packages/skimage/color/colorconv.py:140\u001B[0m, in \u001B[0;36m_prepare_colorarray\u001B[0;34m(arr, force_copy, channel_axis)\u001B[0m\n\u001B[1;32m    137\u001B[0m \u001B[38;5;28;01mif\u001B[39;00m arr\u001B[38;5;241m.\u001B[39mshape[channel_axis] \u001B[38;5;241m!=\u001B[39m \u001B[38;5;241m3\u001B[39m:\n\u001B[1;32m    138\u001B[0m     msg \u001B[38;5;241m=\u001B[39m (\u001B[38;5;124mf\u001B[39m\u001B[38;5;124m'\u001B[39m\u001B[38;5;124mthe input array must have size 3 along `channel_axis`, \u001B[39m\u001B[38;5;124m'\u001B[39m\n\u001B[1;32m    139\u001B[0m            \u001B[38;5;124mf\u001B[39m\u001B[38;5;124m'\u001B[39m\u001B[38;5;124mgot \u001B[39m\u001B[38;5;132;01m{\u001B[39;00marr\u001B[38;5;241m.\u001B[39mshape\u001B[38;5;132;01m}\u001B[39;00m\u001B[38;5;124m'\u001B[39m)\n\u001B[0;32m--> 140\u001B[0m     \u001B[38;5;28;01mraise\u001B[39;00m \u001B[38;5;167;01mValueError\u001B[39;00m(msg)\n\u001B[1;32m    142\u001B[0m float_dtype \u001B[38;5;241m=\u001B[39m _supported_float_type(arr\u001B[38;5;241m.\u001B[39mdtype)\n\u001B[1;32m    143\u001B[0m \u001B[38;5;28;01mif\u001B[39;00m float_dtype \u001B[38;5;241m==\u001B[39m np\u001B[38;5;241m.\u001B[39mfloat32:\n",
      "\u001B[0;31mValueError\u001B[0m: the input array must have size 3 along `channel_axis`, got (32, 32)"
     ]
    }
   ],
   "source": [
    "data = []\n",
    "labels = []\n",
    "for category_idx, category in enumerate(categories):\n",
    "    for file in os.listdir(os.path.join(input_dir, category)):\n",
    "        img_path = os.path.join(input_dir, category, file)\n",
    "        img = rgb2gray(imread(img_path))\n",
    "        img = resize(img, (32, 32), anti_aliasing=True)\n",
    "        data.append(img)\n",
    "        labels.append(category_idx)"
   ],
   "metadata": {
    "collapsed": false,
    "ExecuteTime": {
     "end_time": "2024-08-10T18:49:36.156168Z",
     "start_time": "2024-08-10T18:49:35.991947Z"
    }
   },
   "id": "f2aebb751591be9e",
   "execution_count": 15
  },
  {
   "cell_type": "code",
   "outputs": [],
   "source": [
    "data = np.asarray(data)\n",
    "labels = np.asarray(labels)"
   ],
   "metadata": {
    "collapsed": false,
    "ExecuteTime": {
     "end_time": "2024-08-10T18:49:36.962865Z",
     "start_time": "2024-08-10T18:49:36.959912Z"
    }
   },
   "id": "908716e0ab5693b2",
   "execution_count": 16
  },
  {
   "cell_type": "code",
   "outputs": [],
   "source": [],
   "metadata": {
    "collapsed": false,
    "ExecuteTime": {
     "end_time": "2024-08-10T12:05:37.439056Z",
     "start_time": "2024-08-10T12:05:37.437022Z"
    }
   },
   "id": "1d3260bf9bab4fb3",
   "execution_count": 19
  },
  {
   "cell_type": "code",
   "outputs": [],
   "source": [],
   "metadata": {
    "collapsed": false
   },
   "id": "eb611404362e031d"
  }
 ],
 "metadata": {
  "kernelspec": {
   "display_name": "Python 3",
   "language": "python",
   "name": "python3"
  },
  "language_info": {
   "codemirror_mode": {
    "name": "ipython",
    "version": 2
   },
   "file_extension": ".py",
   "mimetype": "text/x-python",
   "name": "python",
   "nbconvert_exporter": "python",
   "pygments_lexer": "ipython2",
   "version": "2.7.6"
  }
 },
 "nbformat": 4,
 "nbformat_minor": 5
}
