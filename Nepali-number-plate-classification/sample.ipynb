{
 "cells": [
  {
   "cell_type": "markdown",
   "source": [
    "# Installing necessary libraries"
   ],
   "metadata": {
    "collapsed": false
   },
   "id": "e5934b171b6a5248"
  },
  {
   "cell_type": "code",
   "execution_count": 1,
   "id": "initial_id",
   "metadata": {
    "collapsed": true,
    "ExecuteTime": {
     "end_time": "2024-08-11T04:56:04.795374Z",
     "start_time": "2024-08-11T04:56:00.758678Z"
    }
   },
   "outputs": [
    {
     "name": "stdout",
     "output_type": "stream",
     "text": [
      "Requirement already satisfied: scikit-learn in /opt/homebrew/anaconda3/lib/python3.11/site-packages (1.3.0)\r\n",
      "Requirement already satisfied: numpy>=1.17.3 in /opt/homebrew/anaconda3/lib/python3.11/site-packages (from scikit-learn) (1.24.3)\r\n",
      "Requirement already satisfied: scipy>=1.5.0 in /opt/homebrew/anaconda3/lib/python3.11/site-packages (from scikit-learn) (1.11.1)\r\n",
      "Requirement already satisfied: joblib>=1.1.1 in /opt/homebrew/anaconda3/lib/python3.11/site-packages (from scikit-learn) (1.2.0)\r\n",
      "Requirement already satisfied: threadpoolctl>=2.0.0 in /opt/homebrew/anaconda3/lib/python3.11/site-packages (from scikit-learn) (2.2.0)\r\n",
      "Requirement already satisfied: numpy in /opt/homebrew/anaconda3/lib/python3.11/site-packages (1.24.3)\r\n"
     ]
    }
   ],
   "source": [
    "!pip install scikit-learn\n",
    "!pip install numpy"
   ]
  },
  {
   "cell_type": "markdown",
   "source": [
    "# Importing necessary libraries"
   ],
   "metadata": {
    "collapsed": false
   },
   "id": "545722006629e97c"
  },
  {
   "cell_type": "code",
   "outputs": [],
   "source": [
    "import os\n",
    "import numpy as np\n",
    "from skimage.io import imread\n",
    "from skimage.transform import resize\n",
    "from skimage.color import rgb2gray\n",
    "from sklearn.model_selection import train_test_split, GridSearchCV\n",
    "from sklearn.svm import SVC\n",
    "from sklearn.metrics import accuracy_score"
   ],
   "metadata": {
    "collapsed": false,
    "ExecuteTime": {
     "end_time": "2024-08-11T04:56:06.298945Z",
     "start_time": "2024-08-11T04:56:04.796779Z"
    }
   },
   "id": "785accc297b7f37",
   "execution_count": 2
  },
  {
   "cell_type": "markdown",
   "source": [
    "# Data preparing\n",
    "## Setting up data directory path and categories list"
   ],
   "metadata": {
    "collapsed": false
   },
   "id": "d6a717e8a246acbd"
  },
  {
   "cell_type": "code",
   "outputs": [],
   "source": [
    "input_dir = \"../Nepali-number-plate-classification/character_ocr\"\n",
    "categories = [\"क\", \"को\", \"ख\", \"ग\", \"च\", \"ज\", \"झ\", \"ञ\", \"डि\", \"त\", \"ना\", \"प\", \"प्र\", \"ब\", \"बा\", \"भे\",\n",
    "              \"म\", \"मे\", \"य\", \"लु\", \"सी\", \"सु\", \"से\", \"ह\", \"०\", \"१\", \"२\", \"३\", \"४\", \"५\", \"६\", \"७\", \"८\", \"९\"]"
   ],
   "metadata": {
    "collapsed": false,
    "ExecuteTime": {
     "end_time": "2024-08-11T04:56:09.041648Z",
     "start_time": "2024-08-11T04:56:09.037334Z"
    }
   },
   "id": "1089e660bb539104",
   "execution_count": 3
  },
  {
   "cell_type": "markdown",
   "source": [
    "## Transform images to one standard"
   ],
   "metadata": {
    "collapsed": false
   },
   "id": "3b05b9e98dba15e9"
  },
  {
   "cell_type": "code",
   "outputs": [],
   "source": [
    "data = []\n",
    "labels = []\n",
    "for category_idx, category in enumerate(categories):\n",
    "    for file in os.listdir(os.path.join(input_dir, category)):\n",
    "        img_path = os.path.join(input_dir, category, file)\n",
    "        img = imread(img_path)\n",
    "        \n",
    "        if img.ndim == 3:\n",
    "            if img.shape[2] == 4:\n",
    "                img = img[:, :, :3]  \n",
    "            img = rgb2gray(img)  \n",
    "\n",
    "        img = resize(img, (32, 32), anti_aliasing=True)\n",
    "        data.append(img)\n",
    "        labels.append(category_idx)"
   ],
   "metadata": {
    "collapsed": false,
    "ExecuteTime": {
     "end_time": "2024-08-11T04:56:17.903607Z",
     "start_time": "2024-08-11T04:56:09.675460Z"
    }
   },
   "id": "f2aebb751591be9e",
   "execution_count": 4
  },
  {
   "cell_type": "markdown",
   "source": [
    "## Making a features and targets of data"
   ],
   "metadata": {
    "collapsed": false
   },
   "id": "e37b9b0f52468122"
  },
  {
   "cell_type": "code",
   "outputs": [],
   "source": [
    "data = np.asarray(data)\n",
    "labels = np.asarray(labels)"
   ],
   "metadata": {
    "collapsed": false,
    "ExecuteTime": {
     "end_time": "2024-08-11T04:56:18.721117Z",
     "start_time": "2024-08-11T04:56:18.632300Z"
    }
   },
   "id": "908716e0ab5693b2",
   "execution_count": 5
  },
  {
   "cell_type": "markdown",
   "source": [
    "## Data splitting"
   ],
   "metadata": {
    "collapsed": false
   },
   "id": "14a80caa01003786"
  },
  {
   "cell_type": "code",
   "outputs": [],
   "source": [
    "data = data.reshape((data.shape[0], -1))\n",
    "x_train, x_test, y_train, y_test = train_test_split(data, labels, shuffle=True, test_size=0.2, random_state=52, stratify=labels)"
   ],
   "metadata": {
    "collapsed": false,
    "ExecuteTime": {
     "end_time": "2024-08-11T04:56:19.337867Z",
     "start_time": "2024-08-11T04:56:19.286816Z"
    }
   },
   "id": "1d3260bf9bab4fb3",
   "execution_count": 6
  },
  {
   "cell_type": "markdown",
   "source": [
    "# Model definition, setting parameters"
   ],
   "metadata": {
    "collapsed": false
   },
   "id": "22270bdd038cd7e2"
  },
  {
   "cell_type": "code",
   "outputs": [],
   "source": [
    "classifier = SVC()\n",
    "parameters = [{\n",
    "    'gamma': [0.01, 0.001, 0.0001],\n",
    "    'C': [1, 10, 100, 1000]\n",
    "}]\n",
    "grid_search = GridSearchCV(classifier, parameters)"
   ],
   "metadata": {
    "collapsed": false,
    "ExecuteTime": {
     "end_time": "2024-08-11T04:56:20.061929Z",
     "start_time": "2024-08-11T04:56:20.057977Z"
    }
   },
   "id": "eb611404362e031d",
   "execution_count": 7
  },
  {
   "cell_type": "markdown",
   "source": [
    "# Fitting the model"
   ],
   "metadata": {
    "collapsed": false
   },
   "id": "bb089c737078c9b3"
  },
  {
   "cell_type": "code",
   "outputs": [
    {
     "data": {
      "text/plain": "GridSearchCV(estimator=SVC(),\n             param_grid=[{'C': [1, 10, 100, 1000],\n                          'gamma': [0.01, 0.001, 0.0001]}])",
      "text/html": "<style>#sk-container-id-1 {color: black;}#sk-container-id-1 pre{padding: 0;}#sk-container-id-1 div.sk-toggleable {background-color: white;}#sk-container-id-1 label.sk-toggleable__label {cursor: pointer;display: block;width: 100%;margin-bottom: 0;padding: 0.3em;box-sizing: border-box;text-align: center;}#sk-container-id-1 label.sk-toggleable__label-arrow:before {content: \"▸\";float: left;margin-right: 0.25em;color: #696969;}#sk-container-id-1 label.sk-toggleable__label-arrow:hover:before {color: black;}#sk-container-id-1 div.sk-estimator:hover label.sk-toggleable__label-arrow:before {color: black;}#sk-container-id-1 div.sk-toggleable__content {max-height: 0;max-width: 0;overflow: hidden;text-align: left;background-color: #f0f8ff;}#sk-container-id-1 div.sk-toggleable__content pre {margin: 0.2em;color: black;border-radius: 0.25em;background-color: #f0f8ff;}#sk-container-id-1 input.sk-toggleable__control:checked~div.sk-toggleable__content {max-height: 200px;max-width: 100%;overflow: auto;}#sk-container-id-1 input.sk-toggleable__control:checked~label.sk-toggleable__label-arrow:before {content: \"▾\";}#sk-container-id-1 div.sk-estimator input.sk-toggleable__control:checked~label.sk-toggleable__label {background-color: #d4ebff;}#sk-container-id-1 div.sk-label input.sk-toggleable__control:checked~label.sk-toggleable__label {background-color: #d4ebff;}#sk-container-id-1 input.sk-hidden--visually {border: 0;clip: rect(1px 1px 1px 1px);clip: rect(1px, 1px, 1px, 1px);height: 1px;margin: -1px;overflow: hidden;padding: 0;position: absolute;width: 1px;}#sk-container-id-1 div.sk-estimator {font-family: monospace;background-color: #f0f8ff;border: 1px dotted black;border-radius: 0.25em;box-sizing: border-box;margin-bottom: 0.5em;}#sk-container-id-1 div.sk-estimator:hover {background-color: #d4ebff;}#sk-container-id-1 div.sk-parallel-item::after {content: \"\";width: 100%;border-bottom: 1px solid gray;flex-grow: 1;}#sk-container-id-1 div.sk-label:hover label.sk-toggleable__label {background-color: #d4ebff;}#sk-container-id-1 div.sk-serial::before {content: \"\";position: absolute;border-left: 1px solid gray;box-sizing: border-box;top: 0;bottom: 0;left: 50%;z-index: 0;}#sk-container-id-1 div.sk-serial {display: flex;flex-direction: column;align-items: center;background-color: white;padding-right: 0.2em;padding-left: 0.2em;position: relative;}#sk-container-id-1 div.sk-item {position: relative;z-index: 1;}#sk-container-id-1 div.sk-parallel {display: flex;align-items: stretch;justify-content: center;background-color: white;position: relative;}#sk-container-id-1 div.sk-item::before, #sk-container-id-1 div.sk-parallel-item::before {content: \"\";position: absolute;border-left: 1px solid gray;box-sizing: border-box;top: 0;bottom: 0;left: 50%;z-index: -1;}#sk-container-id-1 div.sk-parallel-item {display: flex;flex-direction: column;z-index: 1;position: relative;background-color: white;}#sk-container-id-1 div.sk-parallel-item:first-child::after {align-self: flex-end;width: 50%;}#sk-container-id-1 div.sk-parallel-item:last-child::after {align-self: flex-start;width: 50%;}#sk-container-id-1 div.sk-parallel-item:only-child::after {width: 0;}#sk-container-id-1 div.sk-dashed-wrapped {border: 1px dashed gray;margin: 0 0.4em 0.5em 0.4em;box-sizing: border-box;padding-bottom: 0.4em;background-color: white;}#sk-container-id-1 div.sk-label label {font-family: monospace;font-weight: bold;display: inline-block;line-height: 1.2em;}#sk-container-id-1 div.sk-label-container {text-align: center;}#sk-container-id-1 div.sk-container {/* jupyter's `normalize.less` sets `[hidden] { display: none; }` but bootstrap.min.css set `[hidden] { display: none !important; }` so we also need the `!important` here to be able to override the default hidden behavior on the sphinx rendered scikit-learn.org. See: https://github.com/scikit-learn/scikit-learn/issues/21755 */display: inline-block !important;position: relative;}#sk-container-id-1 div.sk-text-repr-fallback {display: none;}</style><div id=\"sk-container-id-1\" class=\"sk-top-container\"><div class=\"sk-text-repr-fallback\"><pre>GridSearchCV(estimator=SVC(),\n             param_grid=[{&#x27;C&#x27;: [1, 10, 100, 1000],\n                          &#x27;gamma&#x27;: [0.01, 0.001, 0.0001]}])</pre><b>In a Jupyter environment, please rerun this cell to show the HTML representation or trust the notebook. <br />On GitHub, the HTML representation is unable to render, please try loading this page with nbviewer.org.</b></div><div class=\"sk-container\" hidden><div class=\"sk-item sk-dashed-wrapped\"><div class=\"sk-label-container\"><div class=\"sk-label sk-toggleable\"><input class=\"sk-toggleable__control sk-hidden--visually\" id=\"sk-estimator-id-1\" type=\"checkbox\" ><label for=\"sk-estimator-id-1\" class=\"sk-toggleable__label sk-toggleable__label-arrow\">GridSearchCV</label><div class=\"sk-toggleable__content\"><pre>GridSearchCV(estimator=SVC(),\n             param_grid=[{&#x27;C&#x27;: [1, 10, 100, 1000],\n                          &#x27;gamma&#x27;: [0.01, 0.001, 0.0001]}])</pre></div></div></div><div class=\"sk-parallel\"><div class=\"sk-parallel-item\"><div class=\"sk-item\"><div class=\"sk-label-container\"><div class=\"sk-label sk-toggleable\"><input class=\"sk-toggleable__control sk-hidden--visually\" id=\"sk-estimator-id-2\" type=\"checkbox\" ><label for=\"sk-estimator-id-2\" class=\"sk-toggleable__label sk-toggleable__label-arrow\">estimator: SVC</label><div class=\"sk-toggleable__content\"><pre>SVC()</pre></div></div></div><div class=\"sk-serial\"><div class=\"sk-item\"><div class=\"sk-estimator sk-toggleable\"><input class=\"sk-toggleable__control sk-hidden--visually\" id=\"sk-estimator-id-3\" type=\"checkbox\" ><label for=\"sk-estimator-id-3\" class=\"sk-toggleable__label sk-toggleable__label-arrow\">SVC</label><div class=\"sk-toggleable__content\"><pre>SVC()</pre></div></div></div></div></div></div></div></div></div></div>"
     },
     "execution_count": 8,
     "metadata": {},
     "output_type": "execute_result"
    }
   ],
   "source": [
    "grid_search.fit(x_train, y_train)"
   ],
   "metadata": {
    "collapsed": false,
    "ExecuteTime": {
     "end_time": "2024-08-11T06:57:13.313073Z",
     "start_time": "2024-08-11T04:56:20.754500Z"
    }
   },
   "id": "afcce3c235d12f93",
   "execution_count": 8
  },
  {
   "cell_type": "markdown",
   "source": [
    "# Evaluating the performance of model"
   ],
   "metadata": {
    "collapsed": false
   },
   "id": "9b56844365573400"
  },
  {
   "cell_type": "code",
   "outputs": [
    {
     "name": "stdout",
     "output_type": "stream",
     "text": [
      "Model accuracy score is 0.9647701582516955\n"
     ]
    }
   ],
   "source": [
    "best_estimator = grid_search.best_estimator_\n",
    "y_prediction = best_estimator.predict(x_test)\n",
    "score = accuracy_score(y_prediction, y_test)\n",
    "print(f\"Model accuracy score is {score}\")"
   ],
   "metadata": {
    "collapsed": false,
    "ExecuteTime": {
     "end_time": "2024-08-11T07:05:48.388985Z",
     "start_time": "2024-08-11T07:05:21.524523Z"
    }
   },
   "id": "ef8d0d2fe6271471",
   "execution_count": 10
  }
 ],
 "metadata": {
  "kernelspec": {
   "display_name": "Python 3",
   "language": "python",
   "name": "python3"
  },
  "language_info": {
   "codemirror_mode": {
    "name": "ipython",
    "version": 2
   },
   "file_extension": ".py",
   "mimetype": "text/x-python",
   "name": "python",
   "nbconvert_exporter": "python",
   "pygments_lexer": "ipython2",
   "version": "2.7.6"
  }
 },
 "nbformat": 4,
 "nbformat_minor": 5
}
