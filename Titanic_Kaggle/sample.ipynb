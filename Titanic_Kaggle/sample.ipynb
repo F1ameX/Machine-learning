{
 "cells": [
  {
   "cell_type": "code",
   "outputs": [
    {
     "name": "stdout",
     "output_type": "stream",
     "text": [
      "Requirement already satisfied: pandas in /opt/homebrew/anaconda3/lib/python3.11/site-packages (2.0.3)\r\n",
      "Requirement already satisfied: python-dateutil>=2.8.2 in /opt/homebrew/anaconda3/lib/python3.11/site-packages (from pandas) (2.8.2)\r\n",
      "Requirement already satisfied: pytz>=2020.1 in /opt/homebrew/anaconda3/lib/python3.11/site-packages (from pandas) (2023.3.post1)\r\n",
      "Requirement already satisfied: tzdata>=2022.1 in /opt/homebrew/anaconda3/lib/python3.11/site-packages (from pandas) (2023.3)\r\n",
      "Requirement already satisfied: numpy>=1.21.0 in /opt/homebrew/anaconda3/lib/python3.11/site-packages (from pandas) (1.24.3)\r\n",
      "Requirement already satisfied: six>=1.5 in /opt/homebrew/anaconda3/lib/python3.11/site-packages (from python-dateutil>=2.8.2->pandas) (1.16.0)\r\n",
      "Requirement already satisfied: numpy in /opt/homebrew/anaconda3/lib/python3.11/site-packages (1.24.3)\r\n",
      "Requirement already satisfied: matplotlib in /opt/homebrew/anaconda3/lib/python3.11/site-packages (3.7.2)\r\n",
      "Requirement already satisfied: contourpy>=1.0.1 in /opt/homebrew/anaconda3/lib/python3.11/site-packages (from matplotlib) (1.0.5)\r\n",
      "Requirement already satisfied: cycler>=0.10 in /opt/homebrew/anaconda3/lib/python3.11/site-packages (from matplotlib) (0.11.0)\r\n",
      "Requirement already satisfied: fonttools>=4.22.0 in /opt/homebrew/anaconda3/lib/python3.11/site-packages (from matplotlib) (4.25.0)\r\n",
      "Requirement already satisfied: kiwisolver>=1.0.1 in /opt/homebrew/anaconda3/lib/python3.11/site-packages (from matplotlib) (1.4.4)\r\n",
      "Requirement already satisfied: numpy>=1.20 in /opt/homebrew/anaconda3/lib/python3.11/site-packages (from matplotlib) (1.24.3)\r\n",
      "Requirement already satisfied: packaging>=20.0 in /opt/homebrew/anaconda3/lib/python3.11/site-packages (from matplotlib) (23.1)\r\n",
      "Requirement already satisfied: pillow>=6.2.0 in /opt/homebrew/anaconda3/lib/python3.11/site-packages (from matplotlib) (9.4.0)\r\n",
      "Requirement already satisfied: pyparsing<3.1,>=2.3.1 in /opt/homebrew/anaconda3/lib/python3.11/site-packages (from matplotlib) (3.0.9)\r\n",
      "Requirement already satisfied: python-dateutil>=2.7 in /opt/homebrew/anaconda3/lib/python3.11/site-packages (from matplotlib) (2.8.2)\r\n",
      "Requirement already satisfied: six>=1.5 in /opt/homebrew/anaconda3/lib/python3.11/site-packages (from python-dateutil>=2.7->matplotlib) (1.16.0)\r\n",
      "Collecting sklearn\r\n",
      "  Downloading sklearn-0.0.post12.tar.gz (2.6 kB)\r\n",
      "  Preparing metadata (setup.py) ... \u001B[?25lerror\r\n",
      "  \u001B[1;31merror\u001B[0m: \u001B[1msubprocess-exited-with-error\u001B[0m\r\n",
      "  \r\n",
      "  \u001B[31m×\u001B[0m \u001B[32mpython setup.py egg_info\u001B[0m did not run successfully.\r\n",
      "  \u001B[31m│\u001B[0m exit code: \u001B[1;36m1\u001B[0m\r\n",
      "  \u001B[31m╰─>\u001B[0m \u001B[31m[15 lines of output]\u001B[0m\r\n",
      "  \u001B[31m   \u001B[0m The 'sklearn' PyPI package is deprecated, use 'scikit-learn'\r\n",
      "  \u001B[31m   \u001B[0m rather than 'sklearn' for pip commands.\r\n",
      "  \u001B[31m   \u001B[0m \r\n",
      "  \u001B[31m   \u001B[0m Here is how to fix this error in the main use cases:\r\n",
      "  \u001B[31m   \u001B[0m - use 'pip install scikit-learn' rather than 'pip install sklearn'\r\n",
      "  \u001B[31m   \u001B[0m - replace 'sklearn' by 'scikit-learn' in your pip requirements files\r\n",
      "  \u001B[31m   \u001B[0m   (requirements.txt, setup.py, setup.cfg, Pipfile, etc ...)\r\n",
      "  \u001B[31m   \u001B[0m - if the 'sklearn' package is used by one of your dependencies,\r\n",
      "  \u001B[31m   \u001B[0m   it would be great if you take some time to track which package uses\r\n",
      "  \u001B[31m   \u001B[0m   'sklearn' instead of 'scikit-learn' and report it to their issue tracker\r\n",
      "  \u001B[31m   \u001B[0m - as a last resort, set the environment variable\r\n",
      "  \u001B[31m   \u001B[0m   SKLEARN_ALLOW_DEPRECATED_SKLEARN_PACKAGE_INSTALL=True to avoid this error\r\n",
      "  \u001B[31m   \u001B[0m \r\n",
      "  \u001B[31m   \u001B[0m More information is available at\r\n",
      "  \u001B[31m   \u001B[0m https://github.com/scikit-learn/sklearn-pypi-package\r\n",
      "  \u001B[31m   \u001B[0m \u001B[31m[end of output]\u001B[0m\r\n",
      "  \r\n",
      "  \u001B[1;35mnote\u001B[0m: This error originates from a subprocess, and is likely not a problem with pip.\r\n",
      "\u001B[1;31merror\u001B[0m: \u001B[1mmetadata-generation-failed\u001B[0m\r\n",
      "\r\n",
      "\u001B[31m×\u001B[0m Encountered error while generating package metadata.\r\n",
      "\u001B[31m╰─>\u001B[0m See above for output.\r\n",
      "\r\n",
      "\u001B[1;35mnote\u001B[0m: This is an issue with the package mentioned above, not pip.\r\n",
      "\u001B[1;36mhint\u001B[0m: See above for details.\r\n",
      "\u001B[?25hRequirement already satisfied: catboost in /opt/homebrew/anaconda3/lib/python3.11/site-packages (1.2.5)\r\n",
      "Requirement already satisfied: graphviz in /opt/homebrew/anaconda3/lib/python3.11/site-packages (from catboost) (0.20.3)\r\n",
      "Requirement already satisfied: matplotlib in /opt/homebrew/anaconda3/lib/python3.11/site-packages (from catboost) (3.7.2)\r\n",
      "Requirement already satisfied: numpy>=1.16.0 in /opt/homebrew/anaconda3/lib/python3.11/site-packages (from catboost) (1.24.3)\r\n",
      "Requirement already satisfied: pandas>=0.24 in /opt/homebrew/anaconda3/lib/python3.11/site-packages (from catboost) (2.0.3)\r\n",
      "Requirement already satisfied: scipy in /opt/homebrew/anaconda3/lib/python3.11/site-packages (from catboost) (1.11.1)\r\n",
      "Requirement already satisfied: plotly in /opt/homebrew/anaconda3/lib/python3.11/site-packages (from catboost) (5.9.0)\r\n",
      "Requirement already satisfied: six in /opt/homebrew/anaconda3/lib/python3.11/site-packages (from catboost) (1.16.0)\r\n",
      "Requirement already satisfied: python-dateutil>=2.8.2 in /opt/homebrew/anaconda3/lib/python3.11/site-packages (from pandas>=0.24->catboost) (2.8.2)\r\n",
      "Requirement already satisfied: pytz>=2020.1 in /opt/homebrew/anaconda3/lib/python3.11/site-packages (from pandas>=0.24->catboost) (2023.3.post1)\r\n",
      "Requirement already satisfied: tzdata>=2022.1 in /opt/homebrew/anaconda3/lib/python3.11/site-packages (from pandas>=0.24->catboost) (2023.3)\r\n",
      "Requirement already satisfied: contourpy>=1.0.1 in /opt/homebrew/anaconda3/lib/python3.11/site-packages (from matplotlib->catboost) (1.0.5)\r\n",
      "Requirement already satisfied: cycler>=0.10 in /opt/homebrew/anaconda3/lib/python3.11/site-packages (from matplotlib->catboost) (0.11.0)\r\n",
      "Requirement already satisfied: fonttools>=4.22.0 in /opt/homebrew/anaconda3/lib/python3.11/site-packages (from matplotlib->catboost) (4.25.0)\r\n",
      "Requirement already satisfied: kiwisolver>=1.0.1 in /opt/homebrew/anaconda3/lib/python3.11/site-packages (from matplotlib->catboost) (1.4.4)\r\n",
      "Requirement already satisfied: packaging>=20.0 in /opt/homebrew/anaconda3/lib/python3.11/site-packages (from matplotlib->catboost) (23.1)\r\n",
      "Requirement already satisfied: pillow>=6.2.0 in /opt/homebrew/anaconda3/lib/python3.11/site-packages (from matplotlib->catboost) (9.4.0)\r\n",
      "Requirement already satisfied: pyparsing<3.1,>=2.3.1 in /opt/homebrew/anaconda3/lib/python3.11/site-packages (from matplotlib->catboost) (3.0.9)\r\n",
      "Requirement already satisfied: tenacity>=6.2.0 in /opt/homebrew/anaconda3/lib/python3.11/site-packages (from plotly->catboost) (8.2.2)\r\n"
     ]
    }
   ],
   "source": [
    "!pip install pandas\n",
    "!pip install sklearn\n",
    "!pip install catboost"
   ],
   "metadata": {
    "collapsed": false,
    "ExecuteTime": {
     "end_time": "2024-07-25T07:21:26.916960Z",
     "start_time": "2024-07-25T07:21:17.660120Z"
    }
   },
   "id": "d1f9ab9da1079246",
   "execution_count": 27
  },
  {
   "cell_type": "code",
   "execution_count": 37,
   "id": "initial_id",
   "metadata": {
    "collapsed": true,
    "ExecuteTime": {
     "end_time": "2024-07-25T07:28:41.825223Z",
     "start_time": "2024-07-25T07:28:41.821481Z"
    }
   },
   "outputs": [],
   "source": [
    "import pandas as pd \n",
    "from sklearn.model_selection import train_test_split\n",
    "from catboost import CatBoostClassifier"
   ]
  },
  {
   "cell_type": "code",
   "outputs": [
    {
     "data": {
      "text/plain": "     PassengerId  Survived  Pclass  \\\n0              1         0       3   \n1              2         1       1   \n2              3         1       3   \n3              4         1       1   \n4              5         0       3   \n..           ...       ...     ...   \n886          887         0       2   \n887          888         1       1   \n888          889         0       3   \n889          890         1       1   \n890          891         0       3   \n\n                                                  Name     Sex   Age  SibSp  \\\n0                              Braund, Mr. Owen Harris    male  22.0      1   \n1    Cumings, Mrs. John Bradley (Florence Briggs Th...  female  38.0      1   \n2                               Heikkinen, Miss. Laina  female  26.0      0   \n3         Futrelle, Mrs. Jacques Heath (Lily May Peel)  female  35.0      1   \n4                             Allen, Mr. William Henry    male  35.0      0   \n..                                                 ...     ...   ...    ...   \n886                              Montvila, Rev. Juozas    male  27.0      0   \n887                       Graham, Miss. Margaret Edith  female  19.0      0   \n888           Johnston, Miss. Catherine Helen \"Carrie\"  female   NaN      1   \n889                              Behr, Mr. Karl Howell    male  26.0      0   \n890                                Dooley, Mr. Patrick    male  32.0      0   \n\n     Parch            Ticket     Fare Cabin Embarked  \n0        0         A/5 21171   7.2500   NaN        S  \n1        0          PC 17599  71.2833   C85        C  \n2        0  STON/O2. 3101282   7.9250   NaN        S  \n3        0            113803  53.1000  C123        S  \n4        0            373450   8.0500   NaN        S  \n..     ...               ...      ...   ...      ...  \n886      0            211536  13.0000   NaN        S  \n887      0            112053  30.0000   B42        S  \n888      2        W./C. 6607  23.4500   NaN        S  \n889      0            111369  30.0000  C148        C  \n890      0            370376   7.7500   NaN        Q  \n\n[891 rows x 12 columns]",
      "text/html": "<div>\n<style scoped>\n    .dataframe tbody tr th:only-of-type {\n        vertical-align: middle;\n    }\n\n    .dataframe tbody tr th {\n        vertical-align: top;\n    }\n\n    .dataframe thead th {\n        text-align: right;\n    }\n</style>\n<table border=\"1\" class=\"dataframe\">\n  <thead>\n    <tr style=\"text-align: right;\">\n      <th></th>\n      <th>PassengerId</th>\n      <th>Survived</th>\n      <th>Pclass</th>\n      <th>Name</th>\n      <th>Sex</th>\n      <th>Age</th>\n      <th>SibSp</th>\n      <th>Parch</th>\n      <th>Ticket</th>\n      <th>Fare</th>\n      <th>Cabin</th>\n      <th>Embarked</th>\n    </tr>\n  </thead>\n  <tbody>\n    <tr>\n      <th>0</th>\n      <td>1</td>\n      <td>0</td>\n      <td>3</td>\n      <td>Braund, Mr. Owen Harris</td>\n      <td>male</td>\n      <td>22.0</td>\n      <td>1</td>\n      <td>0</td>\n      <td>A/5 21171</td>\n      <td>7.2500</td>\n      <td>NaN</td>\n      <td>S</td>\n    </tr>\n    <tr>\n      <th>1</th>\n      <td>2</td>\n      <td>1</td>\n      <td>1</td>\n      <td>Cumings, Mrs. John Bradley (Florence Briggs Th...</td>\n      <td>female</td>\n      <td>38.0</td>\n      <td>1</td>\n      <td>0</td>\n      <td>PC 17599</td>\n      <td>71.2833</td>\n      <td>C85</td>\n      <td>C</td>\n    </tr>\n    <tr>\n      <th>2</th>\n      <td>3</td>\n      <td>1</td>\n      <td>3</td>\n      <td>Heikkinen, Miss. Laina</td>\n      <td>female</td>\n      <td>26.0</td>\n      <td>0</td>\n      <td>0</td>\n      <td>STON/O2. 3101282</td>\n      <td>7.9250</td>\n      <td>NaN</td>\n      <td>S</td>\n    </tr>\n    <tr>\n      <th>3</th>\n      <td>4</td>\n      <td>1</td>\n      <td>1</td>\n      <td>Futrelle, Mrs. Jacques Heath (Lily May Peel)</td>\n      <td>female</td>\n      <td>35.0</td>\n      <td>1</td>\n      <td>0</td>\n      <td>113803</td>\n      <td>53.1000</td>\n      <td>C123</td>\n      <td>S</td>\n    </tr>\n    <tr>\n      <th>4</th>\n      <td>5</td>\n      <td>0</td>\n      <td>3</td>\n      <td>Allen, Mr. William Henry</td>\n      <td>male</td>\n      <td>35.0</td>\n      <td>0</td>\n      <td>0</td>\n      <td>373450</td>\n      <td>8.0500</td>\n      <td>NaN</td>\n      <td>S</td>\n    </tr>\n    <tr>\n      <th>...</th>\n      <td>...</td>\n      <td>...</td>\n      <td>...</td>\n      <td>...</td>\n      <td>...</td>\n      <td>...</td>\n      <td>...</td>\n      <td>...</td>\n      <td>...</td>\n      <td>...</td>\n      <td>...</td>\n      <td>...</td>\n    </tr>\n    <tr>\n      <th>886</th>\n      <td>887</td>\n      <td>0</td>\n      <td>2</td>\n      <td>Montvila, Rev. Juozas</td>\n      <td>male</td>\n      <td>27.0</td>\n      <td>0</td>\n      <td>0</td>\n      <td>211536</td>\n      <td>13.0000</td>\n      <td>NaN</td>\n      <td>S</td>\n    </tr>\n    <tr>\n      <th>887</th>\n      <td>888</td>\n      <td>1</td>\n      <td>1</td>\n      <td>Graham, Miss. Margaret Edith</td>\n      <td>female</td>\n      <td>19.0</td>\n      <td>0</td>\n      <td>0</td>\n      <td>112053</td>\n      <td>30.0000</td>\n      <td>B42</td>\n      <td>S</td>\n    </tr>\n    <tr>\n      <th>888</th>\n      <td>889</td>\n      <td>0</td>\n      <td>3</td>\n      <td>Johnston, Miss. Catherine Helen \"Carrie\"</td>\n      <td>female</td>\n      <td>NaN</td>\n      <td>1</td>\n      <td>2</td>\n      <td>W./C. 6607</td>\n      <td>23.4500</td>\n      <td>NaN</td>\n      <td>S</td>\n    </tr>\n    <tr>\n      <th>889</th>\n      <td>890</td>\n      <td>1</td>\n      <td>1</td>\n      <td>Behr, Mr. Karl Howell</td>\n      <td>male</td>\n      <td>26.0</td>\n      <td>0</td>\n      <td>0</td>\n      <td>111369</td>\n      <td>30.0000</td>\n      <td>C148</td>\n      <td>C</td>\n    </tr>\n    <tr>\n      <th>890</th>\n      <td>891</td>\n      <td>0</td>\n      <td>3</td>\n      <td>Dooley, Mr. Patrick</td>\n      <td>male</td>\n      <td>32.0</td>\n      <td>0</td>\n      <td>0</td>\n      <td>370376</td>\n      <td>7.7500</td>\n      <td>NaN</td>\n      <td>Q</td>\n    </tr>\n  </tbody>\n</table>\n<p>891 rows × 12 columns</p>\n</div>"
     },
     "execution_count": 38,
     "metadata": {},
     "output_type": "execute_result"
    }
   ],
   "source": [
    "train_df = pd.read_csv('data/train.csv')\n",
    "train_df"
   ],
   "metadata": {
    "collapsed": false,
    "ExecuteTime": {
     "end_time": "2024-07-25T07:28:42.384436Z",
     "start_time": "2024-07-25T07:28:42.374669Z"
    }
   },
   "id": "2e3ab3377a71cf0f",
   "execution_count": 38
  },
  {
   "cell_type": "code",
   "outputs": [
    {
     "name": "stdout",
     "output_type": "stream",
     "text": [
      "<class 'pandas.core.frame.DataFrame'>\n",
      "RangeIndex: 891 entries, 0 to 890\n",
      "Data columns (total 12 columns):\n",
      " #   Column       Non-Null Count  Dtype  \n",
      "---  ------       --------------  -----  \n",
      " 0   PassengerId  891 non-null    int64  \n",
      " 1   Survived     891 non-null    int64  \n",
      " 2   Pclass       891 non-null    int64  \n",
      " 3   Name         891 non-null    object \n",
      " 4   Sex          891 non-null    object \n",
      " 5   Age          714 non-null    float64\n",
      " 6   SibSp        891 non-null    int64  \n",
      " 7   Parch        891 non-null    int64  \n",
      " 8   Ticket       891 non-null    object \n",
      " 9   Fare         891 non-null    float64\n",
      " 10  Cabin        204 non-null    object \n",
      " 11  Embarked     889 non-null    object \n",
      "dtypes: float64(2), int64(5), object(5)\n",
      "memory usage: 83.7+ KB\n"
     ]
    }
   ],
   "source": [
    "train_df.info()"
   ],
   "metadata": {
    "collapsed": false,
    "ExecuteTime": {
     "end_time": "2024-07-25T07:28:43.207735Z",
     "start_time": "2024-07-25T07:28:43.202966Z"
    }
   },
   "id": "d7e8f498fd428e1c",
   "execution_count": 39
  },
  {
   "cell_type": "code",
   "outputs": [
    {
     "data": {
      "text/plain": "       PassengerId    Survived      Pclass         Age       SibSp  \\\ncount   891.000000  891.000000  891.000000  714.000000  891.000000   \nmean    446.000000    0.383838    2.308642   29.699118    0.523008   \nstd     257.353842    0.486592    0.836071   14.526497    1.102743   \nmin       1.000000    0.000000    1.000000    0.420000    0.000000   \n25%     223.500000    0.000000    2.000000   20.125000    0.000000   \n50%     446.000000    0.000000    3.000000   28.000000    0.000000   \n75%     668.500000    1.000000    3.000000   38.000000    1.000000   \nmax     891.000000    1.000000    3.000000   80.000000    8.000000   \n\n            Parch        Fare  \ncount  891.000000  891.000000  \nmean     0.381594   32.204208  \nstd      0.806057   49.693429  \nmin      0.000000    0.000000  \n25%      0.000000    7.910400  \n50%      0.000000   14.454200  \n75%      0.000000   31.000000  \nmax      6.000000  512.329200  ",
      "text/html": "<div>\n<style scoped>\n    .dataframe tbody tr th:only-of-type {\n        vertical-align: middle;\n    }\n\n    .dataframe tbody tr th {\n        vertical-align: top;\n    }\n\n    .dataframe thead th {\n        text-align: right;\n    }\n</style>\n<table border=\"1\" class=\"dataframe\">\n  <thead>\n    <tr style=\"text-align: right;\">\n      <th></th>\n      <th>PassengerId</th>\n      <th>Survived</th>\n      <th>Pclass</th>\n      <th>Age</th>\n      <th>SibSp</th>\n      <th>Parch</th>\n      <th>Fare</th>\n    </tr>\n  </thead>\n  <tbody>\n    <tr>\n      <th>count</th>\n      <td>891.000000</td>\n      <td>891.000000</td>\n      <td>891.000000</td>\n      <td>714.000000</td>\n      <td>891.000000</td>\n      <td>891.000000</td>\n      <td>891.000000</td>\n    </tr>\n    <tr>\n      <th>mean</th>\n      <td>446.000000</td>\n      <td>0.383838</td>\n      <td>2.308642</td>\n      <td>29.699118</td>\n      <td>0.523008</td>\n      <td>0.381594</td>\n      <td>32.204208</td>\n    </tr>\n    <tr>\n      <th>std</th>\n      <td>257.353842</td>\n      <td>0.486592</td>\n      <td>0.836071</td>\n      <td>14.526497</td>\n      <td>1.102743</td>\n      <td>0.806057</td>\n      <td>49.693429</td>\n    </tr>\n    <tr>\n      <th>min</th>\n      <td>1.000000</td>\n      <td>0.000000</td>\n      <td>1.000000</td>\n      <td>0.420000</td>\n      <td>0.000000</td>\n      <td>0.000000</td>\n      <td>0.000000</td>\n    </tr>\n    <tr>\n      <th>25%</th>\n      <td>223.500000</td>\n      <td>0.000000</td>\n      <td>2.000000</td>\n      <td>20.125000</td>\n      <td>0.000000</td>\n      <td>0.000000</td>\n      <td>7.910400</td>\n    </tr>\n    <tr>\n      <th>50%</th>\n      <td>446.000000</td>\n      <td>0.000000</td>\n      <td>3.000000</td>\n      <td>28.000000</td>\n      <td>0.000000</td>\n      <td>0.000000</td>\n      <td>14.454200</td>\n    </tr>\n    <tr>\n      <th>75%</th>\n      <td>668.500000</td>\n      <td>1.000000</td>\n      <td>3.000000</td>\n      <td>38.000000</td>\n      <td>1.000000</td>\n      <td>0.000000</td>\n      <td>31.000000</td>\n    </tr>\n    <tr>\n      <th>max</th>\n      <td>891.000000</td>\n      <td>1.000000</td>\n      <td>3.000000</td>\n      <td>80.000000</td>\n      <td>8.000000</td>\n      <td>6.000000</td>\n      <td>512.329200</td>\n    </tr>\n  </tbody>\n</table>\n</div>"
     },
     "execution_count": 40,
     "metadata": {},
     "output_type": "execute_result"
    }
   ],
   "source": [
    "train_df.describe()"
   ],
   "metadata": {
    "collapsed": false,
    "ExecuteTime": {
     "end_time": "2024-07-25T07:28:43.857064Z",
     "start_time": "2024-07-25T07:28:43.848246Z"
    }
   },
   "id": "b61c890b67666504",
   "execution_count": 40
  },
  {
   "cell_type": "code",
   "outputs": [
    {
     "data": {
      "text/plain": "PassengerId      0\nSurvived         0\nPclass           0\nName             0\nSex              0\nAge            177\nSibSp            0\nParch            0\nTicket           0\nFare             0\nCabin          687\nEmbarked         2\ndtype: int64"
     },
     "execution_count": 41,
     "metadata": {},
     "output_type": "execute_result"
    }
   ],
   "source": [
    "train_df.isnull().sum()"
   ],
   "metadata": {
    "collapsed": false,
    "ExecuteTime": {
     "end_time": "2024-07-25T07:28:44.528552Z",
     "start_time": "2024-07-25T07:28:44.525781Z"
    }
   },
   "id": "be28a8f147f510e3",
   "execution_count": 41
  },
  {
   "cell_type": "code",
   "outputs": [],
   "source": [
    "target = ['Survived']\n",
    "features = ['Pclass', 'Sex', 'Age', 'Fare']"
   ],
   "metadata": {
    "collapsed": false,
    "ExecuteTime": {
     "end_time": "2024-07-25T07:28:45.647479Z",
     "start_time": "2024-07-25T07:28:45.645763Z"
    }
   },
   "id": "2de605fb848b95e7",
   "execution_count": 42
  },
  {
   "cell_type": "code",
   "outputs": [],
   "source": [
    "X = train_df[features]\n",
    "y = train_df[target]"
   ],
   "metadata": {
    "collapsed": false,
    "ExecuteTime": {
     "end_time": "2024-07-25T07:28:46.514159Z",
     "start_time": "2024-07-25T07:28:46.507697Z"
    }
   },
   "id": "d280ab95bc5c5f1e",
   "execution_count": 43
  },
  {
   "cell_type": "code",
   "outputs": [
    {
     "name": "stdout",
     "output_type": "stream",
     "text": [
      "Age 177\n"
     ]
    }
   ],
   "source": [
    "for feature in features:\n",
    "    if X[feature].isnull().sum() != 0:\n",
    "        print(feature, X[feature].isnull().sum())"
   ],
   "metadata": {
    "collapsed": false,
    "ExecuteTime": {
     "end_time": "2024-07-25T07:28:46.851943Z",
     "start_time": "2024-07-25T07:28:46.848416Z"
    }
   },
   "id": "da91c4f9cb5b074a",
   "execution_count": 44
  },
  {
   "cell_type": "code",
   "outputs": [
    {
     "name": "stderr",
     "output_type": "stream",
     "text": [
      "/var/folders/2t/hqc5fcbd6931nt_0wxntlmyr0000gn/T/ipykernel_63683/598861733.py:1: SettingWithCopyWarning: \n",
      "A value is trying to be set on a copy of a slice from a DataFrame.\n",
      "Try using .loc[row_indexer,col_indexer] = value instead\n",
      "\n",
      "See the caveats in the documentation: https://pandas.pydata.org/pandas-docs/stable/user_guide/indexing.html#returning-a-view-versus-a-copy\n",
      "  X['Age'] = X['Age'].fillna(X['Age'].median())\n"
     ]
    },
    {
     "data": {
      "text/plain": "0"
     },
     "execution_count": 51,
     "metadata": {},
     "output_type": "execute_result"
    }
   ],
   "source": [
    "X['Age'] = X['Age'].fillna(X['Age'].median())\n",
    "X['Age'].isnull().sum()"
   ],
   "metadata": {
    "collapsed": false,
    "ExecuteTime": {
     "end_time": "2024-07-25T07:29:03.677103Z",
     "start_time": "2024-07-25T07:29:03.662429Z"
    }
   },
   "id": "9dcc2620a43060ac",
   "execution_count": 51
  },
  {
   "cell_type": "code",
   "outputs": [
    {
     "ename": "KeyError",
     "evalue": "0",
     "output_type": "error",
     "traceback": [
      "\u001B[0;31m---------------------------------------------------------------------------\u001B[0m",
      "\u001B[0;31mKeyError\u001B[0m                                  Traceback (most recent call last)",
      "Cell \u001B[0;32mIn[52], line 2\u001B[0m\n\u001B[1;32m      1\u001B[0m dictionary \u001B[38;5;241m=\u001B[39m {\u001B[38;5;124m'\u001B[39m\u001B[38;5;124mmale\u001B[39m\u001B[38;5;124m'\u001B[39m: \u001B[38;5;241m0\u001B[39m, \u001B[38;5;124m'\u001B[39m\u001B[38;5;124mfemale\u001B[39m\u001B[38;5;124m'\u001B[39m: \u001B[38;5;241m1\u001B[39m}\n\u001B[0;32m----> 2\u001B[0m X[\u001B[38;5;124m'\u001B[39m\u001B[38;5;124mSex\u001B[39m\u001B[38;5;124m'\u001B[39m] \u001B[38;5;241m=\u001B[39m X[\u001B[38;5;124m'\u001B[39m\u001B[38;5;124mSex\u001B[39m\u001B[38;5;124m'\u001B[39m]\u001B[38;5;241m.\u001B[39mapply(\u001B[38;5;28;01mlambda\u001B[39;00m x: dictionary[x])\n",
      "File \u001B[0;32m/opt/homebrew/anaconda3/lib/python3.11/site-packages/pandas/core/series.py:4630\u001B[0m, in \u001B[0;36mSeries.apply\u001B[0;34m(self, func, convert_dtype, args, **kwargs)\u001B[0m\n\u001B[1;32m   4520\u001B[0m \u001B[38;5;28;01mdef\u001B[39;00m \u001B[38;5;21mapply\u001B[39m(\n\u001B[1;32m   4521\u001B[0m     \u001B[38;5;28mself\u001B[39m,\n\u001B[1;32m   4522\u001B[0m     func: AggFuncType,\n\u001B[0;32m   (...)\u001B[0m\n\u001B[1;32m   4525\u001B[0m     \u001B[38;5;241m*\u001B[39m\u001B[38;5;241m*\u001B[39mkwargs,\n\u001B[1;32m   4526\u001B[0m ) \u001B[38;5;241m-\u001B[39m\u001B[38;5;241m>\u001B[39m DataFrame \u001B[38;5;241m|\u001B[39m Series:\n\u001B[1;32m   4527\u001B[0m \u001B[38;5;250m    \u001B[39m\u001B[38;5;124;03m\"\"\"\u001B[39;00m\n\u001B[1;32m   4528\u001B[0m \u001B[38;5;124;03m    Invoke function on values of Series.\u001B[39;00m\n\u001B[1;32m   4529\u001B[0m \n\u001B[0;32m   (...)\u001B[0m\n\u001B[1;32m   4628\u001B[0m \u001B[38;5;124;03m    dtype: float64\u001B[39;00m\n\u001B[1;32m   4629\u001B[0m \u001B[38;5;124;03m    \"\"\"\u001B[39;00m\n\u001B[0;32m-> 4630\u001B[0m     \u001B[38;5;28;01mreturn\u001B[39;00m SeriesApply(\u001B[38;5;28mself\u001B[39m, func, convert_dtype, args, kwargs)\u001B[38;5;241m.\u001B[39mapply()\n",
      "File \u001B[0;32m/opt/homebrew/anaconda3/lib/python3.11/site-packages/pandas/core/apply.py:1025\u001B[0m, in \u001B[0;36mSeriesApply.apply\u001B[0;34m(self)\u001B[0m\n\u001B[1;32m   1022\u001B[0m     \u001B[38;5;28;01mreturn\u001B[39;00m \u001B[38;5;28mself\u001B[39m\u001B[38;5;241m.\u001B[39mapply_str()\n\u001B[1;32m   1024\u001B[0m \u001B[38;5;66;03m# self.f is Callable\u001B[39;00m\n\u001B[0;32m-> 1025\u001B[0m \u001B[38;5;28;01mreturn\u001B[39;00m \u001B[38;5;28mself\u001B[39m\u001B[38;5;241m.\u001B[39mapply_standard()\n",
      "File \u001B[0;32m/opt/homebrew/anaconda3/lib/python3.11/site-packages/pandas/core/apply.py:1076\u001B[0m, in \u001B[0;36mSeriesApply.apply_standard\u001B[0;34m(self)\u001B[0m\n\u001B[1;32m   1074\u001B[0m     \u001B[38;5;28;01melse\u001B[39;00m:\n\u001B[1;32m   1075\u001B[0m         values \u001B[38;5;241m=\u001B[39m obj\u001B[38;5;241m.\u001B[39mastype(\u001B[38;5;28mobject\u001B[39m)\u001B[38;5;241m.\u001B[39m_values\n\u001B[0;32m-> 1076\u001B[0m         mapped \u001B[38;5;241m=\u001B[39m lib\u001B[38;5;241m.\u001B[39mmap_infer(\n\u001B[1;32m   1077\u001B[0m             values,\n\u001B[1;32m   1078\u001B[0m             f,\n\u001B[1;32m   1079\u001B[0m             convert\u001B[38;5;241m=\u001B[39m\u001B[38;5;28mself\u001B[39m\u001B[38;5;241m.\u001B[39mconvert_dtype,\n\u001B[1;32m   1080\u001B[0m         )\n\u001B[1;32m   1082\u001B[0m \u001B[38;5;28;01mif\u001B[39;00m \u001B[38;5;28mlen\u001B[39m(mapped) \u001B[38;5;129;01mand\u001B[39;00m \u001B[38;5;28misinstance\u001B[39m(mapped[\u001B[38;5;241m0\u001B[39m], ABCSeries):\n\u001B[1;32m   1083\u001B[0m     \u001B[38;5;66;03m# GH#43986 Need to do list(mapped) in order to get treated as nested\u001B[39;00m\n\u001B[1;32m   1084\u001B[0m     \u001B[38;5;66;03m#  See also GH#25959 regarding EA support\u001B[39;00m\n\u001B[1;32m   1085\u001B[0m     \u001B[38;5;28;01mreturn\u001B[39;00m obj\u001B[38;5;241m.\u001B[39m_constructor_expanddim(\u001B[38;5;28mlist\u001B[39m(mapped), index\u001B[38;5;241m=\u001B[39mobj\u001B[38;5;241m.\u001B[39mindex)\n",
      "File \u001B[0;32m/opt/homebrew/anaconda3/lib/python3.11/site-packages/pandas/_libs/lib.pyx:2834\u001B[0m, in \u001B[0;36mpandas._libs.lib.map_infer\u001B[0;34m()\u001B[0m\n",
      "Cell \u001B[0;32mIn[52], line 2\u001B[0m, in \u001B[0;36m<lambda>\u001B[0;34m(x)\u001B[0m\n\u001B[1;32m      1\u001B[0m dictionary \u001B[38;5;241m=\u001B[39m {\u001B[38;5;124m'\u001B[39m\u001B[38;5;124mmale\u001B[39m\u001B[38;5;124m'\u001B[39m: \u001B[38;5;241m0\u001B[39m, \u001B[38;5;124m'\u001B[39m\u001B[38;5;124mfemale\u001B[39m\u001B[38;5;124m'\u001B[39m: \u001B[38;5;241m1\u001B[39m}\n\u001B[0;32m----> 2\u001B[0m X[\u001B[38;5;124m'\u001B[39m\u001B[38;5;124mSex\u001B[39m\u001B[38;5;124m'\u001B[39m] \u001B[38;5;241m=\u001B[39m X[\u001B[38;5;124m'\u001B[39m\u001B[38;5;124mSex\u001B[39m\u001B[38;5;124m'\u001B[39m]\u001B[38;5;241m.\u001B[39mapply(\u001B[38;5;28;01mlambda\u001B[39;00m x: dictionary[x])\n",
      "\u001B[0;31mKeyError\u001B[0m: 0"
     ]
    }
   ],
   "source": [
    "dictionary = {'male': 0, 'female': 1}\n",
    "X['Sex'] = X['Sex'].apply(lambda x: dictionary[x])"
   ],
   "metadata": {
    "collapsed": false,
    "ExecuteTime": {
     "end_time": "2024-07-25T07:29:03.964872Z",
     "start_time": "2024-07-25T07:29:03.927848Z"
    }
   },
   "id": "73527890308df1f7",
   "execution_count": 52
  },
  {
   "cell_type": "code",
   "outputs": [
    {
     "data": {
      "text/plain": "count    891.000000\nmean       0.352413\nstd        0.477990\nmin        0.000000\n25%        0.000000\n50%        0.000000\n75%        1.000000\nmax        1.000000\nName: Sex, dtype: float64"
     },
     "execution_count": 53,
     "metadata": {},
     "output_type": "execute_result"
    }
   ],
   "source": [
    "X['Sex'].describe()"
   ],
   "metadata": {
    "collapsed": false,
    "ExecuteTime": {
     "end_time": "2024-07-25T07:29:04.323026Z",
     "start_time": "2024-07-25T07:29:04.315788Z"
    }
   },
   "id": "44fbf414f9176114",
   "execution_count": 53
  },
  {
   "cell_type": "code",
   "outputs": [
    {
     "data": {
      "text/plain": "MetricVisualizer(layout=Layout(align_self='stretch', height='500px'))",
      "application/vnd.jupyter.widget-view+json": {
       "version_major": 2,
       "version_minor": 0,
       "model_id": "2505b54a38db48709ab47b0862a10d64"
      }
     },
     "metadata": {},
     "output_type": "display_data"
    },
    {
     "name": "stdout",
     "output_type": "stream",
     "text": [
      "Learning rate set to 0.004942\n",
      "0:\tlearn: 0.6894988\ttotal: 1.01ms\tremaining: 1.01s\n",
      "1:\tlearn: 0.6876329\ttotal: 1.26ms\tremaining: 629ms\n",
      "2:\tlearn: 0.6843598\ttotal: 1.74ms\tremaining: 578ms\n",
      "3:\tlearn: 0.6820328\ttotal: 1.97ms\tremaining: 491ms\n",
      "4:\tlearn: 0.6793555\ttotal: 2.21ms\tremaining: 441ms\n",
      "5:\tlearn: 0.6759730\ttotal: 2.54ms\tremaining: 422ms\n",
      "6:\tlearn: 0.6728542\ttotal: 3.15ms\tremaining: 447ms\n",
      "7:\tlearn: 0.6702524\ttotal: 3.64ms\tremaining: 451ms\n",
      "8:\tlearn: 0.6675329\ttotal: 4ms\tremaining: 440ms\n",
      "9:\tlearn: 0.6649519\ttotal: 4.33ms\tremaining: 428ms\n",
      "10:\tlearn: 0.6621227\ttotal: 4.62ms\tremaining: 415ms\n",
      "11:\tlearn: 0.6586555\ttotal: 4.95ms\tremaining: 407ms\n",
      "12:\tlearn: 0.6565582\ttotal: 5.14ms\tremaining: 391ms\n",
      "13:\tlearn: 0.6535990\ttotal: 5.47ms\tremaining: 385ms\n",
      "14:\tlearn: 0.6512131\ttotal: 5.66ms\tremaining: 372ms\n",
      "15:\tlearn: 0.6484068\ttotal: 5.95ms\tremaining: 366ms\n",
      "16:\tlearn: 0.6468479\ttotal: 6.14ms\tremaining: 355ms\n",
      "17:\tlearn: 0.6444163\ttotal: 6.37ms\tremaining: 347ms\n",
      "18:\tlearn: 0.6412334\ttotal: 6.77ms\tremaining: 350ms\n",
      "19:\tlearn: 0.6383386\ttotal: 7.04ms\tremaining: 345ms\n",
      "20:\tlearn: 0.6357454\ttotal: 7.26ms\tremaining: 339ms\n",
      "21:\tlearn: 0.6338160\ttotal: 7.47ms\tremaining: 332ms\n",
      "22:\tlearn: 0.6313740\ttotal: 7.71ms\tremaining: 328ms\n",
      "23:\tlearn: 0.6288551\ttotal: 8.01ms\tremaining: 326ms\n",
      "24:\tlearn: 0.6267328\ttotal: 8.21ms\tremaining: 320ms\n",
      "25:\tlearn: 0.6249876\ttotal: 8.46ms\tremaining: 317ms\n",
      "26:\tlearn: 0.6227433\ttotal: 8.77ms\tremaining: 316ms\n",
      "27:\tlearn: 0.6204614\ttotal: 9.33ms\tremaining: 324ms\n",
      "28:\tlearn: 0.6180672\ttotal: 9.68ms\tremaining: 324ms\n",
      "29:\tlearn: 0.6158197\ttotal: 10.1ms\tremaining: 325ms\n",
      "30:\tlearn: 0.6145067\ttotal: 10.2ms\tremaining: 320ms\n",
      "31:\tlearn: 0.6122604\ttotal: 10.5ms\tremaining: 316ms\n",
      "32:\tlearn: 0.6105694\ttotal: 10.8ms\tremaining: 316ms\n",
      "33:\tlearn: 0.6085250\ttotal: 11ms\tremaining: 314ms\n",
      "34:\tlearn: 0.6057472\ttotal: 11.3ms\tremaining: 313ms\n",
      "35:\tlearn: 0.6035240\ttotal: 11.6ms\tremaining: 311ms\n",
      "36:\tlearn: 0.6019699\ttotal: 11.9ms\tremaining: 310ms\n",
      "37:\tlearn: 0.5993799\ttotal: 12.2ms\tremaining: 309ms\n",
      "38:\tlearn: 0.5978275\ttotal: 12.5ms\tremaining: 307ms\n",
      "39:\tlearn: 0.5966481\ttotal: 12.6ms\tremaining: 303ms\n",
      "40:\tlearn: 0.5947645\ttotal: 12.8ms\tremaining: 300ms\n",
      "41:\tlearn: 0.5922094\ttotal: 13.2ms\tremaining: 300ms\n",
      "42:\tlearn: 0.5910719\ttotal: 13.3ms\tremaining: 297ms\n",
      "43:\tlearn: 0.5888722\ttotal: 13.8ms\tremaining: 299ms\n",
      "44:\tlearn: 0.5871626\ttotal: 14.1ms\tremaining: 298ms\n",
      "45:\tlearn: 0.5860643\ttotal: 14.2ms\tremaining: 295ms\n",
      "46:\tlearn: 0.5844813\ttotal: 14.5ms\tremaining: 295ms\n",
      "47:\tlearn: 0.5828210\ttotal: 14.8ms\tremaining: 293ms\n",
      "48:\tlearn: 0.5813099\ttotal: 15ms\tremaining: 291ms\n",
      "49:\tlearn: 0.5787177\ttotal: 15.3ms\tremaining: 291ms\n",
      "50:\tlearn: 0.5773529\ttotal: 15.6ms\tremaining: 290ms\n",
      "51:\tlearn: 0.5761997\ttotal: 15.8ms\tremaining: 289ms\n",
      "52:\tlearn: 0.5745156\ttotal: 16.1ms\tremaining: 288ms\n",
      "53:\tlearn: 0.5730270\ttotal: 16.4ms\tremaining: 287ms\n",
      "54:\tlearn: 0.5706150\ttotal: 16.6ms\tremaining: 285ms\n",
      "55:\tlearn: 0.5694634\ttotal: 16.9ms\tremaining: 286ms\n",
      "56:\tlearn: 0.5684992\ttotal: 17.1ms\tremaining: 283ms\n",
      "57:\tlearn: 0.5669079\ttotal: 17.4ms\tremaining: 283ms\n",
      "58:\tlearn: 0.5653219\ttotal: 17.7ms\tremaining: 282ms\n",
      "59:\tlearn: 0.5643913\ttotal: 17.9ms\tremaining: 280ms\n",
      "60:\tlearn: 0.5632427\ttotal: 18.1ms\tremaining: 279ms\n",
      "61:\tlearn: 0.5613714\ttotal: 18.5ms\tremaining: 280ms\n",
      "62:\tlearn: 0.5594565\ttotal: 18.7ms\tremaining: 278ms\n",
      "63:\tlearn: 0.5578948\ttotal: 19ms\tremaining: 277ms\n",
      "64:\tlearn: 0.5560214\ttotal: 19.3ms\tremaining: 278ms\n",
      "65:\tlearn: 0.5551556\ttotal: 19.5ms\tremaining: 275ms\n",
      "66:\tlearn: 0.5539333\ttotal: 19.7ms\tremaining: 274ms\n",
      "67:\tlearn: 0.5527390\ttotal: 19.9ms\tremaining: 273ms\n",
      "68:\tlearn: 0.5517354\ttotal: 20.1ms\tremaining: 272ms\n",
      "69:\tlearn: 0.5498128\ttotal: 20.4ms\tremaining: 271ms\n",
      "70:\tlearn: 0.5489662\ttotal: 20.6ms\tremaining: 269ms\n",
      "71:\tlearn: 0.5468420\ttotal: 20.8ms\tremaining: 268ms\n",
      "72:\tlearn: 0.5460450\ttotal: 21ms\tremaining: 266ms\n",
      "73:\tlearn: 0.5452565\ttotal: 21.1ms\tremaining: 264ms\n",
      "74:\tlearn: 0.5444757\ttotal: 21.2ms\tremaining: 262ms\n",
      "75:\tlearn: 0.5431025\ttotal: 21.5ms\tremaining: 261ms\n",
      "76:\tlearn: 0.5422745\ttotal: 21.7ms\tremaining: 260ms\n",
      "77:\tlearn: 0.5412410\ttotal: 21.8ms\tremaining: 258ms\n",
      "78:\tlearn: 0.5399337\ttotal: 22.1ms\tremaining: 258ms\n",
      "79:\tlearn: 0.5383216\ttotal: 22.4ms\tremaining: 257ms\n",
      "80:\tlearn: 0.5364563\ttotal: 22.7ms\tremaining: 257ms\n",
      "81:\tlearn: 0.5352253\ttotal: 22.9ms\tremaining: 257ms\n",
      "82:\tlearn: 0.5338050\ttotal: 23.1ms\tremaining: 255ms\n",
      "83:\tlearn: 0.5323005\ttotal: 23.3ms\tremaining: 254ms\n",
      "84:\tlearn: 0.5306301\ttotal: 23.6ms\tremaining: 254ms\n",
      "85:\tlearn: 0.5292967\ttotal: 23.8ms\tremaining: 253ms\n",
      "86:\tlearn: 0.5286215\ttotal: 24ms\tremaining: 251ms\n",
      "87:\tlearn: 0.5266806\ttotal: 24.2ms\tremaining: 251ms\n",
      "88:\tlearn: 0.5250335\ttotal: 24.5ms\tremaining: 251ms\n",
      "89:\tlearn: 0.5241506\ttotal: 24.7ms\tremaining: 250ms\n",
      "90:\tlearn: 0.5234111\ttotal: 24.9ms\tremaining: 249ms\n",
      "91:\tlearn: 0.5217300\ttotal: 25.1ms\tremaining: 248ms\n",
      "92:\tlearn: 0.5198222\ttotal: 25.4ms\tremaining: 248ms\n",
      "93:\tlearn: 0.5186432\ttotal: 25.6ms\tremaining: 246ms\n",
      "94:\tlearn: 0.5177714\ttotal: 25.8ms\tremaining: 245ms\n",
      "95:\tlearn: 0.5162649\ttotal: 26ms\tremaining: 245ms\n",
      "96:\tlearn: 0.5152174\ttotal: 26.2ms\tremaining: 243ms\n",
      "97:\tlearn: 0.5146242\ttotal: 26.4ms\tremaining: 243ms\n",
      "98:\tlearn: 0.5129630\ttotal: 26.8ms\tremaining: 244ms\n",
      "99:\tlearn: 0.5120298\ttotal: 27.4ms\tremaining: 246ms\n",
      "100:\tlearn: 0.5106511\ttotal: 28.2ms\tremaining: 251ms\n",
      "101:\tlearn: 0.5090945\ttotal: 29ms\tremaining: 256ms\n",
      "102:\tlearn: 0.5085371\ttotal: 29.4ms\tremaining: 256ms\n",
      "103:\tlearn: 0.5073910\ttotal: 29.8ms\tremaining: 257ms\n",
      "104:\tlearn: 0.5056438\ttotal: 30.4ms\tremaining: 259ms\n",
      "105:\tlearn: 0.5040150\ttotal: 31.3ms\tremaining: 264ms\n",
      "106:\tlearn: 0.5023326\ttotal: 31.9ms\tremaining: 266ms\n",
      "107:\tlearn: 0.5009362\ttotal: 32.6ms\tremaining: 270ms\n",
      "108:\tlearn: 0.4995071\ttotal: 33ms\tremaining: 270ms\n",
      "109:\tlearn: 0.4986410\ttotal: 33.3ms\tremaining: 269ms\n",
      "110:\tlearn: 0.4969774\ttotal: 33.5ms\tremaining: 269ms\n",
      "111:\tlearn: 0.4964795\ttotal: 33.7ms\tremaining: 267ms\n",
      "112:\tlearn: 0.4952492\ttotal: 34.1ms\tremaining: 268ms\n",
      "113:\tlearn: 0.4939693\ttotal: 34.5ms\tremaining: 268ms\n",
      "114:\tlearn: 0.4933871\ttotal: 34.7ms\tremaining: 267ms\n",
      "115:\tlearn: 0.4924619\ttotal: 34.9ms\tremaining: 266ms\n",
      "116:\tlearn: 0.4913587\ttotal: 35ms\tremaining: 264ms\n",
      "117:\tlearn: 0.4908944\ttotal: 35.2ms\tremaining: 263ms\n",
      "118:\tlearn: 0.4898728\ttotal: 35.5ms\tremaining: 263ms\n",
      "119:\tlearn: 0.4894195\ttotal: 35.6ms\tremaining: 261ms\n",
      "120:\tlearn: 0.4885160\ttotal: 35.8ms\tremaining: 260ms\n",
      "121:\tlearn: 0.4877426\ttotal: 35.9ms\tremaining: 259ms\n",
      "122:\tlearn: 0.4872283\ttotal: 36.1ms\tremaining: 258ms\n",
      "123:\tlearn: 0.4866311\ttotal: 36.3ms\tremaining: 257ms\n",
      "124:\tlearn: 0.4859312\ttotal: 36.6ms\tremaining: 256ms\n",
      "125:\tlearn: 0.4850930\ttotal: 36.9ms\tremaining: 256ms\n",
      "126:\tlearn: 0.4838740\ttotal: 37.1ms\tremaining: 255ms\n",
      "127:\tlearn: 0.4828405\ttotal: 37.4ms\tremaining: 254ms\n",
      "128:\tlearn: 0.4818847\ttotal: 37.8ms\tremaining: 255ms\n",
      "129:\tlearn: 0.4807807\ttotal: 38ms\tremaining: 255ms\n",
      "130:\tlearn: 0.4798673\ttotal: 38.5ms\tremaining: 256ms\n",
      "131:\tlearn: 0.4789507\ttotal: 39.6ms\tremaining: 260ms\n",
      "132:\tlearn: 0.4779309\ttotal: 39.8ms\tremaining: 260ms\n",
      "133:\tlearn: 0.4773312\ttotal: 40ms\tremaining: 259ms\n",
      "134:\tlearn: 0.4767757\ttotal: 40.3ms\tremaining: 258ms\n",
      "135:\tlearn: 0.4762257\ttotal: 40.6ms\tremaining: 258ms\n",
      "136:\tlearn: 0.4753279\ttotal: 40.8ms\tremaining: 257ms\n",
      "137:\tlearn: 0.4749576\ttotal: 41ms\tremaining: 256ms\n",
      "138:\tlearn: 0.4744570\ttotal: 41.4ms\tremaining: 256ms\n",
      "139:\tlearn: 0.4730681\ttotal: 41.6ms\tremaining: 256ms\n",
      "140:\tlearn: 0.4723841\ttotal: 41.9ms\tremaining: 255ms\n",
      "141:\tlearn: 0.4718840\ttotal: 42.4ms\tremaining: 256ms\n",
      "142:\tlearn: 0.4706835\ttotal: 42.6ms\tremaining: 255ms\n",
      "143:\tlearn: 0.4703351\ttotal: 42.7ms\tremaining: 254ms\n",
      "144:\tlearn: 0.4699740\ttotal: 42.9ms\tremaining: 253ms\n",
      "145:\tlearn: 0.4692700\ttotal: 43.1ms\tremaining: 252ms\n",
      "146:\tlearn: 0.4679797\ttotal: 43.4ms\tremaining: 252ms\n",
      "147:\tlearn: 0.4669280\ttotal: 43.6ms\tremaining: 251ms\n",
      "148:\tlearn: 0.4662799\ttotal: 43.9ms\tremaining: 251ms\n",
      "149:\tlearn: 0.4655849\ttotal: 44.1ms\tremaining: 250ms\n",
      "150:\tlearn: 0.4652641\ttotal: 44.2ms\tremaining: 249ms\n",
      "151:\tlearn: 0.4646174\ttotal: 44.5ms\tremaining: 248ms\n",
      "152:\tlearn: 0.4642992\ttotal: 44.7ms\tremaining: 247ms\n",
      "153:\tlearn: 0.4638129\ttotal: 44.8ms\tremaining: 246ms\n",
      "154:\tlearn: 0.4635061\ttotal: 45ms\tremaining: 245ms\n",
      "155:\tlearn: 0.4624435\ttotal: 45.3ms\tremaining: 245ms\n",
      "156:\tlearn: 0.4617323\ttotal: 45.7ms\tremaining: 245ms\n",
      "157:\tlearn: 0.4612475\ttotal: 45.9ms\tremaining: 244ms\n",
      "158:\tlearn: 0.4606558\ttotal: 46.6ms\tremaining: 246ms\n",
      "159:\tlearn: 0.4605214\ttotal: 46.9ms\tremaining: 246ms\n",
      "160:\tlearn: 0.4594556\ttotal: 47.8ms\tremaining: 249ms\n",
      "161:\tlearn: 0.4589963\ttotal: 48ms\tremaining: 248ms\n",
      "162:\tlearn: 0.4583054\ttotal: 48.3ms\tremaining: 248ms\n",
      "163:\tlearn: 0.4574880\ttotal: 48.5ms\tremaining: 247ms\n",
      "164:\tlearn: 0.4569381\ttotal: 48.9ms\tremaining: 248ms\n",
      "165:\tlearn: 0.4565221\ttotal: 49.1ms\tremaining: 247ms\n",
      "166:\tlearn: 0.4558026\ttotal: 49.3ms\tremaining: 246ms\n",
      "167:\tlearn: 0.4555365\ttotal: 49.5ms\tremaining: 245ms\n",
      "168:\tlearn: 0.4552729\ttotal: 49.6ms\tremaining: 244ms\n",
      "169:\tlearn: 0.4547232\ttotal: 49.9ms\tremaining: 244ms\n",
      "170:\tlearn: 0.4538118\ttotal: 50.2ms\tremaining: 244ms\n",
      "171:\tlearn: 0.4526541\ttotal: 50.7ms\tremaining: 244ms\n",
      "172:\tlearn: 0.4518375\ttotal: 51ms\tremaining: 244ms\n",
      "173:\tlearn: 0.4510458\ttotal: 51.4ms\tremaining: 244ms\n",
      "174:\tlearn: 0.4501872\ttotal: 51.9ms\tremaining: 244ms\n",
      "175:\tlearn: 0.4489825\ttotal: 52.5ms\tremaining: 246ms\n",
      "176:\tlearn: 0.4479576\ttotal: 53.2ms\tremaining: 247ms\n",
      "177:\tlearn: 0.4471199\ttotal: 53.7ms\tremaining: 248ms\n",
      "178:\tlearn: 0.4468353\ttotal: 53.9ms\tremaining: 247ms\n",
      "179:\tlearn: 0.4459056\ttotal: 54.2ms\tremaining: 247ms\n",
      "180:\tlearn: 0.4453797\ttotal: 54.5ms\tremaining: 247ms\n",
      "181:\tlearn: 0.4444117\ttotal: 55ms\tremaining: 247ms\n",
      "182:\tlearn: 0.4438638\ttotal: 55.2ms\tremaining: 247ms\n",
      "183:\tlearn: 0.4434908\ttotal: 55.5ms\tremaining: 246ms\n",
      "184:\tlearn: 0.4427245\ttotal: 55.9ms\tremaining: 246ms\n",
      "185:\tlearn: 0.4418283\ttotal: 56.2ms\tremaining: 246ms\n",
      "186:\tlearn: 0.4413794\ttotal: 56.5ms\tremaining: 246ms\n",
      "187:\tlearn: 0.4404771\ttotal: 56.9ms\tremaining: 246ms\n",
      "188:\tlearn: 0.4402651\ttotal: 57.1ms\tremaining: 245ms\n",
      "189:\tlearn: 0.4393261\ttotal: 57.4ms\tremaining: 245ms\n",
      "190:\tlearn: 0.4390725\ttotal: 57.6ms\tremaining: 244ms\n",
      "191:\tlearn: 0.4382485\ttotal: 57.8ms\tremaining: 243ms\n",
      "192:\tlearn: 0.4380006\ttotal: 58ms\tremaining: 243ms\n",
      "193:\tlearn: 0.4370713\ttotal: 58.6ms\tremaining: 243ms\n",
      "194:\tlearn: 0.4363785\ttotal: 59ms\tremaining: 244ms\n",
      "195:\tlearn: 0.4358701\ttotal: 59.3ms\tremaining: 243ms\n",
      "196:\tlearn: 0.4356594\ttotal: 59.7ms\tremaining: 243ms\n",
      "197:\tlearn: 0.4351846\ttotal: 60ms\tremaining: 243ms\n",
      "198:\tlearn: 0.4344314\ttotal: 60.3ms\tremaining: 243ms\n",
      "199:\tlearn: 0.4340393\ttotal: 60.5ms\tremaining: 242ms\n",
      "200:\tlearn: 0.4334016\ttotal: 60.8ms\tremaining: 242ms\n",
      "201:\tlearn: 0.4326997\ttotal: 61.1ms\tremaining: 241ms\n",
      "202:\tlearn: 0.4317473\ttotal: 61.4ms\tremaining: 241ms\n",
      "203:\tlearn: 0.4308002\ttotal: 61.7ms\tremaining: 241ms\n",
      "204:\tlearn: 0.4303255\ttotal: 61.8ms\tremaining: 240ms\n",
      "205:\tlearn: 0.4296588\ttotal: 62.1ms\tremaining: 239ms\n",
      "206:\tlearn: 0.4292486\ttotal: 62.4ms\tremaining: 239ms\n",
      "207:\tlearn: 0.4287342\ttotal: 62.6ms\tremaining: 239ms\n",
      "208:\tlearn: 0.4284621\ttotal: 62.8ms\tremaining: 238ms\n",
      "209:\tlearn: 0.4273230\ttotal: 63.1ms\tremaining: 237ms\n",
      "210:\tlearn: 0.4264081\ttotal: 63.4ms\tremaining: 237ms\n",
      "211:\tlearn: 0.4261469\ttotal: 63.5ms\tremaining: 236ms\n",
      "212:\tlearn: 0.4253964\ttotal: 63.8ms\tremaining: 236ms\n",
      "213:\tlearn: 0.4248898\ttotal: 64.1ms\tremaining: 235ms\n",
      "214:\tlearn: 0.4246334\ttotal: 64.3ms\tremaining: 235ms\n",
      "215:\tlearn: 0.4241518\ttotal: 64.6ms\tremaining: 234ms\n",
      "216:\tlearn: 0.4233330\ttotal: 64.9ms\tremaining: 234ms\n",
      "217:\tlearn: 0.4230924\ttotal: 65ms\tremaining: 233ms\n",
      "218:\tlearn: 0.4227762\ttotal: 65.2ms\tremaining: 233ms\n",
      "219:\tlearn: 0.4223599\ttotal: 65.5ms\tremaining: 232ms\n",
      "220:\tlearn: 0.4222054\ttotal: 65.7ms\tremaining: 232ms\n",
      "221:\tlearn: 0.4216715\ttotal: 65.9ms\tremaining: 231ms\n",
      "222:\tlearn: 0.4211419\ttotal: 66.2ms\tremaining: 231ms\n",
      "223:\tlearn: 0.4206596\ttotal: 66.5ms\tremaining: 230ms\n",
      "224:\tlearn: 0.4198494\ttotal: 66.7ms\tremaining: 230ms\n",
      "225:\tlearn: 0.4194446\ttotal: 66.9ms\tremaining: 229ms\n",
      "226:\tlearn: 0.4189608\ttotal: 67.2ms\tremaining: 229ms\n",
      "227:\tlearn: 0.4184277\ttotal: 67.4ms\tremaining: 228ms\n",
      "228:\tlearn: 0.4176303\ttotal: 67.6ms\tremaining: 228ms\n",
      "229:\tlearn: 0.4171676\ttotal: 67.8ms\tremaining: 227ms\n",
      "230:\tlearn: 0.4163899\ttotal: 68ms\tremaining: 226ms\n",
      "231:\tlearn: 0.4160919\ttotal: 68.2ms\tremaining: 226ms\n",
      "232:\tlearn: 0.4155905\ttotal: 68.4ms\tremaining: 225ms\n",
      "233:\tlearn: 0.4153122\ttotal: 68.6ms\tremaining: 224ms\n",
      "234:\tlearn: 0.4151871\ttotal: 68.8ms\tremaining: 224ms\n",
      "235:\tlearn: 0.4150521\ttotal: 68.9ms\tremaining: 223ms\n",
      "236:\tlearn: 0.4148603\ttotal: 69.1ms\tremaining: 222ms\n",
      "237:\tlearn: 0.4145892\ttotal: 69.2ms\tremaining: 222ms\n",
      "238:\tlearn: 0.4143825\ttotal: 69.4ms\tremaining: 221ms\n",
      "239:\tlearn: 0.4139202\ttotal: 69.6ms\tremaining: 221ms\n",
      "240:\tlearn: 0.4132270\ttotal: 69.9ms\tremaining: 220ms\n",
      "241:\tlearn: 0.4130720\ttotal: 70ms\tremaining: 219ms\n",
      "242:\tlearn: 0.4126319\ttotal: 70.2ms\tremaining: 219ms\n",
      "243:\tlearn: 0.4118116\ttotal: 70.4ms\tremaining: 218ms\n",
      "244:\tlearn: 0.4114759\ttotal: 70.6ms\tremaining: 218ms\n",
      "245:\tlearn: 0.4108909\ttotal: 70.8ms\tremaining: 217ms\n",
      "246:\tlearn: 0.4103235\ttotal: 71.1ms\tremaining: 217ms\n",
      "247:\tlearn: 0.4098831\ttotal: 71.3ms\tremaining: 216ms\n",
      "248:\tlearn: 0.4093871\ttotal: 71.5ms\tremaining: 216ms\n",
      "249:\tlearn: 0.4085816\ttotal: 71.9ms\tremaining: 216ms\n",
      "250:\tlearn: 0.4079008\ttotal: 72.1ms\tremaining: 215ms\n",
      "251:\tlearn: 0.4077680\ttotal: 72.3ms\tremaining: 215ms\n",
      "252:\tlearn: 0.4070829\ttotal: 72.5ms\tremaining: 214ms\n",
      "253:\tlearn: 0.4067899\ttotal: 72.8ms\tremaining: 214ms\n",
      "254:\tlearn: 0.4066127\ttotal: 72.9ms\tremaining: 213ms\n",
      "255:\tlearn: 0.4058908\ttotal: 73.2ms\tremaining: 213ms\n",
      "256:\tlearn: 0.4056631\ttotal: 73.4ms\tremaining: 212ms\n",
      "257:\tlearn: 0.4055654\ttotal: 73.5ms\tremaining: 211ms\n",
      "258:\tlearn: 0.4051209\ttotal: 73.7ms\tremaining: 211ms\n",
      "259:\tlearn: 0.4042577\ttotal: 73.9ms\tremaining: 210ms\n",
      "260:\tlearn: 0.4040903\ttotal: 74.1ms\tremaining: 210ms\n",
      "261:\tlearn: 0.4037273\ttotal: 74.3ms\tremaining: 209ms\n",
      "262:\tlearn: 0.4030400\ttotal: 74.5ms\tremaining: 209ms\n",
      "263:\tlearn: 0.4026774\ttotal: 74.7ms\tremaining: 208ms\n",
      "264:\tlearn: 0.4022461\ttotal: 75ms\tremaining: 208ms\n",
      "265:\tlearn: 0.4019443\ttotal: 75.2ms\tremaining: 207ms\n",
      "266:\tlearn: 0.4014515\ttotal: 75.4ms\tremaining: 207ms\n",
      "267:\tlearn: 0.4010907\ttotal: 75.6ms\tremaining: 206ms\n",
      "268:\tlearn: 0.4007627\ttotal: 75.8ms\tremaining: 206ms\n",
      "269:\tlearn: 0.4006780\ttotal: 75.9ms\tremaining: 205ms\n",
      "270:\tlearn: 0.4004886\ttotal: 76.1ms\tremaining: 205ms\n",
      "271:\tlearn: 0.4003000\ttotal: 76.3ms\tremaining: 204ms\n",
      "272:\tlearn: 0.3998530\ttotal: 76.5ms\tremaining: 204ms\n",
      "273:\tlearn: 0.3997716\ttotal: 76.6ms\tremaining: 203ms\n",
      "274:\tlearn: 0.3990186\ttotal: 76.9ms\tremaining: 203ms\n",
      "275:\tlearn: 0.3985178\ttotal: 77.1ms\tremaining: 202ms\n",
      "276:\tlearn: 0.3980789\ttotal: 77.3ms\tremaining: 202ms\n",
      "277:\tlearn: 0.3973423\ttotal: 77.5ms\tremaining: 201ms\n",
      "278:\tlearn: 0.3968390\ttotal: 77.8ms\tremaining: 201ms\n",
      "279:\tlearn: 0.3965513\ttotal: 78ms\tremaining: 201ms\n",
      "280:\tlearn: 0.3961708\ttotal: 78.2ms\tremaining: 200ms\n",
      "281:\tlearn: 0.3957234\ttotal: 78.5ms\tremaining: 200ms\n",
      "282:\tlearn: 0.3952398\ttotal: 78.7ms\tremaining: 199ms\n",
      "283:\tlearn: 0.3948072\ttotal: 79ms\tremaining: 199ms\n",
      "284:\tlearn: 0.3947048\ttotal: 79.1ms\tremaining: 199ms\n",
      "285:\tlearn: 0.3944303\ttotal: 79.4ms\tremaining: 198ms\n",
      "286:\tlearn: 0.3939500\ttotal: 79.6ms\tremaining: 198ms\n",
      "287:\tlearn: 0.3933137\ttotal: 79.9ms\tremaining: 198ms\n",
      "288:\tlearn: 0.3931335\ttotal: 80.1ms\tremaining: 197ms\n",
      "289:\tlearn: 0.3926960\ttotal: 80.4ms\tremaining: 197ms\n",
      "290:\tlearn: 0.3919153\ttotal: 80.6ms\tremaining: 196ms\n",
      "291:\tlearn: 0.3914287\ttotal: 80.8ms\tremaining: 196ms\n",
      "292:\tlearn: 0.3912107\ttotal: 81ms\tremaining: 195ms\n",
      "293:\tlearn: 0.3910008\ttotal: 81.2ms\tremaining: 195ms\n",
      "294:\tlearn: 0.3908144\ttotal: 81.4ms\tremaining: 194ms\n",
      "295:\tlearn: 0.3904952\ttotal: 81.6ms\tremaining: 194ms\n",
      "296:\tlearn: 0.3903665\ttotal: 82ms\tremaining: 194ms\n",
      "297:\tlearn: 0.3898922\ttotal: 82.5ms\tremaining: 194ms\n",
      "298:\tlearn: 0.3893457\ttotal: 82.8ms\tremaining: 194ms\n",
      "299:\tlearn: 0.3888871\ttotal: 83.2ms\tremaining: 194ms\n",
      "300:\tlearn: 0.3885323\ttotal: 83.5ms\tremaining: 194ms\n",
      "301:\tlearn: 0.3879039\ttotal: 83.8ms\tremaining: 194ms\n",
      "302:\tlearn: 0.3872563\ttotal: 84.1ms\tremaining: 193ms\n",
      "303:\tlearn: 0.3869255\ttotal: 84.3ms\tremaining: 193ms\n",
      "304:\tlearn: 0.3865274\ttotal: 84.6ms\tremaining: 193ms\n",
      "305:\tlearn: 0.3862339\ttotal: 84.9ms\tremaining: 192ms\n",
      "306:\tlearn: 0.3857205\ttotal: 85.1ms\tremaining: 192ms\n",
      "307:\tlearn: 0.3855098\ttotal: 85.3ms\tremaining: 192ms\n",
      "308:\tlearn: 0.3852881\ttotal: 85.6ms\tremaining: 191ms\n",
      "309:\tlearn: 0.3846540\ttotal: 85.9ms\tremaining: 191ms\n",
      "310:\tlearn: 0.3843399\ttotal: 86.2ms\tremaining: 191ms\n",
      "311:\tlearn: 0.3842878\ttotal: 86.4ms\tremaining: 190ms\n",
      "312:\tlearn: 0.3839534\ttotal: 86.7ms\tremaining: 190ms\n",
      "313:\tlearn: 0.3831967\ttotal: 86.9ms\tremaining: 190ms\n",
      "314:\tlearn: 0.3824923\ttotal: 87.2ms\tremaining: 190ms\n",
      "315:\tlearn: 0.3821582\ttotal: 87.5ms\tremaining: 189ms\n",
      "316:\tlearn: 0.3820559\ttotal: 87.6ms\tremaining: 189ms\n",
      "317:\tlearn: 0.3818489\ttotal: 87.9ms\tremaining: 188ms\n",
      "318:\tlearn: 0.3814309\ttotal: 88.3ms\tremaining: 188ms\n",
      "319:\tlearn: 0.3808091\ttotal: 88.7ms\tremaining: 188ms\n",
      "320:\tlearn: 0.3804446\ttotal: 89.2ms\tremaining: 189ms\n",
      "321:\tlearn: 0.3801104\ttotal: 89.6ms\tremaining: 189ms\n",
      "322:\tlearn: 0.3800005\ttotal: 89.9ms\tremaining: 188ms\n",
      "323:\tlearn: 0.3799553\ttotal: 90.1ms\tremaining: 188ms\n",
      "324:\tlearn: 0.3797182\ttotal: 90.5ms\tremaining: 188ms\n",
      "325:\tlearn: 0.3792198\ttotal: 91ms\tremaining: 188ms\n",
      "326:\tlearn: 0.3789719\ttotal: 91.4ms\tremaining: 188ms\n",
      "327:\tlearn: 0.3786007\ttotal: 91.8ms\tremaining: 188ms\n",
      "328:\tlearn: 0.3781493\ttotal: 92.2ms\tremaining: 188ms\n",
      "329:\tlearn: 0.3780120\ttotal: 92.5ms\tremaining: 188ms\n",
      "330:\tlearn: 0.3773723\ttotal: 92.8ms\tremaining: 188ms\n",
      "331:\tlearn: 0.3768835\ttotal: 93.1ms\tremaining: 187ms\n",
      "332:\tlearn: 0.3764553\ttotal: 93.3ms\tremaining: 187ms\n",
      "333:\tlearn: 0.3761304\ttotal: 93.6ms\tremaining: 187ms\n",
      "334:\tlearn: 0.3756713\ttotal: 93.9ms\tremaining: 186ms\n",
      "335:\tlearn: 0.3752929\ttotal: 94.1ms\tremaining: 186ms\n",
      "336:\tlearn: 0.3750583\ttotal: 94.3ms\tremaining: 186ms\n",
      "337:\tlearn: 0.3748121\ttotal: 94.6ms\tremaining: 185ms\n",
      "338:\tlearn: 0.3745381\ttotal: 94.9ms\tremaining: 185ms\n",
      "339:\tlearn: 0.3743665\ttotal: 95.1ms\tremaining: 185ms\n",
      "340:\tlearn: 0.3739292\ttotal: 95.5ms\tremaining: 184ms\n",
      "341:\tlearn: 0.3737785\ttotal: 95.7ms\tremaining: 184ms\n",
      "342:\tlearn: 0.3737234\ttotal: 95.9ms\tremaining: 184ms\n",
      "343:\tlearn: 0.3733664\ttotal: 96.2ms\tremaining: 183ms\n",
      "344:\tlearn: 0.3731020\ttotal: 96.5ms\tremaining: 183ms\n",
      "345:\tlearn: 0.3726976\ttotal: 96.8ms\tremaining: 183ms\n",
      "346:\tlearn: 0.3724326\ttotal: 97.2ms\tremaining: 183ms\n",
      "347:\tlearn: 0.3722969\ttotal: 97.4ms\tremaining: 182ms\n",
      "348:\tlearn: 0.3718836\ttotal: 97.7ms\tremaining: 182ms\n",
      "349:\tlearn: 0.3717836\ttotal: 97.9ms\tremaining: 182ms\n",
      "350:\tlearn: 0.3714208\ttotal: 98.1ms\tremaining: 181ms\n",
      "351:\tlearn: 0.3710720\ttotal: 98.5ms\tremaining: 181ms\n",
      "352:\tlearn: 0.3705220\ttotal: 98.7ms\tremaining: 181ms\n",
      "353:\tlearn: 0.3701747\ttotal: 98.9ms\tremaining: 181ms\n",
      "354:\tlearn: 0.3695766\ttotal: 99.2ms\tremaining: 180ms\n",
      "355:\tlearn: 0.3695019\ttotal: 99.4ms\tremaining: 180ms\n",
      "356:\tlearn: 0.3692647\ttotal: 99.6ms\tremaining: 179ms\n",
      "357:\tlearn: 0.3689923\ttotal: 99.8ms\tremaining: 179ms\n",
      "358:\tlearn: 0.3686260\ttotal: 100ms\tremaining: 179ms\n",
      "359:\tlearn: 0.3682686\ttotal: 100ms\tremaining: 178ms\n",
      "360:\tlearn: 0.3680292\ttotal: 101ms\tremaining: 178ms\n",
      "361:\tlearn: 0.3676083\ttotal: 101ms\tremaining: 178ms\n",
      "362:\tlearn: 0.3674170\ttotal: 101ms\tremaining: 178ms\n",
      "363:\tlearn: 0.3667241\ttotal: 102ms\tremaining: 178ms\n",
      "364:\tlearn: 0.3665747\ttotal: 102ms\tremaining: 177ms\n",
      "365:\tlearn: 0.3665241\ttotal: 102ms\tremaining: 177ms\n",
      "366:\tlearn: 0.3660962\ttotal: 102ms\tremaining: 176ms\n",
      "367:\tlearn: 0.3654675\ttotal: 103ms\tremaining: 176ms\n",
      "368:\tlearn: 0.3654390\ttotal: 103ms\tremaining: 176ms\n",
      "369:\tlearn: 0.3649610\ttotal: 103ms\tremaining: 175ms\n",
      "370:\tlearn: 0.3647107\ttotal: 103ms\tremaining: 175ms\n",
      "371:\tlearn: 0.3643169\ttotal: 103ms\tremaining: 175ms\n",
      "372:\tlearn: 0.3638577\ttotal: 104ms\tremaining: 174ms\n",
      "373:\tlearn: 0.3636903\ttotal: 104ms\tremaining: 174ms\n",
      "374:\tlearn: 0.3634078\ttotal: 104ms\tremaining: 174ms\n",
      "375:\tlearn: 0.3631665\ttotal: 104ms\tremaining: 173ms\n",
      "376:\tlearn: 0.3628201\ttotal: 105ms\tremaining: 173ms\n",
      "377:\tlearn: 0.3624827\ttotal: 105ms\tremaining: 173ms\n",
      "378:\tlearn: 0.3622981\ttotal: 105ms\tremaining: 172ms\n",
      "379:\tlearn: 0.3622122\ttotal: 105ms\tremaining: 172ms\n",
      "380:\tlearn: 0.3617960\ttotal: 106ms\tremaining: 172ms\n",
      "381:\tlearn: 0.3617148\ttotal: 106ms\tremaining: 172ms\n",
      "382:\tlearn: 0.3615385\ttotal: 106ms\tremaining: 171ms\n",
      "383:\tlearn: 0.3613996\ttotal: 107ms\tremaining: 171ms\n",
      "384:\tlearn: 0.3613753\ttotal: 107ms\tremaining: 170ms\n",
      "385:\tlearn: 0.3612918\ttotal: 107ms\tremaining: 170ms\n",
      "386:\tlearn: 0.3611042\ttotal: 107ms\tremaining: 170ms\n",
      "387:\tlearn: 0.3609027\ttotal: 107ms\tremaining: 170ms\n",
      "388:\tlearn: 0.3608796\ttotal: 108ms\tremaining: 169ms\n",
      "389:\tlearn: 0.3608283\ttotal: 108ms\tremaining: 169ms\n",
      "390:\tlearn: 0.3607698\ttotal: 108ms\tremaining: 168ms\n",
      "391:\tlearn: 0.3605490\ttotal: 108ms\tremaining: 168ms\n",
      "392:\tlearn: 0.3604292\ttotal: 109ms\tremaining: 168ms\n",
      "393:\tlearn: 0.3602648\ttotal: 109ms\tremaining: 168ms\n",
      "394:\tlearn: 0.3598563\ttotal: 110ms\tremaining: 168ms\n",
      "395:\tlearn: 0.3596132\ttotal: 110ms\tremaining: 168ms\n",
      "396:\tlearn: 0.3593166\ttotal: 110ms\tremaining: 168ms\n",
      "397:\tlearn: 0.3589122\ttotal: 111ms\tremaining: 167ms\n",
      "398:\tlearn: 0.3588157\ttotal: 111ms\tremaining: 167ms\n",
      "399:\tlearn: 0.3584265\ttotal: 111ms\tremaining: 167ms\n",
      "400:\tlearn: 0.3580254\ttotal: 111ms\tremaining: 166ms\n",
      "401:\tlearn: 0.3576876\ttotal: 112ms\tremaining: 166ms\n",
      "402:\tlearn: 0.3574979\ttotal: 112ms\tremaining: 166ms\n",
      "403:\tlearn: 0.3573708\ttotal: 112ms\tremaining: 166ms\n",
      "404:\tlearn: 0.3568125\ttotal: 112ms\tremaining: 165ms\n",
      "405:\tlearn: 0.3564836\ttotal: 113ms\tremaining: 165ms\n",
      "406:\tlearn: 0.3564704\ttotal: 113ms\tremaining: 164ms\n",
      "407:\tlearn: 0.3560238\ttotal: 113ms\tremaining: 164ms\n",
      "408:\tlearn: 0.3556747\ttotal: 113ms\tremaining: 164ms\n",
      "409:\tlearn: 0.3556554\ttotal: 113ms\tremaining: 163ms\n",
      "410:\tlearn: 0.3556365\ttotal: 114ms\tremaining: 163ms\n",
      "411:\tlearn: 0.3555581\ttotal: 114ms\tremaining: 162ms\n",
      "412:\tlearn: 0.3552518\ttotal: 114ms\tremaining: 162ms\n",
      "413:\tlearn: 0.3550719\ttotal: 114ms\tremaining: 162ms\n",
      "414:\tlearn: 0.3546743\ttotal: 115ms\tremaining: 161ms\n",
      "415:\tlearn: 0.3541592\ttotal: 115ms\tremaining: 161ms\n",
      "416:\tlearn: 0.3539108\ttotal: 115ms\tremaining: 161ms\n",
      "417:\tlearn: 0.3537157\ttotal: 115ms\tremaining: 160ms\n",
      "418:\tlearn: 0.3536153\ttotal: 115ms\tremaining: 160ms\n",
      "419:\tlearn: 0.3535164\ttotal: 116ms\tremaining: 160ms\n",
      "420:\tlearn: 0.3532183\ttotal: 116ms\tremaining: 159ms\n",
      "421:\tlearn: 0.3528763\ttotal: 116ms\tremaining: 159ms\n",
      "422:\tlearn: 0.3528592\ttotal: 116ms\tremaining: 159ms\n",
      "423:\tlearn: 0.3527929\ttotal: 117ms\tremaining: 158ms\n",
      "424:\tlearn: 0.3526411\ttotal: 117ms\tremaining: 158ms\n",
      "425:\tlearn: 0.3521459\ttotal: 117ms\tremaining: 158ms\n",
      "426:\tlearn: 0.3517014\ttotal: 117ms\tremaining: 158ms\n",
      "427:\tlearn: 0.3513263\ttotal: 118ms\tremaining: 157ms\n",
      "428:\tlearn: 0.3510160\ttotal: 118ms\tremaining: 157ms\n",
      "429:\tlearn: 0.3507195\ttotal: 118ms\tremaining: 157ms\n",
      "430:\tlearn: 0.3505059\ttotal: 119ms\tremaining: 156ms\n",
      "431:\tlearn: 0.3500589\ttotal: 119ms\tremaining: 156ms\n",
      "432:\tlearn: 0.3497230\ttotal: 119ms\tremaining: 156ms\n",
      "433:\tlearn: 0.3494381\ttotal: 119ms\tremaining: 156ms\n",
      "434:\tlearn: 0.3492182\ttotal: 120ms\tremaining: 155ms\n",
      "435:\tlearn: 0.3490289\ttotal: 120ms\tremaining: 155ms\n",
      "436:\tlearn: 0.3488961\ttotal: 120ms\tremaining: 155ms\n",
      "437:\tlearn: 0.3487868\ttotal: 120ms\tremaining: 155ms\n",
      "438:\tlearn: 0.3482393\ttotal: 121ms\tremaining: 154ms\n",
      "439:\tlearn: 0.3481691\ttotal: 121ms\tremaining: 154ms\n",
      "440:\tlearn: 0.3480485\ttotal: 121ms\tremaining: 154ms\n",
      "441:\tlearn: 0.3479825\ttotal: 121ms\tremaining: 153ms\n",
      "442:\tlearn: 0.3478125\ttotal: 122ms\tremaining: 153ms\n",
      "443:\tlearn: 0.3475340\ttotal: 122ms\tremaining: 152ms\n",
      "444:\tlearn: 0.3474326\ttotal: 122ms\tremaining: 152ms\n",
      "445:\tlearn: 0.3473911\ttotal: 122ms\tremaining: 152ms\n",
      "446:\tlearn: 0.3473000\ttotal: 122ms\tremaining: 151ms\n",
      "447:\tlearn: 0.3470965\ttotal: 123ms\tremaining: 151ms\n",
      "448:\tlearn: 0.3470638\ttotal: 123ms\tremaining: 151ms\n",
      "449:\tlearn: 0.3468805\ttotal: 123ms\tremaining: 150ms\n",
      "450:\tlearn: 0.3466799\ttotal: 123ms\tremaining: 150ms\n",
      "451:\tlearn: 0.3462349\ttotal: 123ms\tremaining: 150ms\n",
      "452:\tlearn: 0.3460155\ttotal: 124ms\tremaining: 149ms\n",
      "453:\tlearn: 0.3455872\ttotal: 124ms\tremaining: 149ms\n",
      "454:\tlearn: 0.3453899\ttotal: 124ms\tremaining: 149ms\n",
      "455:\tlearn: 0.3452868\ttotal: 124ms\tremaining: 149ms\n",
      "456:\tlearn: 0.3451629\ttotal: 125ms\tremaining: 148ms\n",
      "457:\tlearn: 0.3450289\ttotal: 125ms\tremaining: 148ms\n",
      "458:\tlearn: 0.3450159\ttotal: 125ms\tremaining: 147ms\n",
      "459:\tlearn: 0.3447195\ttotal: 125ms\tremaining: 147ms\n",
      "460:\tlearn: 0.3446613\ttotal: 126ms\tremaining: 147ms\n",
      "461:\tlearn: 0.3443966\ttotal: 126ms\tremaining: 147ms\n",
      "462:\tlearn: 0.3441969\ttotal: 126ms\tremaining: 146ms\n",
      "463:\tlearn: 0.3440115\ttotal: 126ms\tremaining: 146ms\n",
      "464:\tlearn: 0.3437524\ttotal: 127ms\tremaining: 146ms\n",
      "465:\tlearn: 0.3436820\ttotal: 127ms\tremaining: 145ms\n",
      "466:\tlearn: 0.3434244\ttotal: 127ms\tremaining: 145ms\n",
      "467:\tlearn: 0.3430444\ttotal: 127ms\tremaining: 145ms\n",
      "468:\tlearn: 0.3426758\ttotal: 128ms\tremaining: 144ms\n",
      "469:\tlearn: 0.3426201\ttotal: 128ms\tremaining: 144ms\n",
      "470:\tlearn: 0.3424540\ttotal: 128ms\tremaining: 144ms\n",
      "471:\tlearn: 0.3422072\ttotal: 128ms\tremaining: 144ms\n",
      "472:\tlearn: 0.3417679\ttotal: 129ms\tremaining: 143ms\n",
      "473:\tlearn: 0.3416129\ttotal: 129ms\tremaining: 143ms\n",
      "474:\tlearn: 0.3415689\ttotal: 129ms\tremaining: 143ms\n",
      "475:\tlearn: 0.3413393\ttotal: 129ms\tremaining: 142ms\n",
      "476:\tlearn: 0.3410922\ttotal: 130ms\tremaining: 142ms\n",
      "477:\tlearn: 0.3408324\ttotal: 130ms\tremaining: 142ms\n",
      "478:\tlearn: 0.3405458\ttotal: 130ms\tremaining: 141ms\n",
      "479:\tlearn: 0.3402409\ttotal: 130ms\tremaining: 141ms\n",
      "480:\tlearn: 0.3400366\ttotal: 131ms\tremaining: 141ms\n",
      "481:\tlearn: 0.3398183\ttotal: 131ms\tremaining: 141ms\n",
      "482:\tlearn: 0.3395055\ttotal: 131ms\tremaining: 140ms\n",
      "483:\tlearn: 0.3394530\ttotal: 131ms\tremaining: 140ms\n",
      "484:\tlearn: 0.3393719\ttotal: 131ms\tremaining: 140ms\n",
      "485:\tlearn: 0.3392209\ttotal: 132ms\tremaining: 139ms\n",
      "486:\tlearn: 0.3389475\ttotal: 132ms\tremaining: 139ms\n",
      "487:\tlearn: 0.3388123\ttotal: 132ms\tremaining: 139ms\n",
      "488:\tlearn: 0.3384546\ttotal: 132ms\tremaining: 138ms\n",
      "489:\tlearn: 0.3384445\ttotal: 133ms\tremaining: 138ms\n",
      "490:\tlearn: 0.3381385\ttotal: 133ms\tremaining: 138ms\n",
      "491:\tlearn: 0.3376127\ttotal: 133ms\tremaining: 137ms\n",
      "492:\tlearn: 0.3376031\ttotal: 133ms\tremaining: 137ms\n",
      "493:\tlearn: 0.3374108\ttotal: 133ms\tremaining: 137ms\n",
      "494:\tlearn: 0.3373016\ttotal: 134ms\tremaining: 136ms\n",
      "495:\tlearn: 0.3370574\ttotal: 134ms\tremaining: 136ms\n",
      "496:\tlearn: 0.3368683\ttotal: 134ms\tremaining: 136ms\n",
      "497:\tlearn: 0.3366749\ttotal: 134ms\tremaining: 135ms\n",
      "498:\tlearn: 0.3363682\ttotal: 135ms\tremaining: 135ms\n",
      "499:\tlearn: 0.3361386\ttotal: 135ms\tremaining: 135ms\n",
      "500:\tlearn: 0.3360333\ttotal: 135ms\tremaining: 134ms\n",
      "501:\tlearn: 0.3358508\ttotal: 135ms\tremaining: 134ms\n",
      "502:\tlearn: 0.3356777\ttotal: 135ms\tremaining: 134ms\n",
      "503:\tlearn: 0.3354678\ttotal: 136ms\tremaining: 133ms\n",
      "504:\tlearn: 0.3353679\ttotal: 136ms\tremaining: 133ms\n",
      "505:\tlearn: 0.3351851\ttotal: 136ms\tremaining: 133ms\n",
      "506:\tlearn: 0.3351184\ttotal: 136ms\tremaining: 133ms\n",
      "507:\tlearn: 0.3348409\ttotal: 137ms\tremaining: 132ms\n",
      "508:\tlearn: 0.3346430\ttotal: 137ms\tremaining: 132ms\n",
      "509:\tlearn: 0.3346082\ttotal: 137ms\tremaining: 132ms\n",
      "510:\tlearn: 0.3343706\ttotal: 137ms\tremaining: 131ms\n",
      "511:\tlearn: 0.3343265\ttotal: 137ms\tremaining: 131ms\n",
      "512:\tlearn: 0.3342947\ttotal: 138ms\tremaining: 131ms\n",
      "513:\tlearn: 0.3342868\ttotal: 138ms\tremaining: 130ms\n",
      "514:\tlearn: 0.3342017\ttotal: 138ms\tremaining: 130ms\n",
      "515:\tlearn: 0.3340153\ttotal: 138ms\tremaining: 130ms\n",
      "516:\tlearn: 0.3336680\ttotal: 138ms\tremaining: 129ms\n",
      "517:\tlearn: 0.3334191\ttotal: 139ms\tremaining: 129ms\n",
      "518:\tlearn: 0.3330829\ttotal: 139ms\tremaining: 129ms\n",
      "519:\tlearn: 0.3330733\ttotal: 139ms\tremaining: 128ms\n",
      "520:\tlearn: 0.3330633\ttotal: 139ms\tremaining: 128ms\n",
      "521:\tlearn: 0.3330122\ttotal: 139ms\tremaining: 128ms\n",
      "522:\tlearn: 0.3324504\ttotal: 140ms\tremaining: 127ms\n",
      "523:\tlearn: 0.3322567\ttotal: 140ms\tremaining: 127ms\n",
      "524:\tlearn: 0.3321982\ttotal: 140ms\tremaining: 127ms\n",
      "525:\tlearn: 0.3320609\ttotal: 140ms\tremaining: 126ms\n",
      "526:\tlearn: 0.3318511\ttotal: 141ms\tremaining: 126ms\n",
      "527:\tlearn: 0.3316602\ttotal: 141ms\tremaining: 126ms\n",
      "528:\tlearn: 0.3315420\ttotal: 141ms\tremaining: 126ms\n",
      "529:\tlearn: 0.3314378\ttotal: 141ms\tremaining: 125ms\n",
      "530:\tlearn: 0.3313936\ttotal: 141ms\tremaining: 125ms\n",
      "531:\tlearn: 0.3310928\ttotal: 142ms\tremaining: 125ms\n",
      "532:\tlearn: 0.3309765\ttotal: 142ms\tremaining: 124ms\n",
      "533:\tlearn: 0.3308506\ttotal: 142ms\tremaining: 124ms\n",
      "534:\tlearn: 0.3307849\ttotal: 142ms\tremaining: 124ms\n",
      "535:\tlearn: 0.3306187\ttotal: 142ms\tremaining: 123ms\n",
      "536:\tlearn: 0.3305246\ttotal: 143ms\tremaining: 123ms\n",
      "537:\tlearn: 0.3302916\ttotal: 143ms\tremaining: 123ms\n",
      "538:\tlearn: 0.3300433\ttotal: 143ms\tremaining: 122ms\n",
      "539:\tlearn: 0.3298938\ttotal: 143ms\tremaining: 122ms\n",
      "540:\tlearn: 0.3297977\ttotal: 143ms\tremaining: 122ms\n",
      "541:\tlearn: 0.3295397\ttotal: 144ms\tremaining: 121ms\n",
      "542:\tlearn: 0.3293570\ttotal: 144ms\tremaining: 121ms\n",
      "543:\tlearn: 0.3290568\ttotal: 144ms\tremaining: 121ms\n",
      "544:\tlearn: 0.3287387\ttotal: 144ms\tremaining: 121ms\n",
      "545:\tlearn: 0.3287139\ttotal: 145ms\tremaining: 120ms\n",
      "546:\tlearn: 0.3284766\ttotal: 145ms\tremaining: 120ms\n",
      "547:\tlearn: 0.3284699\ttotal: 145ms\tremaining: 120ms\n",
      "548:\tlearn: 0.3282839\ttotal: 145ms\tremaining: 119ms\n",
      "549:\tlearn: 0.3282702\ttotal: 146ms\tremaining: 119ms\n",
      "550:\tlearn: 0.3281496\ttotal: 146ms\tremaining: 119ms\n",
      "551:\tlearn: 0.3278775\ttotal: 146ms\tremaining: 119ms\n",
      "552:\tlearn: 0.3277664\ttotal: 146ms\tremaining: 118ms\n",
      "553:\tlearn: 0.3273897\ttotal: 146ms\tremaining: 118ms\n",
      "554:\tlearn: 0.3272982\ttotal: 147ms\tremaining: 118ms\n",
      "555:\tlearn: 0.3271261\ttotal: 147ms\tremaining: 117ms\n",
      "556:\tlearn: 0.3271126\ttotal: 147ms\tremaining: 117ms\n",
      "557:\tlearn: 0.3269100\ttotal: 147ms\tremaining: 117ms\n",
      "558:\tlearn: 0.3267916\ttotal: 148ms\tremaining: 116ms\n",
      "559:\tlearn: 0.3266381\ttotal: 148ms\tremaining: 116ms\n",
      "560:\tlearn: 0.3264393\ttotal: 148ms\tremaining: 116ms\n",
      "561:\tlearn: 0.3262017\ttotal: 148ms\tremaining: 116ms\n",
      "562:\tlearn: 0.3261104\ttotal: 149ms\tremaining: 115ms\n",
      "563:\tlearn: 0.3259206\ttotal: 149ms\tremaining: 115ms\n",
      "564:\tlearn: 0.3257470\ttotal: 149ms\tremaining: 115ms\n",
      "565:\tlearn: 0.3256743\ttotal: 149ms\tremaining: 114ms\n",
      "566:\tlearn: 0.3254949\ttotal: 150ms\tremaining: 114ms\n",
      "567:\tlearn: 0.3252096\ttotal: 150ms\tremaining: 114ms\n",
      "568:\tlearn: 0.3249611\ttotal: 150ms\tremaining: 114ms\n",
      "569:\tlearn: 0.3248433\ttotal: 150ms\tremaining: 113ms\n",
      "570:\tlearn: 0.3247707\ttotal: 151ms\tremaining: 113ms\n",
      "571:\tlearn: 0.3244404\ttotal: 151ms\tremaining: 113ms\n",
      "572:\tlearn: 0.3243022\ttotal: 151ms\tremaining: 113ms\n",
      "573:\tlearn: 0.3241805\ttotal: 151ms\tremaining: 112ms\n",
      "574:\tlearn: 0.3239046\ttotal: 152ms\tremaining: 112ms\n",
      "575:\tlearn: 0.3236569\ttotal: 152ms\tremaining: 112ms\n",
      "576:\tlearn: 0.3232800\ttotal: 152ms\tremaining: 112ms\n",
      "577:\tlearn: 0.3231071\ttotal: 152ms\tremaining: 111ms\n",
      "578:\tlearn: 0.3229137\ttotal: 153ms\tremaining: 111ms\n",
      "579:\tlearn: 0.3227838\ttotal: 153ms\tremaining: 111ms\n",
      "580:\tlearn: 0.3225881\ttotal: 153ms\tremaining: 110ms\n",
      "581:\tlearn: 0.3223507\ttotal: 153ms\tremaining: 110ms\n",
      "582:\tlearn: 0.3222606\ttotal: 154ms\tremaining: 110ms\n",
      "583:\tlearn: 0.3221533\ttotal: 154ms\tremaining: 110ms\n",
      "584:\tlearn: 0.3219950\ttotal: 154ms\tremaining: 109ms\n",
      "585:\tlearn: 0.3217846\ttotal: 154ms\tremaining: 109ms\n",
      "586:\tlearn: 0.3216989\ttotal: 155ms\tremaining: 109ms\n",
      "587:\tlearn: 0.3215007\ttotal: 155ms\tremaining: 109ms\n",
      "588:\tlearn: 0.3212602\ttotal: 155ms\tremaining: 108ms\n",
      "589:\tlearn: 0.3211916\ttotal: 155ms\tremaining: 108ms\n",
      "590:\tlearn: 0.3209002\ttotal: 156ms\tremaining: 108ms\n",
      "591:\tlearn: 0.3208283\ttotal: 156ms\tremaining: 107ms\n",
      "592:\tlearn: 0.3206953\ttotal: 156ms\tremaining: 107ms\n",
      "593:\tlearn: 0.3205314\ttotal: 156ms\tremaining: 107ms\n",
      "594:\tlearn: 0.3202276\ttotal: 157ms\tremaining: 107ms\n",
      "595:\tlearn: 0.3201233\ttotal: 157ms\tremaining: 106ms\n",
      "596:\tlearn: 0.3197667\ttotal: 157ms\tremaining: 106ms\n",
      "597:\tlearn: 0.3196622\ttotal: 157ms\tremaining: 106ms\n",
      "598:\tlearn: 0.3194120\ttotal: 157ms\tremaining: 105ms\n",
      "599:\tlearn: 0.3191827\ttotal: 158ms\tremaining: 105ms\n",
      "600:\tlearn: 0.3191394\ttotal: 158ms\tremaining: 105ms\n",
      "601:\tlearn: 0.3187331\ttotal: 158ms\tremaining: 105ms\n",
      "602:\tlearn: 0.3185253\ttotal: 158ms\tremaining: 104ms\n",
      "603:\tlearn: 0.3184818\ttotal: 159ms\tremaining: 104ms\n",
      "604:\tlearn: 0.3183589\ttotal: 159ms\tremaining: 104ms\n",
      "605:\tlearn: 0.3182788\ttotal: 159ms\tremaining: 103ms\n",
      "606:\tlearn: 0.3180801\ttotal: 159ms\tremaining: 103ms\n",
      "607:\tlearn: 0.3179878\ttotal: 160ms\tremaining: 103ms\n",
      "608:\tlearn: 0.3177167\ttotal: 160ms\tremaining: 103ms\n",
      "609:\tlearn: 0.3174744\ttotal: 160ms\tremaining: 102ms\n",
      "610:\tlearn: 0.3174407\ttotal: 160ms\tremaining: 102ms\n",
      "611:\tlearn: 0.3173053\ttotal: 160ms\tremaining: 102ms\n",
      "612:\tlearn: 0.3170946\ttotal: 161ms\tremaining: 101ms\n",
      "613:\tlearn: 0.3169471\ttotal: 161ms\tremaining: 101ms\n",
      "614:\tlearn: 0.3167678\ttotal: 161ms\tremaining: 101ms\n",
      "615:\tlearn: 0.3165899\ttotal: 161ms\tremaining: 101ms\n",
      "616:\tlearn: 0.3165324\ttotal: 162ms\tremaining: 100ms\n",
      "617:\tlearn: 0.3164982\ttotal: 162ms\tremaining: 100ms\n",
      "618:\tlearn: 0.3163081\ttotal: 162ms\tremaining: 99.8ms\n",
      "619:\tlearn: 0.3162424\ttotal: 162ms\tremaining: 99.5ms\n",
      "620:\tlearn: 0.3161430\ttotal: 163ms\tremaining: 99.3ms\n",
      "621:\tlearn: 0.3159964\ttotal: 163ms\tremaining: 99ms\n",
      "622:\tlearn: 0.3158927\ttotal: 163ms\tremaining: 98.7ms\n",
      "623:\tlearn: 0.3157642\ttotal: 163ms\tremaining: 98.4ms\n",
      "624:\tlearn: 0.3155177\ttotal: 164ms\tremaining: 98.2ms\n",
      "625:\tlearn: 0.3154064\ttotal: 164ms\tremaining: 97.9ms\n",
      "626:\tlearn: 0.3152168\ttotal: 164ms\tremaining: 97.6ms\n",
      "627:\tlearn: 0.3150570\ttotal: 164ms\tremaining: 97.3ms\n",
      "628:\tlearn: 0.3148647\ttotal: 165ms\tremaining: 97.1ms\n",
      "629:\tlearn: 0.3147068\ttotal: 165ms\tremaining: 96.8ms\n",
      "630:\tlearn: 0.3146054\ttotal: 165ms\tremaining: 96.5ms\n",
      "631:\tlearn: 0.3144398\ttotal: 165ms\tremaining: 96.3ms\n",
      "632:\tlearn: 0.3142924\ttotal: 166ms\tremaining: 96ms\n",
      "633:\tlearn: 0.3141793\ttotal: 166ms\tremaining: 95.7ms\n",
      "634:\tlearn: 0.3140270\ttotal: 166ms\tremaining: 95.4ms\n",
      "635:\tlearn: 0.3138582\ttotal: 166ms\tremaining: 95.1ms\n",
      "636:\tlearn: 0.3137100\ttotal: 166ms\tremaining: 94.9ms\n",
      "637:\tlearn: 0.3135373\ttotal: 167ms\tremaining: 94.6ms\n",
      "638:\tlearn: 0.3135107\ttotal: 167ms\tremaining: 94.3ms\n",
      "639:\tlearn: 0.3133944\ttotal: 167ms\tremaining: 94ms\n",
      "640:\tlearn: 0.3132577\ttotal: 167ms\tremaining: 93.7ms\n",
      "641:\tlearn: 0.3132034\ttotal: 168ms\tremaining: 93.5ms\n",
      "642:\tlearn: 0.3131641\ttotal: 168ms\tremaining: 93.2ms\n",
      "643:\tlearn: 0.3130108\ttotal: 168ms\tremaining: 92.9ms\n",
      "644:\tlearn: 0.3128505\ttotal: 168ms\tremaining: 92.6ms\n",
      "645:\tlearn: 0.3127533\ttotal: 168ms\tremaining: 92.3ms\n",
      "646:\tlearn: 0.3125533\ttotal: 169ms\tremaining: 92ms\n",
      "647:\tlearn: 0.3124101\ttotal: 169ms\tremaining: 91.8ms\n",
      "648:\tlearn: 0.3122369\ttotal: 169ms\tremaining: 91.5ms\n",
      "649:\tlearn: 0.3120128\ttotal: 169ms\tremaining: 91.2ms\n",
      "650:\tlearn: 0.3118354\ttotal: 170ms\tremaining: 91ms\n",
      "651:\tlearn: 0.3115501\ttotal: 170ms\tremaining: 90.7ms\n",
      "652:\tlearn: 0.3113262\ttotal: 170ms\tremaining: 90.4ms\n",
      "653:\tlearn: 0.3109975\ttotal: 170ms\tremaining: 90.2ms\n",
      "654:\tlearn: 0.3107819\ttotal: 171ms\tremaining: 89.9ms\n",
      "655:\tlearn: 0.3106915\ttotal: 171ms\tremaining: 89.6ms\n",
      "656:\tlearn: 0.3104190\ttotal: 171ms\tremaining: 89.3ms\n",
      "657:\tlearn: 0.3103564\ttotal: 171ms\tremaining: 89ms\n",
      "658:\tlearn: 0.3103287\ttotal: 171ms\tremaining: 88.7ms\n",
      "659:\tlearn: 0.3101130\ttotal: 172ms\tremaining: 88.5ms\n",
      "660:\tlearn: 0.3099699\ttotal: 172ms\tremaining: 88.2ms\n",
      "661:\tlearn: 0.3099136\ttotal: 172ms\tremaining: 87.9ms\n",
      "662:\tlearn: 0.3097142\ttotal: 172ms\tremaining: 87.6ms\n",
      "663:\tlearn: 0.3096407\ttotal: 173ms\tremaining: 87.4ms\n",
      "664:\tlearn: 0.3094928\ttotal: 173ms\tremaining: 87.1ms\n",
      "665:\tlearn: 0.3094752\ttotal: 173ms\tremaining: 86.8ms\n",
      "666:\tlearn: 0.3093618\ttotal: 173ms\tremaining: 86.5ms\n",
      "667:\tlearn: 0.3092413\ttotal: 173ms\tremaining: 86.2ms\n",
      "668:\tlearn: 0.3091027\ttotal: 174ms\tremaining: 85.9ms\n",
      "669:\tlearn: 0.3089690\ttotal: 174ms\tremaining: 85.7ms\n",
      "670:\tlearn: 0.3088605\ttotal: 174ms\tremaining: 85.4ms\n",
      "671:\tlearn: 0.3086799\ttotal: 174ms\tremaining: 85.1ms\n",
      "672:\tlearn: 0.3084794\ttotal: 175ms\tremaining: 84.8ms\n",
      "673:\tlearn: 0.3082450\ttotal: 175ms\tremaining: 84.6ms\n",
      "674:\tlearn: 0.3082257\ttotal: 175ms\tremaining: 84.3ms\n",
      "675:\tlearn: 0.3079550\ttotal: 175ms\tremaining: 84ms\n",
      "676:\tlearn: 0.3079038\ttotal: 176ms\tremaining: 83.8ms\n",
      "677:\tlearn: 0.3078669\ttotal: 176ms\tremaining: 83.5ms\n",
      "678:\tlearn: 0.3078095\ttotal: 176ms\tremaining: 83.1ms\n",
      "679:\tlearn: 0.3077478\ttotal: 176ms\tremaining: 82.9ms\n",
      "680:\tlearn: 0.3076347\ttotal: 176ms\tremaining: 82.6ms\n",
      "681:\tlearn: 0.3073836\ttotal: 177ms\tremaining: 82.3ms\n",
      "682:\tlearn: 0.3073809\ttotal: 177ms\tremaining: 82ms\n",
      "683:\tlearn: 0.3071380\ttotal: 177ms\tremaining: 81.7ms\n",
      "684:\tlearn: 0.3070303\ttotal: 177ms\tremaining: 81.5ms\n",
      "685:\tlearn: 0.3069769\ttotal: 177ms\tremaining: 81.2ms\n",
      "686:\tlearn: 0.3069130\ttotal: 177ms\tremaining: 80.9ms\n",
      "687:\tlearn: 0.3067438\ttotal: 178ms\tremaining: 80.6ms\n",
      "688:\tlearn: 0.3066637\ttotal: 178ms\tremaining: 80.3ms\n",
      "689:\tlearn: 0.3064365\ttotal: 178ms\tremaining: 80.1ms\n",
      "690:\tlearn: 0.3063533\ttotal: 178ms\tremaining: 79.8ms\n",
      "691:\tlearn: 0.3061897\ttotal: 179ms\tremaining: 79.5ms\n",
      "692:\tlearn: 0.3059672\ttotal: 179ms\tremaining: 79.3ms\n",
      "693:\tlearn: 0.3058425\ttotal: 179ms\tremaining: 79ms\n",
      "694:\tlearn: 0.3057576\ttotal: 179ms\tremaining: 78.7ms\n",
      "695:\tlearn: 0.3057531\ttotal: 180ms\tremaining: 78.4ms\n",
      "696:\tlearn: 0.3054873\ttotal: 180ms\tremaining: 78.1ms\n",
      "697:\tlearn: 0.3053161\ttotal: 180ms\tremaining: 77.9ms\n",
      "698:\tlearn: 0.3050942\ttotal: 180ms\tremaining: 77.6ms\n",
      "699:\tlearn: 0.3049190\ttotal: 180ms\tremaining: 77.3ms\n",
      "700:\tlearn: 0.3047655\ttotal: 181ms\tremaining: 77.1ms\n",
      "701:\tlearn: 0.3046142\ttotal: 181ms\tremaining: 76.8ms\n",
      "702:\tlearn: 0.3045256\ttotal: 181ms\tremaining: 76.5ms\n",
      "703:\tlearn: 0.3044512\ttotal: 181ms\tremaining: 76.3ms\n",
      "704:\tlearn: 0.3043341\ttotal: 182ms\tremaining: 76ms\n",
      "705:\tlearn: 0.3042633\ttotal: 182ms\tremaining: 75.7ms\n",
      "706:\tlearn: 0.3042613\ttotal: 182ms\tremaining: 75.4ms\n",
      "707:\tlearn: 0.3041360\ttotal: 182ms\tremaining: 75.1ms\n",
      "708:\tlearn: 0.3037850\ttotal: 182ms\tremaining: 74.9ms\n",
      "709:\tlearn: 0.3036690\ttotal: 183ms\tremaining: 74.6ms\n",
      "710:\tlearn: 0.3035917\ttotal: 183ms\tremaining: 74.3ms\n",
      "711:\tlearn: 0.3034326\ttotal: 183ms\tremaining: 74.1ms\n",
      "712:\tlearn: 0.3031789\ttotal: 183ms\tremaining: 73.8ms\n",
      "713:\tlearn: 0.3030535\ttotal: 184ms\tremaining: 73.5ms\n",
      "714:\tlearn: 0.3029505\ttotal: 184ms\tremaining: 73.3ms\n",
      "715:\tlearn: 0.3028177\ttotal: 184ms\tremaining: 73ms\n",
      "716:\tlearn: 0.3027962\ttotal: 184ms\tremaining: 72.7ms\n",
      "717:\tlearn: 0.3026614\ttotal: 184ms\tremaining: 72.5ms\n",
      "718:\tlearn: 0.3023444\ttotal: 185ms\tremaining: 72.2ms\n",
      "719:\tlearn: 0.3021929\ttotal: 185ms\tremaining: 71.9ms\n",
      "720:\tlearn: 0.3021270\ttotal: 185ms\tremaining: 71.6ms\n",
      "721:\tlearn: 0.3019921\ttotal: 186ms\tremaining: 71.5ms\n",
      "722:\tlearn: 0.3019606\ttotal: 186ms\tremaining: 71.3ms\n",
      "723:\tlearn: 0.3018357\ttotal: 186ms\tremaining: 71ms\n",
      "724:\tlearn: 0.3017241\ttotal: 187ms\tremaining: 70.8ms\n",
      "725:\tlearn: 0.3016144\ttotal: 187ms\tremaining: 70.5ms\n",
      "726:\tlearn: 0.3014125\ttotal: 187ms\tremaining: 70.2ms\n",
      "727:\tlearn: 0.3012212\ttotal: 187ms\tremaining: 70ms\n",
      "728:\tlearn: 0.3010472\ttotal: 188ms\tremaining: 69.7ms\n",
      "729:\tlearn: 0.3009670\ttotal: 188ms\tremaining: 69.5ms\n",
      "730:\tlearn: 0.3009372\ttotal: 188ms\tremaining: 69.2ms\n",
      "731:\tlearn: 0.3008413\ttotal: 188ms\tremaining: 68.9ms\n",
      "732:\tlearn: 0.3007677\ttotal: 189ms\tremaining: 68.7ms\n",
      "733:\tlearn: 0.3007348\ttotal: 189ms\tremaining: 68.4ms\n",
      "734:\tlearn: 0.3006573\ttotal: 189ms\tremaining: 68.1ms\n",
      "735:\tlearn: 0.3006351\ttotal: 189ms\tremaining: 67.8ms\n",
      "736:\tlearn: 0.3005273\ttotal: 189ms\tremaining: 67.6ms\n",
      "737:\tlearn: 0.3004376\ttotal: 190ms\tremaining: 67.3ms\n",
      "738:\tlearn: 0.3001910\ttotal: 190ms\tremaining: 67.1ms\n",
      "739:\tlearn: 0.3001598\ttotal: 190ms\tremaining: 66.8ms\n",
      "740:\tlearn: 0.3000401\ttotal: 190ms\tremaining: 66.5ms\n",
      "741:\tlearn: 0.2999873\ttotal: 191ms\tremaining: 66.3ms\n",
      "742:\tlearn: 0.2999709\ttotal: 191ms\tremaining: 66ms\n",
      "743:\tlearn: 0.2998923\ttotal: 191ms\tremaining: 65.8ms\n",
      "744:\tlearn: 0.2998032\ttotal: 191ms\tremaining: 65.5ms\n",
      "745:\tlearn: 0.2996523\ttotal: 192ms\tremaining: 65.2ms\n",
      "746:\tlearn: 0.2996200\ttotal: 192ms\tremaining: 65ms\n",
      "747:\tlearn: 0.2994558\ttotal: 192ms\tremaining: 64.7ms\n",
      "748:\tlearn: 0.2993579\ttotal: 192ms\tremaining: 64.5ms\n",
      "749:\tlearn: 0.2990691\ttotal: 193ms\tremaining: 64.2ms\n",
      "750:\tlearn: 0.2989344\ttotal: 193ms\tremaining: 64ms\n",
      "751:\tlearn: 0.2988819\ttotal: 193ms\tremaining: 63.7ms\n",
      "752:\tlearn: 0.2988385\ttotal: 193ms\tremaining: 63.5ms\n",
      "753:\tlearn: 0.2987366\ttotal: 194ms\tremaining: 63.2ms\n",
      "754:\tlearn: 0.2986085\ttotal: 194ms\tremaining: 62.9ms\n",
      "755:\tlearn: 0.2984806\ttotal: 194ms\tremaining: 62.7ms\n",
      "756:\tlearn: 0.2983245\ttotal: 194ms\tremaining: 62.4ms\n",
      "757:\tlearn: 0.2981491\ttotal: 195ms\tremaining: 62.1ms\n",
      "758:\tlearn: 0.2979618\ttotal: 195ms\tremaining: 61.9ms\n",
      "759:\tlearn: 0.2979394\ttotal: 195ms\tremaining: 61.6ms\n",
      "760:\tlearn: 0.2978369\ttotal: 195ms\tremaining: 61.3ms\n",
      "761:\tlearn: 0.2976175\ttotal: 196ms\tremaining: 61.1ms\n",
      "762:\tlearn: 0.2974266\ttotal: 196ms\tremaining: 60.8ms\n",
      "763:\tlearn: 0.2973743\ttotal: 196ms\tremaining: 60.5ms\n",
      "764:\tlearn: 0.2972566\ttotal: 196ms\tremaining: 60.3ms\n",
      "765:\tlearn: 0.2969986\ttotal: 197ms\tremaining: 60.1ms\n",
      "766:\tlearn: 0.2968622\ttotal: 197ms\tremaining: 59.8ms\n",
      "767:\tlearn: 0.2967389\ttotal: 197ms\tremaining: 59.6ms\n",
      "768:\tlearn: 0.2966596\ttotal: 197ms\tremaining: 59.3ms\n",
      "769:\tlearn: 0.2964780\ttotal: 198ms\tremaining: 59ms\n",
      "770:\tlearn: 0.2963975\ttotal: 198ms\tremaining: 58.8ms\n",
      "771:\tlearn: 0.2962946\ttotal: 198ms\tremaining: 58.5ms\n",
      "772:\tlearn: 0.2962665\ttotal: 198ms\tremaining: 58.2ms\n",
      "773:\tlearn: 0.2959959\ttotal: 199ms\tremaining: 58ms\n",
      "774:\tlearn: 0.2958339\ttotal: 199ms\tremaining: 57.8ms\n",
      "775:\tlearn: 0.2956697\ttotal: 199ms\tremaining: 57.5ms\n",
      "776:\tlearn: 0.2955487\ttotal: 200ms\tremaining: 57.3ms\n",
      "777:\tlearn: 0.2954002\ttotal: 200ms\tremaining: 57ms\n",
      "778:\tlearn: 0.2953773\ttotal: 200ms\tremaining: 56.7ms\n",
      "779:\tlearn: 0.2952506\ttotal: 200ms\tremaining: 56.5ms\n",
      "780:\tlearn: 0.2950788\ttotal: 201ms\tremaining: 56.2ms\n",
      "781:\tlearn: 0.2949177\ttotal: 201ms\tremaining: 56ms\n",
      "782:\tlearn: 0.2948032\ttotal: 201ms\tremaining: 55.7ms\n",
      "783:\tlearn: 0.2946600\ttotal: 201ms\tremaining: 55.5ms\n",
      "784:\tlearn: 0.2944702\ttotal: 202ms\tremaining: 55.2ms\n",
      "785:\tlearn: 0.2944405\ttotal: 202ms\tremaining: 54.9ms\n",
      "786:\tlearn: 0.2940626\ttotal: 202ms\tremaining: 54.7ms\n",
      "787:\tlearn: 0.2938167\ttotal: 202ms\tremaining: 54.4ms\n",
      "788:\tlearn: 0.2935058\ttotal: 203ms\tremaining: 54.2ms\n",
      "789:\tlearn: 0.2932882\ttotal: 203ms\tremaining: 53.9ms\n",
      "790:\tlearn: 0.2930575\ttotal: 203ms\tremaining: 53.7ms\n",
      "791:\tlearn: 0.2930479\ttotal: 203ms\tremaining: 53.4ms\n",
      "792:\tlearn: 0.2927830\ttotal: 204ms\tremaining: 53.1ms\n",
      "793:\tlearn: 0.2927796\ttotal: 204ms\tremaining: 52.8ms\n",
      "794:\tlearn: 0.2925355\ttotal: 204ms\tremaining: 52.6ms\n",
      "795:\tlearn: 0.2924359\ttotal: 204ms\tremaining: 52.3ms\n",
      "796:\tlearn: 0.2922061\ttotal: 204ms\tremaining: 52.1ms\n",
      "797:\tlearn: 0.2920960\ttotal: 205ms\tremaining: 51.8ms\n",
      "798:\tlearn: 0.2920947\ttotal: 205ms\tremaining: 51.5ms\n",
      "799:\tlearn: 0.2919255\ttotal: 205ms\tremaining: 51.3ms\n",
      "800:\tlearn: 0.2917985\ttotal: 205ms\tremaining: 51ms\n",
      "801:\tlearn: 0.2917169\ttotal: 206ms\tremaining: 50.8ms\n",
      "802:\tlearn: 0.2916036\ttotal: 206ms\tremaining: 50.5ms\n",
      "803:\tlearn: 0.2913630\ttotal: 206ms\tremaining: 50.3ms\n",
      "804:\tlearn: 0.2909271\ttotal: 206ms\tremaining: 50ms\n",
      "805:\tlearn: 0.2906828\ttotal: 207ms\tremaining: 49.8ms\n",
      "806:\tlearn: 0.2905849\ttotal: 207ms\tremaining: 49.5ms\n",
      "807:\tlearn: 0.2903281\ttotal: 207ms\tremaining: 49.2ms\n",
      "808:\tlearn: 0.2902735\ttotal: 207ms\tremaining: 49ms\n",
      "809:\tlearn: 0.2899321\ttotal: 208ms\tremaining: 48.7ms\n",
      "810:\tlearn: 0.2898616\ttotal: 208ms\tremaining: 48.5ms\n",
      "811:\tlearn: 0.2896634\ttotal: 208ms\tremaining: 48.2ms\n",
      "812:\tlearn: 0.2893155\ttotal: 209ms\tremaining: 48ms\n",
      "813:\tlearn: 0.2892847\ttotal: 209ms\tremaining: 47.7ms\n",
      "814:\tlearn: 0.2890949\ttotal: 209ms\tremaining: 47.5ms\n",
      "815:\tlearn: 0.2889219\ttotal: 209ms\tremaining: 47.2ms\n",
      "816:\tlearn: 0.2887755\ttotal: 210ms\tremaining: 46.9ms\n",
      "817:\tlearn: 0.2886576\ttotal: 210ms\tremaining: 46.7ms\n",
      "818:\tlearn: 0.2884294\ttotal: 210ms\tremaining: 46.4ms\n",
      "819:\tlearn: 0.2882930\ttotal: 210ms\tremaining: 46.2ms\n",
      "820:\tlearn: 0.2880632\ttotal: 211ms\tremaining: 45.9ms\n",
      "821:\tlearn: 0.2877958\ttotal: 211ms\tremaining: 45.7ms\n",
      "822:\tlearn: 0.2876057\ttotal: 211ms\tremaining: 45.4ms\n",
      "823:\tlearn: 0.2875682\ttotal: 211ms\tremaining: 45.2ms\n",
      "824:\tlearn: 0.2874287\ttotal: 212ms\tremaining: 44.9ms\n",
      "825:\tlearn: 0.2872194\ttotal: 212ms\tremaining: 44.7ms\n",
      "826:\tlearn: 0.2870195\ttotal: 212ms\tremaining: 44.4ms\n",
      "827:\tlearn: 0.2868916\ttotal: 213ms\tremaining: 44.2ms\n",
      "828:\tlearn: 0.2867451\ttotal: 213ms\tremaining: 43.9ms\n",
      "829:\tlearn: 0.2866306\ttotal: 213ms\tremaining: 43.7ms\n",
      "830:\tlearn: 0.2864313\ttotal: 214ms\tremaining: 43.4ms\n",
      "831:\tlearn: 0.2863907\ttotal: 214ms\tremaining: 43.1ms\n",
      "832:\tlearn: 0.2861731\ttotal: 214ms\tremaining: 42.9ms\n",
      "833:\tlearn: 0.2860610\ttotal: 214ms\tremaining: 42.6ms\n",
      "834:\tlearn: 0.2859116\ttotal: 215ms\tremaining: 42.4ms\n",
      "835:\tlearn: 0.2857853\ttotal: 215ms\tremaining: 42.2ms\n",
      "836:\tlearn: 0.2856215\ttotal: 215ms\tremaining: 41.9ms\n",
      "837:\tlearn: 0.2854335\ttotal: 215ms\tremaining: 41.7ms\n",
      "838:\tlearn: 0.2853161\ttotal: 216ms\tremaining: 41.4ms\n",
      "839:\tlearn: 0.2851918\ttotal: 216ms\tremaining: 41.2ms\n",
      "840:\tlearn: 0.2850312\ttotal: 216ms\tremaining: 40.9ms\n",
      "841:\tlearn: 0.2849486\ttotal: 217ms\tremaining: 40.6ms\n",
      "842:\tlearn: 0.2848112\ttotal: 217ms\tremaining: 40.4ms\n",
      "843:\tlearn: 0.2846758\ttotal: 217ms\tremaining: 40.1ms\n",
      "844:\tlearn: 0.2845703\ttotal: 217ms\tremaining: 39.9ms\n",
      "845:\tlearn: 0.2843926\ttotal: 218ms\tremaining: 39.6ms\n",
      "846:\tlearn: 0.2842697\ttotal: 218ms\tremaining: 39.3ms\n",
      "847:\tlearn: 0.2841768\ttotal: 218ms\tremaining: 39.1ms\n",
      "848:\tlearn: 0.2841044\ttotal: 218ms\tremaining: 38.8ms\n",
      "849:\tlearn: 0.2840208\ttotal: 219ms\tremaining: 38.6ms\n",
      "850:\tlearn: 0.2839357\ttotal: 219ms\tremaining: 38.3ms\n",
      "851:\tlearn: 0.2837625\ttotal: 219ms\tremaining: 38ms\n",
      "852:\tlearn: 0.2836807\ttotal: 219ms\tremaining: 37.8ms\n",
      "853:\tlearn: 0.2835504\ttotal: 219ms\tremaining: 37.5ms\n",
      "854:\tlearn: 0.2834093\ttotal: 220ms\tremaining: 37.3ms\n",
      "855:\tlearn: 0.2833609\ttotal: 220ms\tremaining: 37ms\n",
      "856:\tlearn: 0.2831000\ttotal: 220ms\tremaining: 36.7ms\n",
      "857:\tlearn: 0.2829769\ttotal: 220ms\tremaining: 36.5ms\n",
      "858:\tlearn: 0.2828429\ttotal: 221ms\tremaining: 36.2ms\n",
      "859:\tlearn: 0.2826069\ttotal: 221ms\tremaining: 36ms\n",
      "860:\tlearn: 0.2825370\ttotal: 221ms\tremaining: 35.7ms\n",
      "861:\tlearn: 0.2823832\ttotal: 221ms\tremaining: 35.4ms\n",
      "862:\tlearn: 0.2823052\ttotal: 222ms\tremaining: 35.2ms\n",
      "863:\tlearn: 0.2821908\ttotal: 222ms\tremaining: 34.9ms\n",
      "864:\tlearn: 0.2821791\ttotal: 222ms\tremaining: 34.6ms\n",
      "865:\tlearn: 0.2820486\ttotal: 222ms\tremaining: 34.4ms\n",
      "866:\tlearn: 0.2818422\ttotal: 222ms\tremaining: 34.1ms\n",
      "867:\tlearn: 0.2817253\ttotal: 223ms\tremaining: 33.9ms\n",
      "868:\tlearn: 0.2815255\ttotal: 223ms\tremaining: 33.6ms\n",
      "869:\tlearn: 0.2813958\ttotal: 223ms\tremaining: 33.3ms\n",
      "870:\tlearn: 0.2812291\ttotal: 223ms\tremaining: 33.1ms\n",
      "871:\tlearn: 0.2810275\ttotal: 224ms\tremaining: 32.8ms\n",
      "872:\tlearn: 0.2808188\ttotal: 224ms\tremaining: 32.6ms\n",
      "873:\tlearn: 0.2807006\ttotal: 224ms\tremaining: 32.3ms\n",
      "874:\tlearn: 0.2805362\ttotal: 224ms\tremaining: 32.1ms\n",
      "875:\tlearn: 0.2805289\ttotal: 225ms\tremaining: 31.8ms\n",
      "876:\tlearn: 0.2803872\ttotal: 225ms\tremaining: 31.5ms\n",
      "877:\tlearn: 0.2801879\ttotal: 225ms\tremaining: 31.3ms\n",
      "878:\tlearn: 0.2801167\ttotal: 225ms\tremaining: 31ms\n",
      "879:\tlearn: 0.2799301\ttotal: 226ms\tremaining: 30.8ms\n",
      "880:\tlearn: 0.2798663\ttotal: 226ms\tremaining: 30.5ms\n",
      "881:\tlearn: 0.2797047\ttotal: 226ms\tremaining: 30.3ms\n",
      "882:\tlearn: 0.2796253\ttotal: 226ms\tremaining: 30ms\n",
      "883:\tlearn: 0.2795984\ttotal: 227ms\tremaining: 29.7ms\n",
      "884:\tlearn: 0.2793784\ttotal: 227ms\tremaining: 29.5ms\n",
      "885:\tlearn: 0.2793391\ttotal: 227ms\tremaining: 29.2ms\n",
      "886:\tlearn: 0.2790721\ttotal: 227ms\tremaining: 29ms\n",
      "887:\tlearn: 0.2788941\ttotal: 228ms\tremaining: 28.7ms\n",
      "888:\tlearn: 0.2787164\ttotal: 228ms\tremaining: 28.4ms\n",
      "889:\tlearn: 0.2787040\ttotal: 228ms\tremaining: 28.2ms\n",
      "890:\tlearn: 0.2785703\ttotal: 228ms\tremaining: 27.9ms\n",
      "891:\tlearn: 0.2783487\ttotal: 228ms\tremaining: 27.7ms\n",
      "892:\tlearn: 0.2781039\ttotal: 229ms\tremaining: 27.4ms\n",
      "893:\tlearn: 0.2780246\ttotal: 229ms\tremaining: 27.1ms\n",
      "894:\tlearn: 0.2777933\ttotal: 229ms\tremaining: 26.9ms\n",
      "895:\tlearn: 0.2774602\ttotal: 230ms\tremaining: 26.6ms\n",
      "896:\tlearn: 0.2773267\ttotal: 230ms\tremaining: 26.4ms\n",
      "897:\tlearn: 0.2772889\ttotal: 230ms\tremaining: 26.1ms\n",
      "898:\tlearn: 0.2771995\ttotal: 230ms\tremaining: 25.9ms\n",
      "899:\tlearn: 0.2771190\ttotal: 231ms\tremaining: 25.6ms\n",
      "900:\tlearn: 0.2770039\ttotal: 231ms\tremaining: 25.4ms\n",
      "901:\tlearn: 0.2769677\ttotal: 231ms\tremaining: 25.1ms\n",
      "902:\tlearn: 0.2768301\ttotal: 231ms\tremaining: 24.8ms\n",
      "903:\tlearn: 0.2767629\ttotal: 231ms\tremaining: 24.6ms\n",
      "904:\tlearn: 0.2766093\ttotal: 232ms\tremaining: 24.3ms\n",
      "905:\tlearn: 0.2765118\ttotal: 232ms\tremaining: 24.1ms\n",
      "906:\tlearn: 0.2764296\ttotal: 232ms\tremaining: 23.8ms\n",
      "907:\tlearn: 0.2762507\ttotal: 232ms\tremaining: 23.5ms\n",
      "908:\tlearn: 0.2761173\ttotal: 233ms\tremaining: 23.3ms\n",
      "909:\tlearn: 0.2759929\ttotal: 233ms\tremaining: 23ms\n",
      "910:\tlearn: 0.2757145\ttotal: 233ms\tremaining: 22.8ms\n",
      "911:\tlearn: 0.2755865\ttotal: 233ms\tremaining: 22.5ms\n",
      "912:\tlearn: 0.2754068\ttotal: 234ms\tremaining: 22.3ms\n",
      "913:\tlearn: 0.2752646\ttotal: 234ms\tremaining: 22ms\n",
      "914:\tlearn: 0.2750426\ttotal: 234ms\tremaining: 21.7ms\n",
      "915:\tlearn: 0.2748985\ttotal: 234ms\tremaining: 21.5ms\n",
      "916:\tlearn: 0.2748393\ttotal: 234ms\tremaining: 21.2ms\n",
      "917:\tlearn: 0.2746059\ttotal: 235ms\tremaining: 21ms\n",
      "918:\tlearn: 0.2745519\ttotal: 235ms\tremaining: 20.7ms\n",
      "919:\tlearn: 0.2744481\ttotal: 235ms\tremaining: 20.4ms\n",
      "920:\tlearn: 0.2742752\ttotal: 235ms\tremaining: 20.2ms\n",
      "921:\tlearn: 0.2742628\ttotal: 236ms\tremaining: 19.9ms\n",
      "922:\tlearn: 0.2742405\ttotal: 236ms\tremaining: 19.7ms\n",
      "923:\tlearn: 0.2740695\ttotal: 236ms\tremaining: 19.4ms\n",
      "924:\tlearn: 0.2738391\ttotal: 236ms\tremaining: 19.2ms\n",
      "925:\tlearn: 0.2736447\ttotal: 236ms\tremaining: 18.9ms\n",
      "926:\tlearn: 0.2733850\ttotal: 237ms\tremaining: 18.6ms\n",
      "927:\tlearn: 0.2731884\ttotal: 237ms\tremaining: 18.4ms\n",
      "928:\tlearn: 0.2730329\ttotal: 237ms\tremaining: 18.1ms\n",
      "929:\tlearn: 0.2728166\ttotal: 237ms\tremaining: 17.9ms\n",
      "930:\tlearn: 0.2726181\ttotal: 238ms\tremaining: 17.6ms\n",
      "931:\tlearn: 0.2723918\ttotal: 238ms\tremaining: 17.4ms\n",
      "932:\tlearn: 0.2723806\ttotal: 238ms\tremaining: 17.1ms\n",
      "933:\tlearn: 0.2723219\ttotal: 238ms\tremaining: 16.8ms\n",
      "934:\tlearn: 0.2721884\ttotal: 238ms\tremaining: 16.6ms\n",
      "935:\tlearn: 0.2719904\ttotal: 239ms\tremaining: 16.3ms\n",
      "936:\tlearn: 0.2718112\ttotal: 239ms\tremaining: 16.1ms\n",
      "937:\tlearn: 0.2716149\ttotal: 239ms\tremaining: 15.8ms\n",
      "938:\tlearn: 0.2714231\ttotal: 239ms\tremaining: 15.6ms\n",
      "939:\tlearn: 0.2713893\ttotal: 240ms\tremaining: 15.3ms\n",
      "940:\tlearn: 0.2713110\ttotal: 240ms\tremaining: 15ms\n",
      "941:\tlearn: 0.2712623\ttotal: 240ms\tremaining: 14.8ms\n",
      "942:\tlearn: 0.2711858\ttotal: 240ms\tremaining: 14.5ms\n",
      "943:\tlearn: 0.2709857\ttotal: 241ms\tremaining: 14.3ms\n",
      "944:\tlearn: 0.2709126\ttotal: 241ms\tremaining: 14ms\n",
      "945:\tlearn: 0.2708667\ttotal: 241ms\tremaining: 13.8ms\n",
      "946:\tlearn: 0.2707921\ttotal: 241ms\tremaining: 13.5ms\n",
      "947:\tlearn: 0.2706630\ttotal: 242ms\tremaining: 13.3ms\n",
      "948:\tlearn: 0.2704899\ttotal: 242ms\tremaining: 13ms\n",
      "949:\tlearn: 0.2703318\ttotal: 242ms\tremaining: 12.7ms\n",
      "950:\tlearn: 0.2702013\ttotal: 242ms\tremaining: 12.5ms\n",
      "951:\tlearn: 0.2701858\ttotal: 243ms\tremaining: 12.2ms\n",
      "952:\tlearn: 0.2699745\ttotal: 243ms\tremaining: 12ms\n",
      "953:\tlearn: 0.2696471\ttotal: 243ms\tremaining: 11.7ms\n",
      "954:\tlearn: 0.2693863\ttotal: 243ms\tremaining: 11.5ms\n",
      "955:\tlearn: 0.2693856\ttotal: 243ms\tremaining: 11.2ms\n",
      "956:\tlearn: 0.2691893\ttotal: 244ms\tremaining: 10.9ms\n",
      "957:\tlearn: 0.2691362\ttotal: 244ms\tremaining: 10.7ms\n",
      "958:\tlearn: 0.2690291\ttotal: 244ms\tremaining: 10.4ms\n",
      "959:\tlearn: 0.2688416\ttotal: 244ms\tremaining: 10.2ms\n",
      "960:\tlearn: 0.2687891\ttotal: 245ms\tremaining: 9.93ms\n",
      "961:\tlearn: 0.2685300\ttotal: 245ms\tremaining: 9.67ms\n",
      "962:\tlearn: 0.2684582\ttotal: 245ms\tremaining: 9.41ms\n",
      "963:\tlearn: 0.2681710\ttotal: 245ms\tremaining: 9.16ms\n",
      "964:\tlearn: 0.2679610\ttotal: 246ms\tremaining: 8.91ms\n",
      "965:\tlearn: 0.2677958\ttotal: 246ms\tremaining: 8.65ms\n",
      "966:\tlearn: 0.2676989\ttotal: 246ms\tremaining: 8.4ms\n",
      "967:\tlearn: 0.2675879\ttotal: 246ms\tremaining: 8.14ms\n",
      "968:\tlearn: 0.2675169\ttotal: 247ms\tremaining: 7.89ms\n",
      "969:\tlearn: 0.2675012\ttotal: 247ms\tremaining: 7.63ms\n",
      "970:\tlearn: 0.2673355\ttotal: 247ms\tremaining: 7.37ms\n",
      "971:\tlearn: 0.2672288\ttotal: 247ms\tremaining: 7.12ms\n",
      "972:\tlearn: 0.2671578\ttotal: 247ms\tremaining: 6.87ms\n",
      "973:\tlearn: 0.2668546\ttotal: 248ms\tremaining: 6.61ms\n",
      "974:\tlearn: 0.2668454\ttotal: 248ms\tremaining: 6.35ms\n",
      "975:\tlearn: 0.2667232\ttotal: 248ms\tremaining: 6.1ms\n",
      "976:\tlearn: 0.2665951\ttotal: 248ms\tremaining: 5.85ms\n",
      "977:\tlearn: 0.2665738\ttotal: 249ms\tremaining: 5.59ms\n",
      "978:\tlearn: 0.2664347\ttotal: 249ms\tremaining: 5.33ms\n",
      "979:\tlearn: 0.2662810\ttotal: 249ms\tremaining: 5.08ms\n",
      "980:\tlearn: 0.2661945\ttotal: 249ms\tremaining: 4.83ms\n",
      "981:\tlearn: 0.2660549\ttotal: 249ms\tremaining: 4.57ms\n",
      "982:\tlearn: 0.2660407\ttotal: 250ms\tremaining: 4.32ms\n",
      "983:\tlearn: 0.2657896\ttotal: 250ms\tremaining: 4.06ms\n",
      "984:\tlearn: 0.2654681\ttotal: 250ms\tremaining: 3.81ms\n",
      "985:\tlearn: 0.2652724\ttotal: 250ms\tremaining: 3.55ms\n",
      "986:\tlearn: 0.2652149\ttotal: 251ms\tremaining: 3.3ms\n",
      "987:\tlearn: 0.2650857\ttotal: 251ms\tremaining: 3.05ms\n",
      "988:\tlearn: 0.2649781\ttotal: 251ms\tremaining: 2.79ms\n",
      "989:\tlearn: 0.2649186\ttotal: 251ms\tremaining: 2.54ms\n",
      "990:\tlearn: 0.2648170\ttotal: 252ms\tremaining: 2.28ms\n",
      "991:\tlearn: 0.2647261\ttotal: 252ms\tremaining: 2.03ms\n",
      "992:\tlearn: 0.2645789\ttotal: 252ms\tremaining: 1.78ms\n",
      "993:\tlearn: 0.2644693\ttotal: 252ms\tremaining: 1.52ms\n",
      "994:\tlearn: 0.2643600\ttotal: 253ms\tremaining: 1.27ms\n",
      "995:\tlearn: 0.2643372\ttotal: 253ms\tremaining: 1.01ms\n",
      "996:\tlearn: 0.2640739\ttotal: 253ms\tremaining: 760us\n",
      "997:\tlearn: 0.2639984\ttotal: 253ms\tremaining: 507us\n",
      "998:\tlearn: 0.2638937\ttotal: 253ms\tremaining: 253us\n",
      "999:\tlearn: 0.2637530\ttotal: 254ms\tremaining: 0us\n"
     ]
    },
    {
     "data": {
      "text/plain": "<catboost.core.CatBoostClassifier at 0x179eb9a50>"
     },
     "execution_count": 54,
     "metadata": {},
     "output_type": "execute_result"
    }
   ],
   "source": [
    "X_train, X_test, y_train, y_test = train_test_split(X, y, test_size=0.2, random_state=52)\n",
    "model = CatBoostClassifier()\n",
    "model.fit(X_test, y_test, plot=True)"
   ],
   "metadata": {
    "collapsed": false,
    "ExecuteTime": {
     "end_time": "2024-07-25T07:29:04.887460Z",
     "start_time": "2024-07-25T07:29:04.594071Z"
    }
   },
   "id": "6664985364594489",
   "execution_count": 54
  },
  {
   "cell_type": "code",
   "outputs": [
    {
     "data": {
      "text/plain": "array([1, 0, 0, 1, 0, 0, 1, 0, 0, 0, 0, 0, 0, 0, 0, 0, 0, 0, 0, 0, 0, 1,\n       0, 1, 0, 0, 0, 1, 0, 1, 0, 1, 0, 0, 0, 0, 0, 0, 0, 0, 0, 0, 0, 0,\n       1, 0, 0, 0, 0, 0, 0, 0, 0, 0, 1, 1, 0, 0, 0, 0, 0, 0, 1, 0, 1, 0,\n       1, 0, 1, 0, 1, 1, 1, 1, 0, 1, 0, 0, 0, 0, 1, 0, 0, 0, 0, 0, 0, 1,\n       0, 0, 0, 0, 1, 0, 0, 0, 1, 1, 0, 0, 0, 0, 1, 0, 0, 1, 0, 1, 0, 0,\n       0, 1, 0, 0, 1, 0, 1, 0, 0, 0, 0, 1, 0, 0, 0, 0, 1, 0, 0, 0, 1, 0,\n       0, 0, 1, 0, 1, 0, 0, 0, 1, 0, 1, 0, 0, 1, 0, 1, 1, 1, 0, 0, 1, 0,\n       0, 0, 1, 0, 1, 0, 1, 1, 0, 0, 0, 0, 0, 0, 0, 0, 0, 0, 1, 1, 0, 1,\n       1, 1, 0])"
     },
     "execution_count": 55,
     "metadata": {},
     "output_type": "execute_result"
    }
   ],
   "source": [
    "model.predict(X_test)"
   ],
   "metadata": {
    "collapsed": false,
    "ExecuteTime": {
     "end_time": "2024-07-25T07:29:04.945789Z",
     "start_time": "2024-07-25T07:29:04.941975Z"
    }
   },
   "id": "285c076402cfd3d9",
   "execution_count": 55
  },
  {
   "cell_type": "code",
   "outputs": [
    {
     "data": {
      "text/plain": "0.9106145251396648"
     },
     "execution_count": 56,
     "metadata": {},
     "output_type": "execute_result"
    }
   ],
   "source": [
    "model.score(X_test, y_test)"
   ],
   "metadata": {
    "collapsed": false,
    "ExecuteTime": {
     "end_time": "2024-07-25T07:29:05.647245Z",
     "start_time": "2024-07-25T07:29:05.643764Z"
    }
   },
   "id": "9157f5c07048d14b",
   "execution_count": 56
  },
  {
   "cell_type": "code",
   "outputs": [
    {
     "data": {
      "text/plain": "     PassengerId  Pclass                                          Name  \\\n0            892       3                              Kelly, Mr. James   \n1            893       3              Wilkes, Mrs. James (Ellen Needs)   \n2            894       2                     Myles, Mr. Thomas Francis   \n3            895       3                              Wirz, Mr. Albert   \n4            896       3  Hirvonen, Mrs. Alexander (Helga E Lindqvist)   \n..           ...     ...                                           ...   \n413         1305       3                            Spector, Mr. Woolf   \n414         1306       1                  Oliva y Ocana, Dona. Fermina   \n415         1307       3                  Saether, Mr. Simon Sivertsen   \n416         1308       3                           Ware, Mr. Frederick   \n417         1309       3                      Peter, Master. Michael J   \n\n        Sex   Age  SibSp  Parch              Ticket      Fare Cabin Embarked  \n0      male  34.5      0      0              330911    7.8292   NaN        Q  \n1    female  47.0      1      0              363272    7.0000   NaN        S  \n2      male  62.0      0      0              240276    9.6875   NaN        Q  \n3      male  27.0      0      0              315154    8.6625   NaN        S  \n4    female  22.0      1      1             3101298   12.2875   NaN        S  \n..      ...   ...    ...    ...                 ...       ...   ...      ...  \n413    male   NaN      0      0           A.5. 3236    8.0500   NaN        S  \n414  female  39.0      0      0            PC 17758  108.9000  C105        C  \n415    male  38.5      0      0  SOTON/O.Q. 3101262    7.2500   NaN        S  \n416    male   NaN      0      0              359309    8.0500   NaN        S  \n417    male   NaN      1      1                2668   22.3583   NaN        C  \n\n[418 rows x 11 columns]",
      "text/html": "<div>\n<style scoped>\n    .dataframe tbody tr th:only-of-type {\n        vertical-align: middle;\n    }\n\n    .dataframe tbody tr th {\n        vertical-align: top;\n    }\n\n    .dataframe thead th {\n        text-align: right;\n    }\n</style>\n<table border=\"1\" class=\"dataframe\">\n  <thead>\n    <tr style=\"text-align: right;\">\n      <th></th>\n      <th>PassengerId</th>\n      <th>Pclass</th>\n      <th>Name</th>\n      <th>Sex</th>\n      <th>Age</th>\n      <th>SibSp</th>\n      <th>Parch</th>\n      <th>Ticket</th>\n      <th>Fare</th>\n      <th>Cabin</th>\n      <th>Embarked</th>\n    </tr>\n  </thead>\n  <tbody>\n    <tr>\n      <th>0</th>\n      <td>892</td>\n      <td>3</td>\n      <td>Kelly, Mr. James</td>\n      <td>male</td>\n      <td>34.5</td>\n      <td>0</td>\n      <td>0</td>\n      <td>330911</td>\n      <td>7.8292</td>\n      <td>NaN</td>\n      <td>Q</td>\n    </tr>\n    <tr>\n      <th>1</th>\n      <td>893</td>\n      <td>3</td>\n      <td>Wilkes, Mrs. James (Ellen Needs)</td>\n      <td>female</td>\n      <td>47.0</td>\n      <td>1</td>\n      <td>0</td>\n      <td>363272</td>\n      <td>7.0000</td>\n      <td>NaN</td>\n      <td>S</td>\n    </tr>\n    <tr>\n      <th>2</th>\n      <td>894</td>\n      <td>2</td>\n      <td>Myles, Mr. Thomas Francis</td>\n      <td>male</td>\n      <td>62.0</td>\n      <td>0</td>\n      <td>0</td>\n      <td>240276</td>\n      <td>9.6875</td>\n      <td>NaN</td>\n      <td>Q</td>\n    </tr>\n    <tr>\n      <th>3</th>\n      <td>895</td>\n      <td>3</td>\n      <td>Wirz, Mr. Albert</td>\n      <td>male</td>\n      <td>27.0</td>\n      <td>0</td>\n      <td>0</td>\n      <td>315154</td>\n      <td>8.6625</td>\n      <td>NaN</td>\n      <td>S</td>\n    </tr>\n    <tr>\n      <th>4</th>\n      <td>896</td>\n      <td>3</td>\n      <td>Hirvonen, Mrs. Alexander (Helga E Lindqvist)</td>\n      <td>female</td>\n      <td>22.0</td>\n      <td>1</td>\n      <td>1</td>\n      <td>3101298</td>\n      <td>12.2875</td>\n      <td>NaN</td>\n      <td>S</td>\n    </tr>\n    <tr>\n      <th>...</th>\n      <td>...</td>\n      <td>...</td>\n      <td>...</td>\n      <td>...</td>\n      <td>...</td>\n      <td>...</td>\n      <td>...</td>\n      <td>...</td>\n      <td>...</td>\n      <td>...</td>\n      <td>...</td>\n    </tr>\n    <tr>\n      <th>413</th>\n      <td>1305</td>\n      <td>3</td>\n      <td>Spector, Mr. Woolf</td>\n      <td>male</td>\n      <td>NaN</td>\n      <td>0</td>\n      <td>0</td>\n      <td>A.5. 3236</td>\n      <td>8.0500</td>\n      <td>NaN</td>\n      <td>S</td>\n    </tr>\n    <tr>\n      <th>414</th>\n      <td>1306</td>\n      <td>1</td>\n      <td>Oliva y Ocana, Dona. Fermina</td>\n      <td>female</td>\n      <td>39.0</td>\n      <td>0</td>\n      <td>0</td>\n      <td>PC 17758</td>\n      <td>108.9000</td>\n      <td>C105</td>\n      <td>C</td>\n    </tr>\n    <tr>\n      <th>415</th>\n      <td>1307</td>\n      <td>3</td>\n      <td>Saether, Mr. Simon Sivertsen</td>\n      <td>male</td>\n      <td>38.5</td>\n      <td>0</td>\n      <td>0</td>\n      <td>SOTON/O.Q. 3101262</td>\n      <td>7.2500</td>\n      <td>NaN</td>\n      <td>S</td>\n    </tr>\n    <tr>\n      <th>416</th>\n      <td>1308</td>\n      <td>3</td>\n      <td>Ware, Mr. Frederick</td>\n      <td>male</td>\n      <td>NaN</td>\n      <td>0</td>\n      <td>0</td>\n      <td>359309</td>\n      <td>8.0500</td>\n      <td>NaN</td>\n      <td>S</td>\n    </tr>\n    <tr>\n      <th>417</th>\n      <td>1309</td>\n      <td>3</td>\n      <td>Peter, Master. Michael J</td>\n      <td>male</td>\n      <td>NaN</td>\n      <td>1</td>\n      <td>1</td>\n      <td>2668</td>\n      <td>22.3583</td>\n      <td>NaN</td>\n      <td>C</td>\n    </tr>\n  </tbody>\n</table>\n<p>418 rows × 11 columns</p>\n</div>"
     },
     "execution_count": 62,
     "metadata": {},
     "output_type": "execute_result"
    }
   ],
   "source": [
    "test_df = pd.read_csv('data/test.csv')\n",
    "test_df"
   ],
   "metadata": {
    "collapsed": false,
    "ExecuteTime": {
     "end_time": "2024-07-25T08:02:16.353540Z",
     "start_time": "2024-07-25T08:02:16.342603Z"
    }
   },
   "id": "43982ddff3d1b0e6",
   "execution_count": 62
  },
  {
   "cell_type": "code",
   "outputs": [
    {
     "data": {
      "text/plain": "     Pclass     Sex   Age      Fare\n0         3    male  34.5    7.8292\n1         3  female  47.0    7.0000\n2         2    male  62.0    9.6875\n3         3    male  27.0    8.6625\n4         3  female  22.0   12.2875\n..      ...     ...   ...       ...\n413       3    male   NaN    8.0500\n414       1  female  39.0  108.9000\n415       3    male  38.5    7.2500\n416       3    male   NaN    8.0500\n417       3    male   NaN   22.3583\n\n[418 rows x 4 columns]",
      "text/html": "<div>\n<style scoped>\n    .dataframe tbody tr th:only-of-type {\n        vertical-align: middle;\n    }\n\n    .dataframe tbody tr th {\n        vertical-align: top;\n    }\n\n    .dataframe thead th {\n        text-align: right;\n    }\n</style>\n<table border=\"1\" class=\"dataframe\">\n  <thead>\n    <tr style=\"text-align: right;\">\n      <th></th>\n      <th>Pclass</th>\n      <th>Sex</th>\n      <th>Age</th>\n      <th>Fare</th>\n    </tr>\n  </thead>\n  <tbody>\n    <tr>\n      <th>0</th>\n      <td>3</td>\n      <td>male</td>\n      <td>34.5</td>\n      <td>7.8292</td>\n    </tr>\n    <tr>\n      <th>1</th>\n      <td>3</td>\n      <td>female</td>\n      <td>47.0</td>\n      <td>7.0000</td>\n    </tr>\n    <tr>\n      <th>2</th>\n      <td>2</td>\n      <td>male</td>\n      <td>62.0</td>\n      <td>9.6875</td>\n    </tr>\n    <tr>\n      <th>3</th>\n      <td>3</td>\n      <td>male</td>\n      <td>27.0</td>\n      <td>8.6625</td>\n    </tr>\n    <tr>\n      <th>4</th>\n      <td>3</td>\n      <td>female</td>\n      <td>22.0</td>\n      <td>12.2875</td>\n    </tr>\n    <tr>\n      <th>...</th>\n      <td>...</td>\n      <td>...</td>\n      <td>...</td>\n      <td>...</td>\n    </tr>\n    <tr>\n      <th>413</th>\n      <td>3</td>\n      <td>male</td>\n      <td>NaN</td>\n      <td>8.0500</td>\n    </tr>\n    <tr>\n      <th>414</th>\n      <td>1</td>\n      <td>female</td>\n      <td>39.0</td>\n      <td>108.9000</td>\n    </tr>\n    <tr>\n      <th>415</th>\n      <td>3</td>\n      <td>male</td>\n      <td>38.5</td>\n      <td>7.2500</td>\n    </tr>\n    <tr>\n      <th>416</th>\n      <td>3</td>\n      <td>male</td>\n      <td>NaN</td>\n      <td>8.0500</td>\n    </tr>\n    <tr>\n      <th>417</th>\n      <td>3</td>\n      <td>male</td>\n      <td>NaN</td>\n      <td>22.3583</td>\n    </tr>\n  </tbody>\n</table>\n<p>418 rows × 4 columns</p>\n</div>"
     },
     "execution_count": 63,
     "metadata": {},
     "output_type": "execute_result"
    }
   ],
   "source": [
    "test_df[features]"
   ],
   "metadata": {
    "collapsed": false,
    "ExecuteTime": {
     "end_time": "2024-07-25T08:02:42.245292Z",
     "start_time": "2024-07-25T08:02:42.224480Z"
    }
   },
   "id": "218005553f430f80",
   "execution_count": 63
  },
  {
   "cell_type": "code",
   "outputs": [],
   "source": [
    "for feature in features:\n",
    "    if test_df[feature].isnull().sum() != 0:\n",
    "        test_df[feature] = test_df[feature].fillna(X[feature].median())"
   ],
   "metadata": {
    "collapsed": false,
    "ExecuteTime": {
     "end_time": "2024-07-25T08:04:55.533749Z",
     "start_time": "2024-07-25T08:04:55.525790Z"
    }
   },
   "id": "80c55a80b17ab7f7",
   "execution_count": 65
  },
  {
   "cell_type": "code",
   "outputs": [
    {
     "data": {
      "text/plain": "     Pclass     Sex        Age      Fare\n0         3    male  34.500000    7.8292\n1         3  female  47.000000    7.0000\n2         2    male  62.000000    9.6875\n3         3    male  27.000000    8.6625\n4         3  female  22.000000   12.2875\n..      ...     ...        ...       ...\n413       3    male  29.699118    8.0500\n414       1  female  39.000000  108.9000\n415       3    male  38.500000    7.2500\n416       3    male  29.699118    8.0500\n417       3    male  29.699118   22.3583\n\n[418 rows x 4 columns]",
      "text/html": "<div>\n<style scoped>\n    .dataframe tbody tr th:only-of-type {\n        vertical-align: middle;\n    }\n\n    .dataframe tbody tr th {\n        vertical-align: top;\n    }\n\n    .dataframe thead th {\n        text-align: right;\n    }\n</style>\n<table border=\"1\" class=\"dataframe\">\n  <thead>\n    <tr style=\"text-align: right;\">\n      <th></th>\n      <th>Pclass</th>\n      <th>Sex</th>\n      <th>Age</th>\n      <th>Fare</th>\n    </tr>\n  </thead>\n  <tbody>\n    <tr>\n      <th>0</th>\n      <td>3</td>\n      <td>male</td>\n      <td>34.500000</td>\n      <td>7.8292</td>\n    </tr>\n    <tr>\n      <th>1</th>\n      <td>3</td>\n      <td>female</td>\n      <td>47.000000</td>\n      <td>7.0000</td>\n    </tr>\n    <tr>\n      <th>2</th>\n      <td>2</td>\n      <td>male</td>\n      <td>62.000000</td>\n      <td>9.6875</td>\n    </tr>\n    <tr>\n      <th>3</th>\n      <td>3</td>\n      <td>male</td>\n      <td>27.000000</td>\n      <td>8.6625</td>\n    </tr>\n    <tr>\n      <th>4</th>\n      <td>3</td>\n      <td>female</td>\n      <td>22.000000</td>\n      <td>12.2875</td>\n    </tr>\n    <tr>\n      <th>...</th>\n      <td>...</td>\n      <td>...</td>\n      <td>...</td>\n      <td>...</td>\n    </tr>\n    <tr>\n      <th>413</th>\n      <td>3</td>\n      <td>male</td>\n      <td>29.699118</td>\n      <td>8.0500</td>\n    </tr>\n    <tr>\n      <th>414</th>\n      <td>1</td>\n      <td>female</td>\n      <td>39.000000</td>\n      <td>108.9000</td>\n    </tr>\n    <tr>\n      <th>415</th>\n      <td>3</td>\n      <td>male</td>\n      <td>38.500000</td>\n      <td>7.2500</td>\n    </tr>\n    <tr>\n      <th>416</th>\n      <td>3</td>\n      <td>male</td>\n      <td>29.699118</td>\n      <td>8.0500</td>\n    </tr>\n    <tr>\n      <th>417</th>\n      <td>3</td>\n      <td>male</td>\n      <td>29.699118</td>\n      <td>22.3583</td>\n    </tr>\n  </tbody>\n</table>\n<p>418 rows × 4 columns</p>\n</div>"
     },
     "execution_count": 66,
     "metadata": {},
     "output_type": "execute_result"
    }
   ],
   "source": [
    "test_df[features]"
   ],
   "metadata": {
    "collapsed": false,
    "ExecuteTime": {
     "end_time": "2024-07-25T08:04:59.031242Z",
     "start_time": "2024-07-25T08:04:59.026279Z"
    }
   },
   "id": "97e6267e5213141f",
   "execution_count": 66
  },
  {
   "cell_type": "code",
   "outputs": [],
   "source": [
    "test_df['Sex'] = test_df['Sex'].apply(lambda x: dictionary[x])"
   ],
   "metadata": {
    "collapsed": false,
    "ExecuteTime": {
     "end_time": "2024-07-25T08:11:40.813782Z",
     "start_time": "2024-07-25T08:11:40.800108Z"
    }
   },
   "id": "feb3cf425ca3b22d",
   "execution_count": 68
  },
  {
   "cell_type": "code",
   "outputs": [
    {
     "data": {
      "text/plain": "     Pclass  Sex        Age      Fare\n0         3    0  34.500000    7.8292\n1         3    1  47.000000    7.0000\n2         2    0  62.000000    9.6875\n3         3    0  27.000000    8.6625\n4         3    1  22.000000   12.2875\n..      ...  ...        ...       ...\n413       3    0  29.699118    8.0500\n414       1    1  39.000000  108.9000\n415       3    0  38.500000    7.2500\n416       3    0  29.699118    8.0500\n417       3    0  29.699118   22.3583\n\n[418 rows x 4 columns]",
      "text/html": "<div>\n<style scoped>\n    .dataframe tbody tr th:only-of-type {\n        vertical-align: middle;\n    }\n\n    .dataframe tbody tr th {\n        vertical-align: top;\n    }\n\n    .dataframe thead th {\n        text-align: right;\n    }\n</style>\n<table border=\"1\" class=\"dataframe\">\n  <thead>\n    <tr style=\"text-align: right;\">\n      <th></th>\n      <th>Pclass</th>\n      <th>Sex</th>\n      <th>Age</th>\n      <th>Fare</th>\n    </tr>\n  </thead>\n  <tbody>\n    <tr>\n      <th>0</th>\n      <td>3</td>\n      <td>0</td>\n      <td>34.500000</td>\n      <td>7.8292</td>\n    </tr>\n    <tr>\n      <th>1</th>\n      <td>3</td>\n      <td>1</td>\n      <td>47.000000</td>\n      <td>7.0000</td>\n    </tr>\n    <tr>\n      <th>2</th>\n      <td>2</td>\n      <td>0</td>\n      <td>62.000000</td>\n      <td>9.6875</td>\n    </tr>\n    <tr>\n      <th>3</th>\n      <td>3</td>\n      <td>0</td>\n      <td>27.000000</td>\n      <td>8.6625</td>\n    </tr>\n    <tr>\n      <th>4</th>\n      <td>3</td>\n      <td>1</td>\n      <td>22.000000</td>\n      <td>12.2875</td>\n    </tr>\n    <tr>\n      <th>...</th>\n      <td>...</td>\n      <td>...</td>\n      <td>...</td>\n      <td>...</td>\n    </tr>\n    <tr>\n      <th>413</th>\n      <td>3</td>\n      <td>0</td>\n      <td>29.699118</td>\n      <td>8.0500</td>\n    </tr>\n    <tr>\n      <th>414</th>\n      <td>1</td>\n      <td>1</td>\n      <td>39.000000</td>\n      <td>108.9000</td>\n    </tr>\n    <tr>\n      <th>415</th>\n      <td>3</td>\n      <td>0</td>\n      <td>38.500000</td>\n      <td>7.2500</td>\n    </tr>\n    <tr>\n      <th>416</th>\n      <td>3</td>\n      <td>0</td>\n      <td>29.699118</td>\n      <td>8.0500</td>\n    </tr>\n    <tr>\n      <th>417</th>\n      <td>3</td>\n      <td>0</td>\n      <td>29.699118</td>\n      <td>22.3583</td>\n    </tr>\n  </tbody>\n</table>\n<p>418 rows × 4 columns</p>\n</div>"
     },
     "execution_count": 69,
     "metadata": {},
     "output_type": "execute_result"
    }
   ],
   "source": [
    "test_df[features]"
   ],
   "metadata": {
    "collapsed": false,
    "ExecuteTime": {
     "end_time": "2024-07-25T08:11:48.085261Z",
     "start_time": "2024-07-25T08:11:48.067444Z"
    }
   },
   "id": "5e276aeb9db4a6ec",
   "execution_count": 69
  },
  {
   "cell_type": "code",
   "outputs": [
    {
     "data": {
      "text/plain": "     PassengerId  Survived\n0            892         0\n1            893         1\n2            894         0\n3            895         0\n4            896         1\n..           ...       ...\n413         1305         0\n414         1306         1\n415         1307         0\n416         1308         0\n417         1309         0\n\n[418 rows x 2 columns]",
      "text/html": "<div>\n<style scoped>\n    .dataframe tbody tr th:only-of-type {\n        vertical-align: middle;\n    }\n\n    .dataframe tbody tr th {\n        vertical-align: top;\n    }\n\n    .dataframe thead th {\n        text-align: right;\n    }\n</style>\n<table border=\"1\" class=\"dataframe\">\n  <thead>\n    <tr style=\"text-align: right;\">\n      <th></th>\n      <th>PassengerId</th>\n      <th>Survived</th>\n    </tr>\n  </thead>\n  <tbody>\n    <tr>\n      <th>0</th>\n      <td>892</td>\n      <td>0</td>\n    </tr>\n    <tr>\n      <th>1</th>\n      <td>893</td>\n      <td>1</td>\n    </tr>\n    <tr>\n      <th>2</th>\n      <td>894</td>\n      <td>0</td>\n    </tr>\n    <tr>\n      <th>3</th>\n      <td>895</td>\n      <td>0</td>\n    </tr>\n    <tr>\n      <th>4</th>\n      <td>896</td>\n      <td>1</td>\n    </tr>\n    <tr>\n      <th>...</th>\n      <td>...</td>\n      <td>...</td>\n    </tr>\n    <tr>\n      <th>413</th>\n      <td>1305</td>\n      <td>0</td>\n    </tr>\n    <tr>\n      <th>414</th>\n      <td>1306</td>\n      <td>1</td>\n    </tr>\n    <tr>\n      <th>415</th>\n      <td>1307</td>\n      <td>0</td>\n    </tr>\n    <tr>\n      <th>416</th>\n      <td>1308</td>\n      <td>0</td>\n    </tr>\n    <tr>\n      <th>417</th>\n      <td>1309</td>\n      <td>0</td>\n    </tr>\n  </tbody>\n</table>\n<p>418 rows × 2 columns</p>\n</div>"
     },
     "execution_count": 78,
     "metadata": {},
     "output_type": "execute_result"
    }
   ],
   "source": [
    "test_predictions = model.predict(test_df[features])\n",
    "submission = pd.read_csv('data/gender_submission.csv')\n",
    "submission"
   ],
   "metadata": {
    "collapsed": false,
    "ExecuteTime": {
     "end_time": "2024-07-25T08:14:00.865054Z",
     "start_time": "2024-07-25T08:14:00.825483Z"
    }
   },
   "id": "fb5f27af8a2c56de",
   "execution_count": 78
  },
  {
   "cell_type": "code",
   "outputs": [
    {
     "data": {
      "text/plain": "array([0, 1, 0, 0, 0, 0, 1, 0, 1, 0, 0, 0, 1, 0, 1, 1, 0, 0, 0, 1, 0, 0,\n       1, 0, 1, 0, 1, 0, 0, 0, 0, 0, 0, 0, 0, 0, 0, 0, 0, 1, 0, 0, 0, 1,\n       1, 0, 0, 0, 1, 0, 0, 0, 1, 1, 0, 0, 0, 0, 0, 1, 0, 0, 0, 1, 0, 1,\n       0, 0, 0, 1, 1, 0, 0, 0, 1, 0, 0, 1, 0, 1, 1, 0, 0, 0, 0, 0, 1, 0,\n       1, 1, 0, 0, 1, 0, 0, 0, 1, 0, 0, 0, 1, 0, 0, 0, 0, 0, 0, 0, 0, 0,\n       0, 1, 1, 1, 1, 0, 0, 1, 0, 1, 1, 0, 1, 0, 0, 0, 0, 0, 0, 0, 0, 0,\n       0, 0, 0, 0, 0, 0, 0, 0, 1, 1, 0, 0, 0, 0, 0, 0, 0, 0, 1, 0, 0, 0,\n       0, 0, 1, 1, 0, 0, 1, 1, 1, 0, 0, 0, 0, 0, 1, 0, 0, 0, 0, 0, 0, 1,\n       1, 0, 1, 1, 0, 0, 1, 0, 1, 0, 1, 0, 0, 0, 0, 0, 1, 0, 1, 0, 1, 0,\n       0, 0, 0, 1, 0, 1, 0, 0, 1, 0, 1, 0, 0, 0, 0, 1, 1, 0, 1, 0, 1, 0,\n       1, 0, 1, 0, 1, 0, 0, 1, 0, 0, 0, 1, 0, 0, 0, 0, 0, 0, 1, 1, 1, 1,\n       0, 0, 0, 0, 1, 0, 1, 0, 1, 0, 0, 0, 0, 0, 0, 0, 1, 0, 0, 0, 1, 1,\n       0, 0, 0, 0, 0, 0, 0, 0, 1, 0, 0, 1, 0, 0, 0, 0, 0, 1, 1, 1, 1, 0,\n       0, 0, 0, 0, 0, 1, 0, 0, 0, 0, 1, 0, 0, 0, 0, 0, 0, 0, 1, 1, 0, 1,\n       0, 0, 0, 0, 0, 1, 1, 1, 0, 0, 0, 0, 0, 0, 0, 0, 1, 0, 1, 0, 0, 0,\n       1, 0, 0, 0, 0, 0, 0, 0, 0, 0, 0, 0, 0, 1, 0, 1, 0, 1, 0, 1, 1, 0,\n       0, 0, 1, 0, 1, 0, 0, 0, 0, 1, 1, 0, 1, 0, 0, 0, 1, 0, 0, 1, 0, 0,\n       1, 1, 0, 0, 0, 0, 0, 0, 0, 0, 0, 1, 0, 0, 0, 1, 0, 1, 1, 0, 0, 1,\n       0, 1, 0, 0, 1, 0, 1, 0, 0, 0, 0, 0, 1, 1, 1, 1, 1, 0, 1, 0, 0, 0])"
     },
     "execution_count": 79,
     "metadata": {},
     "output_type": "execute_result"
    }
   ],
   "source": [
    "test_predictions"
   ],
   "metadata": {
    "collapsed": false,
    "ExecuteTime": {
     "end_time": "2024-07-25T08:14:02.481470Z",
     "start_time": "2024-07-25T08:14:02.478884Z"
    }
   },
   "id": "7ee66020b4e641b6",
   "execution_count": 79
  },
  {
   "cell_type": "code",
   "outputs": [],
   "source": [
    "submission = pd.DataFrame()"
   ],
   "metadata": {
    "collapsed": false,
    "ExecuteTime": {
     "end_time": "2024-07-25T08:13:41.106526Z",
     "start_time": "2024-07-25T08:13:41.088426Z"
    }
   },
   "id": "653d60ea9fa8a728",
   "execution_count": 76
  },
  {
   "cell_type": "code",
   "outputs": [
    {
     "data": {
      "text/plain": "array([0, 1, 0, 0, 0, 0, 1, 0, 1, 0, 0, 0, 1, 0, 1, 1, 0, 0, 0, 1, 0, 0,\n       1, 0, 1, 0, 1, 0, 0, 0, 0, 0, 0, 0, 0, 0, 0, 0, 0, 1, 0, 0, 0, 1,\n       1, 0, 0, 0, 1, 0, 0, 0, 1, 1, 0, 0, 0, 0, 0, 1, 0, 0, 0, 1, 0, 1,\n       0, 0, 0, 1, 1, 0, 0, 0, 1, 0, 0, 1, 0, 1, 1, 0, 0, 0, 0, 0, 1, 0,\n       1, 1, 0, 0, 1, 0, 0, 0, 1, 0, 0, 0, 1, 0, 0, 0, 0, 0, 0, 0, 0, 0,\n       0, 1, 1, 1, 1, 0, 0, 1, 0, 1, 1, 0, 1, 0, 0, 0, 0, 0, 0, 0, 0, 0,\n       0, 0, 0, 0, 0, 0, 0, 0, 1, 1, 0, 0, 0, 0, 0, 0, 0, 0, 1, 0, 0, 0,\n       0, 0, 1, 1, 0, 0, 1, 1, 1, 0, 0, 0, 0, 0, 1, 0, 0, 0, 0, 0, 0, 1,\n       1, 0, 1, 1, 0, 0, 1, 0, 1, 0, 1, 0, 0, 0, 0, 0, 1, 0, 1, 0, 1, 0,\n       0, 0, 0, 1, 0, 1, 0, 0, 1, 0, 1, 0, 0, 0, 0, 1, 1, 0, 1, 0, 1, 0,\n       1, 0, 1, 0, 1, 0, 0, 1, 0, 0, 0, 1, 0, 0, 0, 0, 0, 0, 1, 1, 1, 1,\n       0, 0, 0, 0, 1, 0, 1, 0, 1, 0, 0, 0, 0, 0, 0, 0, 1, 0, 0, 0, 1, 1,\n       0, 0, 0, 0, 0, 0, 0, 0, 1, 0, 0, 1, 0, 0, 0, 0, 0, 1, 1, 1, 1, 0,\n       0, 0, 0, 0, 0, 1, 0, 0, 0, 0, 1, 0, 0, 0, 0, 0, 0, 0, 1, 1, 0, 1,\n       0, 0, 0, 0, 0, 1, 1, 1, 0, 0, 0, 0, 0, 0, 0, 0, 1, 0, 1, 0, 0, 0,\n       1, 0, 0, 0, 0, 0, 0, 0, 0, 0, 0, 0, 0, 1, 0, 1, 0, 1, 0, 1, 1, 0,\n       0, 0, 1, 0, 1, 0, 0, 0, 0, 1, 1, 0, 1, 0, 0, 0, 1, 0, 0, 1, 0, 0,\n       1, 1, 0, 0, 0, 0, 0, 0, 0, 0, 0, 1, 0, 0, 0, 1, 0, 1, 1, 0, 0, 1,\n       0, 1, 0, 0, 1, 0, 1, 0, 0, 0, 0, 0, 1, 1, 1, 1, 1, 0, 1, 0, 0, 0])"
     },
     "execution_count": 91,
     "metadata": {},
     "output_type": "execute_result"
    }
   ],
   "source": [
    "test_predictions"
   ],
   "metadata": {
    "collapsed": false,
    "ExecuteTime": {
     "end_time": "2024-07-25T08:18:33.307235Z",
     "start_time": "2024-07-25T08:18:33.287331Z"
    }
   },
   "id": "8fb3d4bc82ba03b8",
   "execution_count": 91
  },
  {
   "cell_type": "code",
   "outputs": [],
   "source": [
    "submission['Survived'] = test_predictions"
   ],
   "metadata": {
    "collapsed": false,
    "ExecuteTime": {
     "end_time": "2024-07-25T08:18:21.316244Z",
     "start_time": "2024-07-25T08:18:21.298186Z"
    }
   },
   "id": "1686a13ad76d59cf",
   "execution_count": 89
  },
  {
   "cell_type": "code",
   "outputs": [
    {
     "data": {
      "text/plain": "     PassengerId  Survived\n0            892         0\n1            893         1\n2            894         0\n3            895         0\n4            896         0\n..           ...       ...\n413         1305         0\n414         1306         1\n415         1307         0\n416         1308         0\n417         1309         0\n\n[418 rows x 2 columns]",
      "text/html": "<div>\n<style scoped>\n    .dataframe tbody tr th:only-of-type {\n        vertical-align: middle;\n    }\n\n    .dataframe tbody tr th {\n        vertical-align: top;\n    }\n\n    .dataframe thead th {\n        text-align: right;\n    }\n</style>\n<table border=\"1\" class=\"dataframe\">\n  <thead>\n    <tr style=\"text-align: right;\">\n      <th></th>\n      <th>PassengerId</th>\n      <th>Survived</th>\n    </tr>\n  </thead>\n  <tbody>\n    <tr>\n      <th>0</th>\n      <td>892</td>\n      <td>0</td>\n    </tr>\n    <tr>\n      <th>1</th>\n      <td>893</td>\n      <td>1</td>\n    </tr>\n    <tr>\n      <th>2</th>\n      <td>894</td>\n      <td>0</td>\n    </tr>\n    <tr>\n      <th>3</th>\n      <td>895</td>\n      <td>0</td>\n    </tr>\n    <tr>\n      <th>4</th>\n      <td>896</td>\n      <td>0</td>\n    </tr>\n    <tr>\n      <th>...</th>\n      <td>...</td>\n      <td>...</td>\n    </tr>\n    <tr>\n      <th>413</th>\n      <td>1305</td>\n      <td>0</td>\n    </tr>\n    <tr>\n      <th>414</th>\n      <td>1306</td>\n      <td>1</td>\n    </tr>\n    <tr>\n      <th>415</th>\n      <td>1307</td>\n      <td>0</td>\n    </tr>\n    <tr>\n      <th>416</th>\n      <td>1308</td>\n      <td>0</td>\n    </tr>\n    <tr>\n      <th>417</th>\n      <td>1309</td>\n      <td>0</td>\n    </tr>\n  </tbody>\n</table>\n<p>418 rows × 2 columns</p>\n</div>"
     },
     "execution_count": 90,
     "metadata": {},
     "output_type": "execute_result"
    }
   ],
   "source": [
    "submission"
   ],
   "metadata": {
    "collapsed": false,
    "ExecuteTime": {
     "end_time": "2024-07-25T08:18:23.487117Z",
     "start_time": "2024-07-25T08:18:23.479317Z"
    }
   },
   "id": "f9a1606e7d29ea78",
   "execution_count": 90
  },
  {
   "cell_type": "code",
   "outputs": [],
   "source": [
    "submission.to_csv('data/gender_submission.csv', index=False)"
   ],
   "metadata": {
    "collapsed": false,
    "ExecuteTime": {
     "end_time": "2024-07-25T08:19:27.617514Z",
     "start_time": "2024-07-25T08:19:27.608253Z"
    }
   },
   "id": "8b2aac547a0618e6",
   "execution_count": 93
  },
  {
   "cell_type": "code",
   "outputs": [],
   "source": [],
   "metadata": {
    "collapsed": false
   },
   "id": "fc463b687b572e86"
  }
 ],
 "metadata": {
  "kernelspec": {
   "display_name": "Python 3",
   "language": "python",
   "name": "python3"
  },
  "language_info": {
   "codemirror_mode": {
    "name": "ipython",
    "version": 2
   },
   "file_extension": ".py",
   "mimetype": "text/x-python",
   "name": "python",
   "nbconvert_exporter": "python",
   "pygments_lexer": "ipython2",
   "version": "2.7.6"
  }
 },
 "nbformat": 4,
 "nbformat_minor": 5
}
