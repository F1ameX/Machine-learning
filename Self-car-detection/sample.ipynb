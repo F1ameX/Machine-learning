{
 "cells": [
  {
   "cell_type": "code",
   "execution_count": 1,
   "id": "initial_id",
   "metadata": {
    "collapsed": true,
    "ExecuteTime": {
     "end_time": "2024-08-26T11:03:29.490313Z",
     "start_time": "2024-08-26T11:03:29.097775Z"
    }
   },
   "outputs": [
    {
     "name": "stdout",
     "output_type": "stream",
     "text": [
      "^C\r\n",
      "Traceback (most recent call last):\r\n",
      "  File \"/opt/homebrew/anaconda3/bin/pip\", line 11, in <module>\r\n",
      "    sys.exit(main())\r\n",
      "             ^^^^^^\r\n",
      "  File \"/opt/homebrew/anaconda3/lib/python3.11/site-packages/pip/_internal/cli/main.py\", line 77, in main\r\n",
      "    command = create_command(cmd_name, isolated=(\"--isolated\" in cmd_args))\r\n",
      "              ^^^^^^^^^^^^^^^^^^^^^^^^^^^^^^^^^^^^^^^^^^^^^^^^^^^^^^^^^^^^^\r\n",
      "  File \"/opt/homebrew/anaconda3/lib/python3.11/site-packages/pip/_internal/commands/__init__.py\", line 114, in create_command\r\n",
      "    module = importlib.import_module(module_path)\r\n",
      "             ^^^^^^^^^^^^^^^^^^^^^^^^^^^^^^^^^^^^\r\n",
      "  File \"/opt/homebrew/anaconda3/lib/python3.11/importlib/__init__.py\", line 126, in import_module\r\n",
      "    return _bootstrap._gcd_import(name[level:], package, level)\r\n",
      "           ^^^^^^^^^^^^^^^^^^^^^^^^^^^^^^^^^^^^^^^^^^^^^^^^^^^^\r\n",
      "  File \"<frozen importlib._bootstrap>\", line 1204, in _gcd_import\r\n",
      "  File \"<frozen importlib._bootstrap>\", line 1176, in _find_and_load\r\n",
      "  File \"<frozen importlib._bootstrap>\", line 1147, in _find_and_load_unlocked\r\n",
      "  File \"<frozen importlib._bootstrap>\", line 690, in _load_unlocked\r\n",
      "  File \"<frozen importlib._bootstrap_external>\", line 940, in exec_module\r\n",
      "  File \"<frozen importlib._bootstrap>\", line 241, in _call_with_frames_removed\r\n",
      "  File \"/opt/homebrew/anaconda3/lib/python3.11/site-packages/pip/_internal/commands/install.py\", line 15, in <module>\r\n",
      "    from pip._internal.cli.req_command import (\r\n",
      "  File \"/opt/homebrew/anaconda3/lib/python3.11/site-packages/pip/_internal/cli/req_command.py\", line 26, in <module>\r\n",
      "    from pip._internal.operations.prepare import RequirementPreparer\r\n",
      "  File \"/opt/homebrew/anaconda3/lib/python3.11/site-packages/pip/_internal/operations/prepare.py\", line 32, in <module>\r\n",
      "    from pip._internal.network.download import BatchDownloader, Downloader\r\n",
      "  File \"/opt/homebrew/anaconda3/lib/python3.11/site-packages/pip/_internal/network/download.py\", line 11, in <module>\r\n",
      "    from pip._internal.cli.progress_bars import get_download_progress_renderer\r\n",
      "  File \"/opt/homebrew/anaconda3/lib/python3.11/site-packages/pip/_internal/cli/progress_bars.py\", line 4, in <module>\r\n",
      "    from pip._vendor.rich.progress import (\r\n",
      "  File \"/opt/homebrew/anaconda3/lib/python3.11/site-packages/pip/_vendor/rich/progress.py\", line 46, in <module>\r\n",
      "    from .live import Live\r\n",
      "  File \"/opt/homebrew/anaconda3/lib/python3.11/site-packages/pip/_vendor/rich/live.py\", line 11, in <module>\r\n",
      "    from .live_render import LiveRender, VerticalOverflowMethod\r\n",
      "  File \"/opt/homebrew/anaconda3/lib/python3.11/site-packages/pip/_vendor/rich/live_render.py\", line 20, in <module>\r\n",
      "    class LiveRender:\r\n",
      "KeyboardInterrupt\r\n"
     ]
    }
   ],
   "source": [
    "!pip install numpy \n",
    "!pip install pandas \n",
    "!pip install opencv-python\n",
    "!pip install matplotlib"
   ]
  },
  {
   "cell_type": "code",
   "outputs": [],
   "source": [
    "import warnings\n",
    "warnings.simplefilter('ignore')"
   ],
   "metadata": {
    "collapsed": false,
    "ExecuteTime": {
     "end_time": "2024-08-26T11:04:47.746412Z",
     "start_time": "2024-08-26T11:04:47.740843Z"
    }
   },
   "id": "2a693c530706b8f5",
   "execution_count": 2
  },
  {
   "cell_type": "code",
   "outputs": [],
   "source": [
    "import numpy as np\n",
    "import pandas as pd\n",
    "import cv2\n",
    "import matplotlib.pyplot as plt"
   ],
   "metadata": {
    "collapsed": false,
    "ExecuteTime": {
     "end_time": "2024-08-26T11:05:05.278316Z",
     "start_time": "2024-08-26T11:05:04.124651Z"
    }
   },
   "id": "a8874dc1e9b8a02b",
   "execution_count": 3
  },
  {
   "cell_type": "code",
   "outputs": [
    {
     "data": {
      "text/plain": "                          frame  xmin  xmax  ymin  ymax  class_id\n0       1478019952686311006.jpg   237   251   143   155         1\n1       1478019952686311006.jpg   437   454   120   186         3\n2       1478019953180167674.jpg   218   231   146   158         1\n3       1478019953689774621.jpg   171   182   141   154         2\n4       1478019953689774621.jpg   179   191   144   155         1\n...                         ...   ...   ...   ...   ...       ...\n132401  1479506176491553178.jpg   166   186   139   156         1\n132402  1479506176491553178.jpg   182   204   142   153         1\n132403  1479506176491553178.jpg   239   261   139   155         1\n132404  1479506176491553178.jpg   259   280   139   157         1\n132405  1479506176491553178.jpg   284   324   137   168         1\n\n[132406 rows x 6 columns]",
      "text/html": "<div>\n<style scoped>\n    .dataframe tbody tr th:only-of-type {\n        vertical-align: middle;\n    }\n\n    .dataframe tbody tr th {\n        vertical-align: top;\n    }\n\n    .dataframe thead th {\n        text-align: right;\n    }\n</style>\n<table border=\"1\" class=\"dataframe\">\n  <thead>\n    <tr style=\"text-align: right;\">\n      <th></th>\n      <th>frame</th>\n      <th>xmin</th>\n      <th>xmax</th>\n      <th>ymin</th>\n      <th>ymax</th>\n      <th>class_id</th>\n    </tr>\n  </thead>\n  <tbody>\n    <tr>\n      <th>0</th>\n      <td>1478019952686311006.jpg</td>\n      <td>237</td>\n      <td>251</td>\n      <td>143</td>\n      <td>155</td>\n      <td>1</td>\n    </tr>\n    <tr>\n      <th>1</th>\n      <td>1478019952686311006.jpg</td>\n      <td>437</td>\n      <td>454</td>\n      <td>120</td>\n      <td>186</td>\n      <td>3</td>\n    </tr>\n    <tr>\n      <th>2</th>\n      <td>1478019953180167674.jpg</td>\n      <td>218</td>\n      <td>231</td>\n      <td>146</td>\n      <td>158</td>\n      <td>1</td>\n    </tr>\n    <tr>\n      <th>3</th>\n      <td>1478019953689774621.jpg</td>\n      <td>171</td>\n      <td>182</td>\n      <td>141</td>\n      <td>154</td>\n      <td>2</td>\n    </tr>\n    <tr>\n      <th>4</th>\n      <td>1478019953689774621.jpg</td>\n      <td>179</td>\n      <td>191</td>\n      <td>144</td>\n      <td>155</td>\n      <td>1</td>\n    </tr>\n    <tr>\n      <th>...</th>\n      <td>...</td>\n      <td>...</td>\n      <td>...</td>\n      <td>...</td>\n      <td>...</td>\n      <td>...</td>\n    </tr>\n    <tr>\n      <th>132401</th>\n      <td>1479506176491553178.jpg</td>\n      <td>166</td>\n      <td>186</td>\n      <td>139</td>\n      <td>156</td>\n      <td>1</td>\n    </tr>\n    <tr>\n      <th>132402</th>\n      <td>1479506176491553178.jpg</td>\n      <td>182</td>\n      <td>204</td>\n      <td>142</td>\n      <td>153</td>\n      <td>1</td>\n    </tr>\n    <tr>\n      <th>132403</th>\n      <td>1479506176491553178.jpg</td>\n      <td>239</td>\n      <td>261</td>\n      <td>139</td>\n      <td>155</td>\n      <td>1</td>\n    </tr>\n    <tr>\n      <th>132404</th>\n      <td>1479506176491553178.jpg</td>\n      <td>259</td>\n      <td>280</td>\n      <td>139</td>\n      <td>157</td>\n      <td>1</td>\n    </tr>\n    <tr>\n      <th>132405</th>\n      <td>1479506176491553178.jpg</td>\n      <td>284</td>\n      <td>324</td>\n      <td>137</td>\n      <td>168</td>\n      <td>1</td>\n    </tr>\n  </tbody>\n</table>\n<p>132406 rows × 6 columns</p>\n</div>"
     },
     "execution_count": 4,
     "metadata": {},
     "output_type": "execute_result"
    }
   ],
   "source": [
    "df = pd.read_csv('car_camera_photos/labels_train.csv')\n",
    "df"
   ],
   "metadata": {
    "collapsed": false,
    "ExecuteTime": {
     "end_time": "2024-08-26T11:06:07.094925Z",
     "start_time": "2024-08-26T11:06:07.015108Z"
    }
   },
   "id": "3eb637cee23f2654",
   "execution_count": 4
  },
  {
   "cell_type": "code",
   "outputs": [
    {
     "data": {
      "text/plain": "     column  dtypes  nunique  isnullsum\n0     frame  object    18000          0\n1      xmin   int64      476          0\n2      xmax   int64      477          0\n3      ymin   int64      207          0\n4      ymax   int64      285          0\n5  class_id   int64        5          0",
      "text/html": "<div>\n<style scoped>\n    .dataframe tbody tr th:only-of-type {\n        vertical-align: middle;\n    }\n\n    .dataframe tbody tr th {\n        vertical-align: top;\n    }\n\n    .dataframe thead th {\n        text-align: right;\n    }\n</style>\n<table border=\"1\" class=\"dataframe\">\n  <thead>\n    <tr style=\"text-align: right;\">\n      <th></th>\n      <th>column</th>\n      <th>dtypes</th>\n      <th>nunique</th>\n      <th>isnullsum</th>\n    </tr>\n  </thead>\n  <tbody>\n    <tr>\n      <th>0</th>\n      <td>frame</td>\n      <td>object</td>\n      <td>18000</td>\n      <td>0</td>\n    </tr>\n    <tr>\n      <th>1</th>\n      <td>xmin</td>\n      <td>int64</td>\n      <td>476</td>\n      <td>0</td>\n    </tr>\n    <tr>\n      <th>2</th>\n      <td>xmax</td>\n      <td>int64</td>\n      <td>477</td>\n      <td>0</td>\n    </tr>\n    <tr>\n      <th>3</th>\n      <td>ymin</td>\n      <td>int64</td>\n      <td>207</td>\n      <td>0</td>\n    </tr>\n    <tr>\n      <th>4</th>\n      <td>ymax</td>\n      <td>int64</td>\n      <td>285</td>\n      <td>0</td>\n    </tr>\n    <tr>\n      <th>5</th>\n      <td>class_id</td>\n      <td>int64</td>\n      <td>5</td>\n      <td>0</td>\n    </tr>\n  </tbody>\n</table>\n</div>"
     },
     "execution_count": 5,
     "metadata": {},
     "output_type": "execute_result"
    }
   ],
   "source": [
    "lst = []\n",
    "columns=df.columns\n",
    "for column in columns:\n",
    "    dtypes = df[column].dtypes\n",
    "    nunique = df[column].nunique()\n",
    "    isnullsum = df[column].isnull().sum()\n",
    "    lst.append([column,dtypes,nunique, isnullsum])\n",
    "df_stat = pd.DataFrame(lst, columns=['column', 'dtypes', 'nunique', 'isnullsum'])\n",
    "df_stat"
   ],
   "metadata": {
    "collapsed": false,
    "ExecuteTime": {
     "end_time": "2024-08-26T11:21:00.184927Z",
     "start_time": "2024-08-26T11:21:00.087928Z"
    }
   },
   "id": "82353a7684c6cfd0",
   "execution_count": 5
  },
  {
   "cell_type": "code",
   "outputs": [],
   "source": [],
   "metadata": {
    "collapsed": false
   },
   "id": "1666e07af81894bd"
  }
 ],
 "metadata": {
  "kernelspec": {
   "display_name": "Python 3",
   "language": "python",
   "name": "python3"
  },
  "language_info": {
   "codemirror_mode": {
    "name": "ipython",
    "version": 2
   },
   "file_extension": ".py",
   "mimetype": "text/x-python",
   "name": "python",
   "nbconvert_exporter": "python",
   "pygments_lexer": "ipython2",
   "version": "2.7.6"
  }
 },
 "nbformat": 4,
 "nbformat_minor": 5
}
