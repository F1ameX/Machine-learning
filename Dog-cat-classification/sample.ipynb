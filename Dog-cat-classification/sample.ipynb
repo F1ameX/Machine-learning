{
 "cells": [
  {
   "cell_type": "markdown",
   "source": [
    "# Installing necessary libraries"
   ],
   "metadata": {
    "collapsed": false
   },
   "id": "20bb7ea55529fd45"
  },
  {
   "cell_type": "code",
   "execution_count": 1,
   "id": "initial_id",
   "metadata": {
    "collapsed": true,
    "ExecuteTime": {
     "end_time": "2024-08-12T12:22:08.228646Z",
     "start_time": "2024-08-12T12:21:57.450607Z"
    }
   },
   "outputs": [
    {
     "name": "stdout",
     "output_type": "stream",
     "text": [
      "Requirement already satisfied: numpy in /opt/homebrew/anaconda3/lib/python3.11/site-packages (1.24.3)\r\n",
      "Requirement already satisfied: pandas in /opt/homebrew/anaconda3/lib/python3.11/site-packages (2.0.3)\r\n",
      "Requirement already satisfied: python-dateutil>=2.8.2 in /opt/homebrew/anaconda3/lib/python3.11/site-packages (from pandas) (2.8.2)\r\n",
      "Requirement already satisfied: pytz>=2020.1 in /opt/homebrew/anaconda3/lib/python3.11/site-packages (from pandas) (2023.3.post1)\r\n",
      "Requirement already satisfied: tzdata>=2022.1 in /opt/homebrew/anaconda3/lib/python3.11/site-packages (from pandas) (2023.3)\r\n",
      "Requirement already satisfied: numpy>=1.21.0 in /opt/homebrew/anaconda3/lib/python3.11/site-packages (from pandas) (1.24.3)\r\n",
      "Requirement already satisfied: six>=1.5 in /opt/homebrew/anaconda3/lib/python3.11/site-packages (from python-dateutil>=2.8.2->pandas) (1.16.0)\r\n",
      "Requirement already satisfied: matplotlib in /opt/homebrew/anaconda3/lib/python3.11/site-packages (3.7.2)\r\n",
      "Requirement already satisfied: contourpy>=1.0.1 in /opt/homebrew/anaconda3/lib/python3.11/site-packages (from matplotlib) (1.0.5)\r\n",
      "Requirement already satisfied: cycler>=0.10 in /opt/homebrew/anaconda3/lib/python3.11/site-packages (from matplotlib) (0.11.0)\r\n",
      "Requirement already satisfied: fonttools>=4.22.0 in /opt/homebrew/anaconda3/lib/python3.11/site-packages (from matplotlib) (4.25.0)\r\n",
      "Requirement already satisfied: kiwisolver>=1.0.1 in /opt/homebrew/anaconda3/lib/python3.11/site-packages (from matplotlib) (1.4.4)\r\n",
      "Requirement already satisfied: numpy>=1.20 in /opt/homebrew/anaconda3/lib/python3.11/site-packages (from matplotlib) (1.24.3)\r\n",
      "Requirement already satisfied: packaging>=20.0 in /opt/homebrew/anaconda3/lib/python3.11/site-packages (from matplotlib) (23.1)\r\n",
      "Requirement already satisfied: pillow>=6.2.0 in /opt/homebrew/anaconda3/lib/python3.11/site-packages (from matplotlib) (9.4.0)\r\n",
      "Requirement already satisfied: pyparsing<3.1,>=2.3.1 in /opt/homebrew/anaconda3/lib/python3.11/site-packages (from matplotlib) (3.0.9)\r\n",
      "Requirement already satisfied: python-dateutil>=2.7 in /opt/homebrew/anaconda3/lib/python3.11/site-packages (from matplotlib) (2.8.2)\r\n",
      "Requirement already satisfied: six>=1.5 in /opt/homebrew/anaconda3/lib/python3.11/site-packages (from python-dateutil>=2.7->matplotlib) (1.16.0)\r\n",
      "Requirement already satisfied: scikit-learn in /opt/homebrew/anaconda3/lib/python3.11/site-packages (1.3.0)\r\n",
      "Requirement already satisfied: numpy>=1.17.3 in /opt/homebrew/anaconda3/lib/python3.11/site-packages (from scikit-learn) (1.24.3)\r\n",
      "Requirement already satisfied: scipy>=1.5.0 in /opt/homebrew/anaconda3/lib/python3.11/site-packages (from scikit-learn) (1.11.1)\r\n",
      "Requirement already satisfied: joblib>=1.1.1 in /opt/homebrew/anaconda3/lib/python3.11/site-packages (from scikit-learn) (1.2.0)\r\n",
      "Requirement already satisfied: threadpoolctl>=2.0.0 in /opt/homebrew/anaconda3/lib/python3.11/site-packages (from scikit-learn) (2.2.0)\r\n",
      "Requirement already satisfied: ultralytics in /opt/homebrew/anaconda3/lib/python3.11/site-packages (8.2.76)\r\n",
      "Requirement already satisfied: numpy<2.0.0,>=1.23.0 in /opt/homebrew/anaconda3/lib/python3.11/site-packages (from ultralytics) (1.24.3)\r\n",
      "Requirement already satisfied: matplotlib>=3.3.0 in /opt/homebrew/anaconda3/lib/python3.11/site-packages (from ultralytics) (3.7.2)\r\n",
      "Requirement already satisfied: opencv-python>=4.6.0 in /opt/homebrew/anaconda3/lib/python3.11/site-packages (from ultralytics) (4.10.0.84)\r\n",
      "Requirement already satisfied: pillow>=7.1.2 in /opt/homebrew/anaconda3/lib/python3.11/site-packages (from ultralytics) (9.4.0)\r\n",
      "Requirement already satisfied: pyyaml>=5.3.1 in /opt/homebrew/anaconda3/lib/python3.11/site-packages (from ultralytics) (6.0)\r\n",
      "Requirement already satisfied: requests>=2.23.0 in /opt/homebrew/anaconda3/lib/python3.11/site-packages (from ultralytics) (2.31.0)\r\n",
      "Requirement already satisfied: scipy>=1.4.1 in /opt/homebrew/anaconda3/lib/python3.11/site-packages (from ultralytics) (1.11.1)\r\n",
      "Requirement already satisfied: torch>=1.8.0 in /opt/homebrew/anaconda3/lib/python3.11/site-packages (from ultralytics) (2.4.0)\r\n",
      "Requirement already satisfied: torchvision>=0.9.0 in /opt/homebrew/anaconda3/lib/python3.11/site-packages (from ultralytics) (0.19.0)\r\n",
      "Requirement already satisfied: tqdm>=4.64.0 in /opt/homebrew/anaconda3/lib/python3.11/site-packages (from ultralytics) (4.65.0)\r\n",
      "Requirement already satisfied: psutil in /opt/homebrew/anaconda3/lib/python3.11/site-packages (from ultralytics) (5.9.0)\r\n",
      "Requirement already satisfied: py-cpuinfo in /opt/homebrew/anaconda3/lib/python3.11/site-packages (from ultralytics) (8.0.0)\r\n",
      "Requirement already satisfied: pandas>=1.1.4 in /opt/homebrew/anaconda3/lib/python3.11/site-packages (from ultralytics) (2.0.3)\r\n",
      "Requirement already satisfied: seaborn>=0.11.0 in /opt/homebrew/anaconda3/lib/python3.11/site-packages (from ultralytics) (0.12.2)\r\n",
      "Requirement already satisfied: ultralytics-thop>=2.0.0 in /opt/homebrew/anaconda3/lib/python3.11/site-packages (from ultralytics) (2.0.0)\r\n",
      "Requirement already satisfied: contourpy>=1.0.1 in /opt/homebrew/anaconda3/lib/python3.11/site-packages (from matplotlib>=3.3.0->ultralytics) (1.0.5)\r\n",
      "Requirement already satisfied: cycler>=0.10 in /opt/homebrew/anaconda3/lib/python3.11/site-packages (from matplotlib>=3.3.0->ultralytics) (0.11.0)\r\n",
      "Requirement already satisfied: fonttools>=4.22.0 in /opt/homebrew/anaconda3/lib/python3.11/site-packages (from matplotlib>=3.3.0->ultralytics) (4.25.0)\r\n",
      "Requirement already satisfied: kiwisolver>=1.0.1 in /opt/homebrew/anaconda3/lib/python3.11/site-packages (from matplotlib>=3.3.0->ultralytics) (1.4.4)\r\n",
      "Requirement already satisfied: packaging>=20.0 in /opt/homebrew/anaconda3/lib/python3.11/site-packages (from matplotlib>=3.3.0->ultralytics) (23.1)\r\n",
      "Requirement already satisfied: pyparsing<3.1,>=2.3.1 in /opt/homebrew/anaconda3/lib/python3.11/site-packages (from matplotlib>=3.3.0->ultralytics) (3.0.9)\r\n",
      "Requirement already satisfied: python-dateutil>=2.7 in /opt/homebrew/anaconda3/lib/python3.11/site-packages (from matplotlib>=3.3.0->ultralytics) (2.8.2)\r\n",
      "Requirement already satisfied: pytz>=2020.1 in /opt/homebrew/anaconda3/lib/python3.11/site-packages (from pandas>=1.1.4->ultralytics) (2023.3.post1)\r\n",
      "Requirement already satisfied: tzdata>=2022.1 in /opt/homebrew/anaconda3/lib/python3.11/site-packages (from pandas>=1.1.4->ultralytics) (2023.3)\r\n",
      "Requirement already satisfied: charset-normalizer<4,>=2 in /opt/homebrew/anaconda3/lib/python3.11/site-packages (from requests>=2.23.0->ultralytics) (2.0.4)\r\n",
      "Requirement already satisfied: idna<4,>=2.5 in /opt/homebrew/anaconda3/lib/python3.11/site-packages (from requests>=2.23.0->ultralytics) (3.4)\r\n",
      "Requirement already satisfied: urllib3<3,>=1.21.1 in /opt/homebrew/anaconda3/lib/python3.11/site-packages (from requests>=2.23.0->ultralytics) (1.26.16)\r\n",
      "Requirement already satisfied: certifi>=2017.4.17 in /opt/homebrew/anaconda3/lib/python3.11/site-packages (from requests>=2.23.0->ultralytics) (2023.7.22)\r\n",
      "Requirement already satisfied: filelock in /opt/homebrew/anaconda3/lib/python3.11/site-packages (from torch>=1.8.0->ultralytics) (3.9.0)\r\n",
      "Requirement already satisfied: typing-extensions>=4.8.0 in /opt/homebrew/anaconda3/lib/python3.11/site-packages (from torch>=1.8.0->ultralytics) (4.12.2)\r\n",
      "Requirement already satisfied: sympy in /opt/homebrew/anaconda3/lib/python3.11/site-packages (from torch>=1.8.0->ultralytics) (1.11.1)\r\n",
      "Requirement already satisfied: networkx in /opt/homebrew/anaconda3/lib/python3.11/site-packages (from torch>=1.8.0->ultralytics) (3.1)\r\n",
      "Requirement already satisfied: jinja2 in /opt/homebrew/anaconda3/lib/python3.11/site-packages (from torch>=1.8.0->ultralytics) (3.1.2)\r\n",
      "Requirement already satisfied: fsspec in /opt/homebrew/anaconda3/lib/python3.11/site-packages (from torch>=1.8.0->ultralytics) (2023.4.0)\r\n",
      "Requirement already satisfied: six>=1.5 in /opt/homebrew/anaconda3/lib/python3.11/site-packages (from python-dateutil>=2.7->matplotlib>=3.3.0->ultralytics) (1.16.0)\r\n",
      "Requirement already satisfied: MarkupSafe>=2.0 in /opt/homebrew/anaconda3/lib/python3.11/site-packages (from jinja2->torch>=1.8.0->ultralytics) (2.1.1)\r\n",
      "Requirement already satisfied: mpmath>=0.19 in /opt/homebrew/anaconda3/lib/python3.11/site-packages (from sympy->torch>=1.8.0->ultralytics) (1.3.0)\r\n"
     ]
    }
   ],
   "source": [
    "!pip install numpy\n",
    "!pip install pandas\n",
    "!pip install matplotlib\n",
    "!pip install scikit-learn\n",
    "!pip install ultralytics"
   ]
  },
  {
   "cell_type": "markdown",
   "source": [
    "# Importing necessary libraries"
   ],
   "metadata": {
    "collapsed": false
   },
   "id": "eb5bc06436913662"
  },
  {
   "cell_type": "code",
   "outputs": [],
   "source": [
    "import os\n",
    "from skimage.io import imread, imsave\n",
    "from sklearn.model_selection import train_test_split\n",
    "from ultralytics import YOLO"
   ],
   "metadata": {
    "collapsed": false,
    "ExecuteTime": {
     "end_time": "2024-08-12T12:25:50.075752Z",
     "start_time": "2024-08-12T12:25:44.222961Z"
    }
   },
   "id": "3ad72205acf2f9cf",
   "execution_count": 2
  },
  {
   "cell_type": "markdown",
   "source": [
    "# Data preparing\n",
    "## Setting path and loading data"
   ],
   "metadata": {
    "collapsed": false
   },
   "id": "97f531898072e18f"
  },
  {
   "cell_type": "code",
   "outputs": [],
   "source": [
    "cat_data_path = 'animal/cat'\n",
    "dog_data_path = 'animal/dog'"
   ],
   "metadata": {
    "collapsed": false
   },
   "id": "6dd0552a9d0ba494",
   "execution_count": 3
  },
  {
   "cell_type": "code",
   "outputs": [
    {
     "name": "stdout",
     "output_type": "stream",
     "text": [
      "500 500\n"
     ]
    }
   ],
   "source": [
    "cat_data = []\n",
    "dog_data = []\n",
    "\n",
    "for file in os.listdir(cat_data_path):\n",
    "    img_path = os.path.join(cat_data_path, file)\n",
    "    img = imread(img_path)\n",
    "    cat_data.append(img)\n",
    "\n",
    "for file in os.listdir(dog_data_path):\n",
    "    img_path = os.path.join(dog_data_path, file)\n",
    "    img = imread(img_path)\n",
    "    dog_data.append(img)\n",
    "\n",
    "print(len(cat_data), len(dog_data))"
   ],
   "metadata": {
    "collapsed": false,
    "ExecuteTime": {
     "end_time": "2024-08-12T12:25:56.964732Z",
     "start_time": "2024-08-12T12:25:50.079978Z"
    }
   },
   "id": "c85c15257c5ef78",
   "execution_count": 4
  },
  {
   "cell_type": "markdown",
   "source": [
    "## Data splitting before yolo model use"
   ],
   "metadata": {
    "collapsed": false
   },
   "id": "4e900dfe70276997"
  },
  {
   "cell_type": "code",
   "outputs": [
    {
     "name": "stdout",
     "output_type": "stream",
     "text": [
      "400 400\n",
      "100 100\n"
     ]
    }
   ],
   "source": [
    "cat_train, cat_val, dog_train, dog_val = train_test_split(cat_data, dog_data, test_size=0.2, random_state=52, shuffle=True)\n",
    "print(len(cat_train), len(dog_train))\n",
    "print(len(cat_val), len(dog_val))"
   ],
   "metadata": {
    "collapsed": false,
    "ExecuteTime": {
     "end_time": "2024-08-12T12:25:56.979647Z",
     "start_time": "2024-08-12T12:25:56.966950Z"
    }
   },
   "id": "fec4a98440493b50",
   "execution_count": 5
  },
  {
   "cell_type": "markdown",
   "source": [
    "## Saving split data into corresponding directories"
   ],
   "metadata": {
    "collapsed": false
   },
   "id": "19447366f6fe36f1"
  },
  {
   "cell_type": "code",
   "outputs": [],
   "source": [
    "os.makedirs('data/train/cat', exist_ok=True)\n",
    "os.makedirs('data/train/dog', exist_ok=True)\n",
    "os.makedirs('data/val/cat', exist_ok=True)\n",
    "os.makedirs('data/val/dog', exist_ok=True)"
   ],
   "metadata": {
    "collapsed": false,
    "ExecuteTime": {
     "end_time": "2024-08-12T12:25:56.983599Z",
     "start_time": "2024-08-12T12:25:56.980334Z"
    }
   },
   "id": "e06749431863f213",
   "execution_count": 6
  },
  {
   "cell_type": "code",
   "outputs": [],
   "source": [
    "def save_image(image_data, directory, prefix):\n",
    "    for idx, image in enumerate(image_data):\n",
    "        imsave(os.path.join(directory, f'{prefix}_{idx}.png'), image)"
   ],
   "metadata": {
    "collapsed": false,
    "ExecuteTime": {
     "end_time": "2024-08-12T12:25:56.985985Z",
     "start_time": "2024-08-12T12:25:56.984294Z"
    }
   },
   "id": "1cbf215d5e7ac013",
   "execution_count": 7
  },
  {
   "cell_type": "code",
   "outputs": [],
   "source": [
    "save_image(cat_train, 'data/train/cat', 'cat_train')\n",
    "save_image(cat_val, 'data/val/cat', 'cat_val')\n",
    "save_image(dog_train, 'data/train/dog', 'dog_train')\n",
    "save_image(dog_val, 'data/val/dog', 'dog_val')"
   ],
   "metadata": {
    "collapsed": false,
    "ExecuteTime": {
     "end_time": "2024-08-12T12:27:26.208700Z",
     "start_time": "2024-08-12T12:25:56.986562Z"
    }
   },
   "id": "fda31977a27e5398",
   "execution_count": 8
  },
  {
   "cell_type": "markdown",
   "source": [
    "# Model definition and data training"
   ],
   "metadata": {
    "collapsed": false
   },
   "id": "a2f083df6d3f6dbe"
  },
  {
   "cell_type": "code",
   "outputs": [
    {
     "name": "stdout",
     "output_type": "stream",
     "text": [
      "Ultralytics YOLOv8.2.76 🚀 Python-3.11.5 torch-2.4.0 CPU (Apple M2)\n",
      "\u001B[34m\u001B[1mengine/trainer: \u001B[0mtask=classify, mode=train, model=yolov8n-cls.pt, data=data, epochs=20, time=None, patience=100, batch=16, imgsz=64, save=True, save_period=-1, cache=False, device=None, workers=8, project=None, name=train3, exist_ok=False, pretrained=True, optimizer=auto, verbose=True, seed=0, deterministic=True, single_cls=False, rect=False, cos_lr=False, close_mosaic=10, resume=False, amp=True, fraction=1.0, profile=False, freeze=None, multi_scale=False, overlap_mask=True, mask_ratio=4, dropout=0.0, val=True, split=val, save_json=False, save_hybrid=False, conf=None, iou=0.7, max_det=300, half=False, dnn=False, plots=True, source=None, vid_stride=1, stream_buffer=False, visualize=False, augment=False, agnostic_nms=False, classes=None, retina_masks=False, embed=None, show=False, save_frames=False, save_txt=False, save_conf=False, save_crop=False, show_labels=True, show_conf=True, show_boxes=True, line_width=None, format=torchscript, keras=False, optimize=False, int8=False, dynamic=False, simplify=False, opset=None, workspace=4, nms=False, lr0=0.01, lrf=0.01, momentum=0.937, weight_decay=0.0005, warmup_epochs=3.0, warmup_momentum=0.8, warmup_bias_lr=0.1, box=7.5, cls=0.5, dfl=1.5, pose=12.0, kobj=1.0, label_smoothing=0.0, nbs=64, hsv_h=0.015, hsv_s=0.7, hsv_v=0.4, degrees=0.0, translate=0.1, scale=0.5, shear=0.0, perspective=0.0, flipud=0.0, fliplr=0.5, bgr=0.0, mosaic=1.0, mixup=0.0, copy_paste=0.0, auto_augment=randaugment, erasing=0.4, crop_fraction=1.0, cfg=None, tracker=botsort.yaml, save_dir=/opt/homebrew/runs/classify/train3\n",
      "\u001B[34m\u001B[1mtrain:\u001B[0m /Users/andrewf1amex/Programming/Machine-learning/Dog-cat-classification/data/train... found 800 images in 2 classes ✅ \n",
      "\u001B[34m\u001B[1mval:\u001B[0m /Users/andrewf1amex/Programming/Machine-learning/Dog-cat-classification/data/val... found 200 images in 2 classes ✅ \n",
      "\u001B[34m\u001B[1mtest:\u001B[0m None...\n",
      "Overriding model.yaml nc=1000 with nc=2\n",
      "\n",
      "                   from  n    params  module                                       arguments                     \n",
      "  0                  -1  1       464  ultralytics.nn.modules.conv.Conv             [3, 16, 3, 2]                 \n",
      "  1                  -1  1      4672  ultralytics.nn.modules.conv.Conv             [16, 32, 3, 2]                \n",
      "  2                  -1  1      7360  ultralytics.nn.modules.block.C2f             [32, 32, 1, True]             \n",
      "  3                  -1  1     18560  ultralytics.nn.modules.conv.Conv             [32, 64, 3, 2]                \n",
      "  4                  -1  2     49664  ultralytics.nn.modules.block.C2f             [64, 64, 2, True]             \n",
      "  5                  -1  1     73984  ultralytics.nn.modules.conv.Conv             [64, 128, 3, 2]               \n",
      "  6                  -1  2    197632  ultralytics.nn.modules.block.C2f             [128, 128, 2, True]           \n",
      "  7                  -1  1    295424  ultralytics.nn.modules.conv.Conv             [128, 256, 3, 2]              \n",
      "  8                  -1  1    460288  ultralytics.nn.modules.block.C2f             [256, 256, 1, True]           \n",
      "  9                  -1  1    332802  ultralytics.nn.modules.head.Classify         [256, 2]                      \n",
      "YOLOv8n-cls summary: 99 layers, 1,440,850 parameters, 1,440,850 gradients, 3.4 GFLOPs\n",
      "Transferred 156/158 items from pretrained weights\n",
      "\u001B[34m\u001B[1mTensorBoard: \u001B[0mStart with 'tensorboard --logdir /opt/homebrew/runs/classify/train3', view at http://localhost:6006/\n"
     ]
    },
    {
     "name": "stderr",
     "output_type": "stream",
     "text": [
      "/opt/homebrew/anaconda3/lib/python3.11/site-packages/ultralytics/engine/trainer.py:269: FutureWarning: `torch.cuda.amp.GradScaler(args...)` is deprecated. Please use `torch.amp.GradScaler('cuda', args...)` instead.\n",
      "  self.scaler = torch.cuda.amp.GradScaler(enabled=self.amp)\n",
      "\u001B[34m\u001B[1mtrain: \u001B[0mScanning /Users/andrewf1amex/Programming/Machine-learning/Dog-cat-classification/data/train... 800 images, 0 corrupt: 100%|██████████| 800/800 [00:00<?, ?it/s]\n",
      "\u001B[34m\u001B[1mval: \u001B[0mScanning /Users/andrewf1amex/Programming/Machine-learning/Dog-cat-classification/data/val... 200 images, 0 corrupt: 100%|██████████| 200/200 [00:00<?, ?it/s]"
     ]
    },
    {
     "name": "stdout",
     "output_type": "stream",
     "text": [
      "\u001B[34m\u001B[1moptimizer:\u001B[0m 'optimizer=auto' found, ignoring 'lr0=0.01' and 'momentum=0.937' and determining best 'optimizer', 'lr0' and 'momentum' automatically... \n",
      "\u001B[34m\u001B[1moptimizer:\u001B[0m AdamW(lr=0.000714, momentum=0.9) with parameter groups 26 weight(decay=0.0), 27 weight(decay=0.0005), 27 bias(decay=0.0)\n"
     ]
    },
    {
     "name": "stderr",
     "output_type": "stream",
     "text": [
      "\n"
     ]
    },
    {
     "name": "stdout",
     "output_type": "stream",
     "text": [
      "\u001B[34m\u001B[1mTensorBoard: \u001B[0mmodel graph visualization added ✅\n",
      "Image sizes 64 train, 64 val\n",
      "Using 0 dataloader workers\n",
      "Logging results to \u001B[1m/opt/homebrew/runs/classify/train3\u001B[0m\n",
      "Starting training for 20 epochs...\n",
      "\n",
      "      Epoch    GPU_mem       loss  Instances       Size\n"
     ]
    },
    {
     "name": "stderr",
     "output_type": "stream",
     "text": [
      "       1/20         0G     0.6343         16         64: 100%|██████████| 50/50 [00:09<00:00,  5.14it/s]\n",
      "               classes   top1_acc   top5_acc: 100%|██████████| 7/7 [00:01<00:00,  3.87it/s]"
     ]
    },
    {
     "name": "stdout",
     "output_type": "stream",
     "text": [
      "                   all       0.83          1\n"
     ]
    },
    {
     "name": "stderr",
     "output_type": "stream",
     "text": [
      "\n"
     ]
    },
    {
     "name": "stdout",
     "output_type": "stream",
     "text": [
      "\n",
      "      Epoch    GPU_mem       loss  Instances       Size\n"
     ]
    },
    {
     "name": "stderr",
     "output_type": "stream",
     "text": [
      "       2/20         0G     0.3483         16         64: 100%|██████████| 50/50 [00:10<00:00,  4.91it/s]\n",
      "               classes   top1_acc   top5_acc: 100%|██████████| 7/7 [00:01<00:00,  4.02it/s]"
     ]
    },
    {
     "name": "stdout",
     "output_type": "stream",
     "text": [
      "                   all      0.925          1\n"
     ]
    },
    {
     "name": "stderr",
     "output_type": "stream",
     "text": [
      "\n"
     ]
    },
    {
     "name": "stdout",
     "output_type": "stream",
     "text": [
      "\n",
      "      Epoch    GPU_mem       loss  Instances       Size\n"
     ]
    },
    {
     "name": "stderr",
     "output_type": "stream",
     "text": [
      "       3/20         0G       0.23         16         64: 100%|██████████| 50/50 [00:09<00:00,  5.10it/s]\n",
      "               classes   top1_acc   top5_acc: 100%|██████████| 7/7 [00:01<00:00,  3.90it/s]"
     ]
    },
    {
     "name": "stdout",
     "output_type": "stream",
     "text": [
      "                   all      0.955          1\n"
     ]
    },
    {
     "name": "stderr",
     "output_type": "stream",
     "text": [
      "\n"
     ]
    },
    {
     "name": "stdout",
     "output_type": "stream",
     "text": [
      "\n",
      "      Epoch    GPU_mem       loss  Instances       Size\n"
     ]
    },
    {
     "name": "stderr",
     "output_type": "stream",
     "text": [
      "       4/20         0G      0.171         16         64: 100%|██████████| 50/50 [00:10<00:00,  4.90it/s]\n",
      "               classes   top1_acc   top5_acc: 100%|██████████| 7/7 [00:01<00:00,  3.88it/s]"
     ]
    },
    {
     "name": "stdout",
     "output_type": "stream",
     "text": [
      "                   all      0.985          1\n"
     ]
    },
    {
     "name": "stderr",
     "output_type": "stream",
     "text": [
      "\n"
     ]
    },
    {
     "name": "stdout",
     "output_type": "stream",
     "text": [
      "\n",
      "      Epoch    GPU_mem       loss  Instances       Size\n"
     ]
    },
    {
     "name": "stderr",
     "output_type": "stream",
     "text": [
      "       5/20         0G     0.1277         16         64: 100%|██████████| 50/50 [00:10<00:00,  4.97it/s]\n",
      "               classes   top1_acc   top5_acc: 100%|██████████| 7/7 [00:01<00:00,  3.85it/s]"
     ]
    },
    {
     "name": "stdout",
     "output_type": "stream",
     "text": [
      "                   all      0.985          1\n"
     ]
    },
    {
     "name": "stderr",
     "output_type": "stream",
     "text": [
      "\n"
     ]
    },
    {
     "name": "stdout",
     "output_type": "stream",
     "text": [
      "\n",
      "      Epoch    GPU_mem       loss  Instances       Size\n"
     ]
    },
    {
     "name": "stderr",
     "output_type": "stream",
     "text": [
      "       6/20         0G     0.1302         16         64: 100%|██████████| 50/50 [00:10<00:00,  4.83it/s]\n",
      "               classes   top1_acc   top5_acc: 100%|██████████| 7/7 [00:01<00:00,  3.58it/s]"
     ]
    },
    {
     "name": "stdout",
     "output_type": "stream",
     "text": [
      "                   all       0.99          1\n"
     ]
    },
    {
     "name": "stderr",
     "output_type": "stream",
     "text": [
      "\n"
     ]
    },
    {
     "name": "stdout",
     "output_type": "stream",
     "text": [
      "\n",
      "      Epoch    GPU_mem       loss  Instances       Size\n"
     ]
    },
    {
     "name": "stderr",
     "output_type": "stream",
     "text": [
      "       7/20         0G     0.1093         16         64: 100%|██████████| 50/50 [00:10<00:00,  4.61it/s]\n",
      "               classes   top1_acc   top5_acc: 100%|██████████| 7/7 [00:02<00:00,  3.36it/s]"
     ]
    },
    {
     "name": "stdout",
     "output_type": "stream",
     "text": [
      "                   all       0.99          1\n"
     ]
    },
    {
     "name": "stderr",
     "output_type": "stream",
     "text": [
      "\n"
     ]
    },
    {
     "name": "stdout",
     "output_type": "stream",
     "text": [
      "\n",
      "      Epoch    GPU_mem       loss  Instances       Size\n"
     ]
    },
    {
     "name": "stderr",
     "output_type": "stream",
     "text": [
      "       8/20         0G     0.1205         16         64: 100%|██████████| 50/50 [00:10<00:00,  4.78it/s]\n",
      "               classes   top1_acc   top5_acc: 100%|██████████| 7/7 [00:01<00:00,  3.74it/s]"
     ]
    },
    {
     "name": "stdout",
     "output_type": "stream",
     "text": [
      "                   all      0.985          1\n"
     ]
    },
    {
     "name": "stderr",
     "output_type": "stream",
     "text": [
      "\n"
     ]
    },
    {
     "name": "stdout",
     "output_type": "stream",
     "text": [
      "\n",
      "      Epoch    GPU_mem       loss  Instances       Size\n"
     ]
    },
    {
     "name": "stderr",
     "output_type": "stream",
     "text": [
      "       9/20         0G     0.1025         16         64: 100%|██████████| 50/50 [00:09<00:00,  5.20it/s]\n",
      "               classes   top1_acc   top5_acc: 100%|██████████| 7/7 [00:01<00:00,  3.80it/s]"
     ]
    },
    {
     "name": "stdout",
     "output_type": "stream",
     "text": [
      "                   all       0.99          1\n"
     ]
    },
    {
     "name": "stderr",
     "output_type": "stream",
     "text": [
      "\n"
     ]
    },
    {
     "name": "stdout",
     "output_type": "stream",
     "text": [
      "\n",
      "      Epoch    GPU_mem       loss  Instances       Size\n"
     ]
    },
    {
     "name": "stderr",
     "output_type": "stream",
     "text": [
      "      10/20         0G    0.08112         16         64: 100%|██████████| 50/50 [00:09<00:00,  5.21it/s]\n",
      "               classes   top1_acc   top5_acc: 100%|██████████| 7/7 [00:01<00:00,  3.76it/s]"
     ]
    },
    {
     "name": "stdout",
     "output_type": "stream",
     "text": [
      "                   all      0.995          1\n"
     ]
    },
    {
     "name": "stderr",
     "output_type": "stream",
     "text": [
      "\n"
     ]
    },
    {
     "name": "stdout",
     "output_type": "stream",
     "text": [
      "\n",
      "      Epoch    GPU_mem       loss  Instances       Size\n"
     ]
    },
    {
     "name": "stderr",
     "output_type": "stream",
     "text": [
      "      11/20         0G    0.09266         16         64: 100%|██████████| 50/50 [00:09<00:00,  5.25it/s]\n",
      "               classes   top1_acc   top5_acc: 100%|██████████| 7/7 [00:01<00:00,  3.72it/s]"
     ]
    },
    {
     "name": "stdout",
     "output_type": "stream",
     "text": [
      "                   all      0.995          1\n"
     ]
    },
    {
     "name": "stderr",
     "output_type": "stream",
     "text": [
      "\n"
     ]
    },
    {
     "name": "stdout",
     "output_type": "stream",
     "text": [
      "\n",
      "      Epoch    GPU_mem       loss  Instances       Size\n"
     ]
    },
    {
     "name": "stderr",
     "output_type": "stream",
     "text": [
      "      12/20         0G    0.09397         16         64: 100%|██████████| 50/50 [00:09<00:00,  5.02it/s]\n",
      "               classes   top1_acc   top5_acc: 100%|██████████| 7/7 [00:01<00:00,  3.54it/s]"
     ]
    },
    {
     "name": "stdout",
     "output_type": "stream",
     "text": [
      "                   all      0.995          1\n"
     ]
    },
    {
     "name": "stderr",
     "output_type": "stream",
     "text": [
      "\n"
     ]
    },
    {
     "name": "stdout",
     "output_type": "stream",
     "text": [
      "\n",
      "      Epoch    GPU_mem       loss  Instances       Size\n"
     ]
    },
    {
     "name": "stderr",
     "output_type": "stream",
     "text": [
      "      13/20         0G     0.1104         16         64: 100%|██████████| 50/50 [00:10<00:00,  4.92it/s]\n",
      "               classes   top1_acc   top5_acc: 100%|██████████| 7/7 [00:01<00:00,  3.50it/s]"
     ]
    },
    {
     "name": "stdout",
     "output_type": "stream",
     "text": [
      "                   all      0.995          1\n"
     ]
    },
    {
     "name": "stderr",
     "output_type": "stream",
     "text": [
      "\n"
     ]
    },
    {
     "name": "stdout",
     "output_type": "stream",
     "text": [
      "\n",
      "      Epoch    GPU_mem       loss  Instances       Size\n"
     ]
    },
    {
     "name": "stderr",
     "output_type": "stream",
     "text": [
      "      14/20         0G    0.05212         16         64: 100%|██████████| 50/50 [00:10<00:00,  4.69it/s]\n",
      "               classes   top1_acc   top5_acc: 100%|██████████| 7/7 [00:02<00:00,  3.39it/s]"
     ]
    },
    {
     "name": "stdout",
     "output_type": "stream",
     "text": [
      "                   all      0.995          1\n"
     ]
    },
    {
     "name": "stderr",
     "output_type": "stream",
     "text": [
      "\n"
     ]
    },
    {
     "name": "stdout",
     "output_type": "stream",
     "text": [
      "\n",
      "      Epoch    GPU_mem       loss  Instances       Size\n"
     ]
    },
    {
     "name": "stderr",
     "output_type": "stream",
     "text": [
      "      15/20         0G    0.05956         16         64: 100%|██████████| 50/50 [00:10<00:00,  4.60it/s]\n",
      "               classes   top1_acc   top5_acc: 100%|██████████| 7/7 [00:02<00:00,  3.33it/s]"
     ]
    },
    {
     "name": "stdout",
     "output_type": "stream",
     "text": [
      "                   all      0.995          1\n"
     ]
    },
    {
     "name": "stderr",
     "output_type": "stream",
     "text": [
      "\n"
     ]
    },
    {
     "name": "stdout",
     "output_type": "stream",
     "text": [
      "\n",
      "      Epoch    GPU_mem       loss  Instances       Size\n"
     ]
    },
    {
     "name": "stderr",
     "output_type": "stream",
     "text": [
      "      16/20         0G    0.06812         16         64: 100%|██████████| 50/50 [00:11<00:00,  4.44it/s]\n",
      "               classes   top1_acc   top5_acc: 100%|██████████| 7/7 [00:02<00:00,  3.24it/s]"
     ]
    },
    {
     "name": "stdout",
     "output_type": "stream",
     "text": [
      "                   all      0.995          1\n"
     ]
    },
    {
     "name": "stderr",
     "output_type": "stream",
     "text": [
      "\n"
     ]
    },
    {
     "name": "stdout",
     "output_type": "stream",
     "text": [
      "\n",
      "      Epoch    GPU_mem       loss  Instances       Size\n"
     ]
    },
    {
     "name": "stderr",
     "output_type": "stream",
     "text": [
      "      17/20         0G    0.06177         16         64: 100%|██████████| 50/50 [00:11<00:00,  4.32it/s]\n",
      "               classes   top1_acc   top5_acc: 100%|██████████| 7/7 [00:02<00:00,  3.20it/s]"
     ]
    },
    {
     "name": "stdout",
     "output_type": "stream",
     "text": [
      "                   all      0.995          1\n"
     ]
    },
    {
     "name": "stderr",
     "output_type": "stream",
     "text": [
      "\n"
     ]
    },
    {
     "name": "stdout",
     "output_type": "stream",
     "text": [
      "\n",
      "      Epoch    GPU_mem       loss  Instances       Size\n"
     ]
    },
    {
     "name": "stderr",
     "output_type": "stream",
     "text": [
      "      18/20         0G    0.06991         16         64: 100%|██████████| 50/50 [00:11<00:00,  4.31it/s]\n",
      "               classes   top1_acc   top5_acc: 100%|██████████| 7/7 [00:02<00:00,  3.17it/s]"
     ]
    },
    {
     "name": "stdout",
     "output_type": "stream",
     "text": [
      "                   all      0.995          1\n"
     ]
    },
    {
     "name": "stderr",
     "output_type": "stream",
     "text": [
      "\n"
     ]
    },
    {
     "name": "stdout",
     "output_type": "stream",
     "text": [
      "\n",
      "      Epoch    GPU_mem       loss  Instances       Size\n"
     ]
    },
    {
     "name": "stderr",
     "output_type": "stream",
     "text": [
      "      19/20         0G    0.06073         16         64: 100%|██████████| 50/50 [00:11<00:00,  4.25it/s]\n",
      "               classes   top1_acc   top5_acc: 100%|██████████| 7/7 [00:02<00:00,  3.08it/s]"
     ]
    },
    {
     "name": "stdout",
     "output_type": "stream",
     "text": [
      "                   all      0.995          1\n"
     ]
    },
    {
     "name": "stderr",
     "output_type": "stream",
     "text": [
      "\n"
     ]
    },
    {
     "name": "stdout",
     "output_type": "stream",
     "text": [
      "\n",
      "      Epoch    GPU_mem       loss  Instances       Size\n"
     ]
    },
    {
     "name": "stderr",
     "output_type": "stream",
     "text": [
      "      20/20         0G    0.07623         16         64: 100%|██████████| 50/50 [00:12<00:00,  4.03it/s]\n",
      "               classes   top1_acc   top5_acc: 100%|██████████| 7/7 [00:02<00:00,  3.00it/s]"
     ]
    },
    {
     "name": "stdout",
     "output_type": "stream",
     "text": [
      "                   all      0.995          1\n"
     ]
    },
    {
     "name": "stderr",
     "output_type": "stream",
     "text": [
      "\n"
     ]
    },
    {
     "name": "stdout",
     "output_type": "stream",
     "text": [
      "\n",
      "20 epochs completed in 0.071 hours.\n",
      "Optimizer stripped from /opt/homebrew/runs/classify/train3/weights/last.pt, 3.0MB\n",
      "Optimizer stripped from /opt/homebrew/runs/classify/train3/weights/best.pt, 3.0MB\n",
      "\n",
      "Validating /opt/homebrew/runs/classify/train3/weights/best.pt...\n",
      "Ultralytics YOLOv8.2.76 🚀 Python-3.11.5 torch-2.4.0 CPU (Apple M2)\n",
      "YOLOv8n-cls summary (fused): 73 layers, 1,437,442 parameters, 0 gradients, 3.3 GFLOPs\n",
      "\u001B[34m\u001B[1mtrain:\u001B[0m /Users/andrewf1amex/Programming/Machine-learning/Dog-cat-classification/data/train... found 800 images in 2 classes ✅ \n",
      "\u001B[34m\u001B[1mval:\u001B[0m /Users/andrewf1amex/Programming/Machine-learning/Dog-cat-classification/data/val... found 200 images in 2 classes ✅ \n",
      "\u001B[34m\u001B[1mtest:\u001B[0m None...\n"
     ]
    },
    {
     "name": "stderr",
     "output_type": "stream",
     "text": [
      "               classes   top1_acc   top5_acc: 100%|██████████| 7/7 [00:02<00:00,  3.09it/s]\n"
     ]
    },
    {
     "name": "stdout",
     "output_type": "stream",
     "text": [
      "                   all      0.995          1\n",
      "Speed: 0.0ms preprocess, 3.4ms inference, 0.0ms loss, 0.0ms postprocess per image\n",
      "Results saved to \u001B[1m/opt/homebrew/runs/classify/train3\u001B[0m\n",
      "Results saved to \u001B[1m/opt/homebrew/runs/classify/train3\u001B[0m\n"
     ]
    },
    {
     "data": {
      "text/plain": "ultralytics.utils.metrics.ClassifyMetrics object with attributes:\n\nconfusion_matrix: <ultralytics.utils.metrics.ConfusionMatrix object at 0x3475f8550>\ncurves: []\ncurves_results: []\nfitness: 0.9975000023841858\nkeys: ['metrics/accuracy_top1', 'metrics/accuracy_top5']\nresults_dict: {'metrics/accuracy_top1': 0.9950000047683716, 'metrics/accuracy_top5': 1.0, 'fitness': 0.9975000023841858}\nsave_dir: PosixPath('/opt/homebrew/runs/classify/train3')\nspeed: {'preprocess': 0.0002384185791015625, 'inference': 3.4270787239074707, 'loss': 4.0531158447265625e-05, 'postprocess': 4.172325134277344e-05}\ntask: 'classify'\ntop1: 0.9950000047683716\ntop5: 1.0"
     },
     "execution_count": 9,
     "metadata": {},
     "output_type": "execute_result"
    }
   ],
   "source": [
    "model = YOLO('yolov8n-cls.pt')\n",
    "model.train(data='data', epochs=20, imgsz=64)"
   ],
   "metadata": {
    "collapsed": false,
    "ExecuteTime": {
     "end_time": "2024-08-12T12:32:01.468263Z",
     "start_time": "2024-08-12T12:27:26.211064Z"
    }
   },
   "id": "9d9c7a4c0893d6b7",
   "execution_count": 9
  },
  {
   "cell_type": "markdown",
   "source": [
    "# Best model prediction on custom img"
   ],
   "metadata": {
    "collapsed": false
   },
   "id": "7629427a11b920a7"
  },
  {
   "cell_type": "code",
   "outputs": [
    {
     "name": "stdout",
     "output_type": "stream",
     "text": [
      "image 1/1 /Users/andrewf1amex/Programming/Machine-learning/Dog-cat-classification/data/custom_img.jpg: 64x64 dog 1.00, cat 0.00, 2.2ms\n",
      "Speed: 16.8ms preprocess, 2.2ms inference, 0.0ms postprocess per image at shape (1, 3, 64, 64)\n"
     ]
    },
    {
     "data": {
      "text/plain": "[ultralytics.engine.results.Results object with attributes:\n \n boxes: None\n keypoints: None\n masks: None\n names: {0: 'cat', 1: 'dog'}\n obb: None\n orig_img: array([[[ 15,  30,  49],\n         [ 32,  52,  70],\n         [ 29,  59,  78],\n         ...,\n         [ 50, 132, 204],\n         [ 50, 127, 200],\n         [ 68, 145, 218]],\n \n        [[ 14,  29,  48],\n         [ 15,  35,  53],\n         [ 18,  45,  65],\n         ...,\n         [ 59, 138, 211],\n         [ 54, 131, 204],\n         [ 46, 123, 196]],\n \n        [[ 17,  30,  52],\n         [  9,  28,  49],\n         [ 11,  38,  58],\n         ...,\n         [ 57, 136, 209],\n         [ 52, 129, 202],\n         [ 57, 134, 207]],\n \n        ...,\n \n        [[170, 183, 199],\n         [178, 191, 205],\n         [191, 205, 217],\n         ...,\n         [ 78, 122, 151],\n         [ 80, 128, 156],\n         [ 96, 147, 173]],\n \n        [[166, 179, 193],\n         [182, 195, 209],\n         [193, 207, 219],\n         ...,\n         [125, 169, 198],\n         [109, 157, 185],\n         [ 86, 140, 165]],\n \n        [[169, 182, 196],\n         [190, 204, 216],\n         [197, 211, 223],\n         ...,\n         [128, 172, 201],\n         [131, 181, 209],\n         [135, 189, 214]]], dtype=uint8)\n orig_shape: (1126, 1280)\n path: '/Users/andrewf1amex/Programming/Machine-learning/Dog-cat-classification/data/custom_img.jpg'\n probs: ultralytics.engine.results.Probs object\n save_dir: '/opt/homebrew/runs/classify/predict'\n speed: {'preprocess': 16.835927963256836, 'inference': 2.228975296020508, 'postprocess': 0.0400543212890625}]"
     },
     "execution_count": 10,
     "metadata": {},
     "output_type": "execute_result"
    }
   ],
   "source": [
    "predict_model = YOLO('/opt/homebrew/runs/classify/train2/weights/best.pt')\n",
    "results = predict_model('data/custom_img.jpg')\n",
    "results"
   ],
   "metadata": {
    "collapsed": false,
    "ExecuteTime": {
     "end_time": "2024-08-12T12:32:01.638078Z",
     "start_time": "2024-08-12T12:32:01.470739Z"
    }
   },
   "id": "3a5144d540a21132",
   "execution_count": 10
  }
 ],
 "metadata": {
  "kernelspec": {
   "display_name": "Python 3",
   "language": "python",
   "name": "python3"
  },
  "language_info": {
   "codemirror_mode": {
    "name": "ipython",
    "version": 2
   },
   "file_extension": ".py",
   "mimetype": "text/x-python",
   "name": "python",
   "nbconvert_exporter": "python",
   "pygments_lexer": "ipython2",
   "version": "2.7.6"
  }
 },
 "nbformat": 4,
 "nbformat_minor": 5
}
