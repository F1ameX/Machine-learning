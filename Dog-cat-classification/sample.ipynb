{
 "cells": [
  {
   "cell_type": "code",
   "execution_count": 1,
   "id": "initial_id",
   "metadata": {
    "collapsed": true,
    "ExecuteTime": {
     "end_time": "2024-08-12T05:56:59.230121Z",
     "start_time": "2024-08-12T05:56:55.255340Z"
    }
   },
   "outputs": [
    {
     "name": "stdout",
     "output_type": "stream",
     "text": [
      "Requirement already satisfied: numpy in /opt/homebrew/anaconda3/lib/python3.11/site-packages (1.24.3)\r\n",
      "Requirement already satisfied: scikit-learn in /opt/homebrew/anaconda3/lib/python3.11/site-packages (1.3.0)\r\n",
      "Requirement already satisfied: numpy>=1.17.3 in /opt/homebrew/anaconda3/lib/python3.11/site-packages (from scikit-learn) (1.24.3)\r\n",
      "Requirement already satisfied: scipy>=1.5.0 in /opt/homebrew/anaconda3/lib/python3.11/site-packages (from scikit-learn) (1.11.1)\r\n",
      "Requirement already satisfied: joblib>=1.1.1 in /opt/homebrew/anaconda3/lib/python3.11/site-packages (from scikit-learn) (1.2.0)\r\n",
      "Requirement already satisfied: threadpoolctl>=2.0.0 in /opt/homebrew/anaconda3/lib/python3.11/site-packages (from scikit-learn) (2.2.0)\r\n"
     ]
    }
   ],
   "source": [
    "!pip install numpy\n",
    "!pip install scikit-learn"
   ]
  },
  {
   "cell_type": "code",
   "outputs": [],
   "source": [
    "import os\n",
    "import numpy as np\n",
    "from skimage.io import imread, imsave\n",
    "from sklearn.model_selection import train_test_split"
   ],
   "metadata": {
    "collapsed": false,
    "ExecuteTime": {
     "end_time": "2024-08-12T06:02:39.367224Z",
     "start_time": "2024-08-12T06:02:38.326506Z"
    }
   },
   "id": "3ad72205acf2f9cf",
   "execution_count": 7
  },
  {
   "cell_type": "code",
   "outputs": [],
   "source": [
    "cat_data_path = 'animal/cat'\n",
    "dog_data_path = 'animal/dog'"
   ],
   "metadata": {
    "collapsed": false,
    "ExecuteTime": {
     "end_time": "2024-08-12T05:57:56.403837Z",
     "start_time": "2024-08-12T05:57:56.398546Z"
    }
   },
   "id": "6dd0552a9d0ba494",
   "execution_count": 3
  },
  {
   "cell_type": "code",
   "outputs": [
    {
     "name": "stdout",
     "output_type": "stream",
     "text": [
      "500 500\n"
     ]
    }
   ],
   "source": [
    "cat_data = []\n",
    "dog_data = []\n",
    "\n",
    "for file in os.listdir(cat_data_path):\n",
    "    img_path = os.path.join(cat_data_path, file)\n",
    "    img = imread(img_path)\n",
    "    cat_data.append(img)\n",
    "\n",
    "for file in os.listdir(dog_data_path):\n",
    "    img_path = os.path.join(dog_data_path, file)\n",
    "    img = imread(img_path)\n",
    "    dog_data.append(img)\n",
    "\n",
    "print(len(cat_data), len(dog_data))"
   ],
   "metadata": {
    "collapsed": false,
    "ExecuteTime": {
     "end_time": "2024-08-12T06:00:48.860661Z",
     "start_time": "2024-08-12T06:00:42.583478Z"
    }
   },
   "id": "c85c15257c5ef78",
   "execution_count": 5
  },
  {
   "cell_type": "code",
   "outputs": [
    {
     "name": "stdout",
     "output_type": "stream",
     "text": [
      "400 400\n",
      "100 100\n"
     ]
    }
   ],
   "source": [
    "cat_train, cat_val, dog_train, dog_val = train_test_split(cat_data, dog_data, test_size=0.2, random_state=52, shuffle=True)\n",
    "print(len(cat_train), len(dog_train))\n",
    "print(len(cat_val), len(dog_val))"
   ],
   "metadata": {
    "collapsed": false,
    "ExecuteTime": {
     "end_time": "2024-08-12T06:02:41.828651Z",
     "start_time": "2024-08-12T06:02:41.820129Z"
    }
   },
   "id": "fec4a98440493b50",
   "execution_count": 8
  },
  {
   "cell_type": "code",
   "outputs": [],
   "source": [
    "os.makedirs('data/train/cat', exist_ok=True)\n",
    "os.makedirs('data/train/dog', exist_ok=True)\n",
    "os.makedirs('data/val/cat', exist_ok=True)\n",
    "os.makedirs('data/val/dog', exist_ok=True)"
   ],
   "metadata": {
    "collapsed": false,
    "ExecuteTime": {
     "end_time": "2024-08-12T06:04:09.529686Z",
     "start_time": "2024-08-12T06:04:09.512420Z"
    }
   },
   "id": "e06749431863f213",
   "execution_count": 9
  },
  {
   "cell_type": "code",
   "outputs": [],
   "source": [
    "def save_image(image_data, directory, prefix):\n",
    "    for idx, image in enumerate(image_data):\n",
    "        imsave(os.path.join(directory, f'{prefix}_{idx}.png'), image)"
   ],
   "metadata": {
    "collapsed": false,
    "ExecuteTime": {
     "end_time": "2024-08-12T06:07:39.288519Z",
     "start_time": "2024-08-12T06:07:39.270186Z"
    }
   },
   "id": "1cbf215d5e7ac013",
   "execution_count": 10
  },
  {
   "cell_type": "code",
   "outputs": [],
   "source": [
    "save_image(cat_train, 'data/train/cat', 'cat_train')\n",
    "save_image(cat_val, 'data/val/cat', 'cat_val')\n",
    "save_image(dog_train, 'data/train/dog', 'dog_train')\n",
    "save_image(dog_val, 'data/val/dog', 'dog_val')"
   ],
   "metadata": {
    "collapsed": false,
    "ExecuteTime": {
     "end_time": "2024-08-12T06:09:51.772894Z",
     "start_time": "2024-08-12T06:08:24.890479Z"
    }
   },
   "id": "fda31977a27e5398",
   "execution_count": 11
  },
  {
   "cell_type": "code",
   "outputs": [],
   "source": [],
   "metadata": {
    "collapsed": false
   },
   "id": "9d9c7a4c0893d6b7"
  }
 ],
 "metadata": {
  "kernelspec": {
   "display_name": "Python 3",
   "language": "python",
   "name": "python3"
  },
  "language_info": {
   "codemirror_mode": {
    "name": "ipython",
    "version": 2
   },
   "file_extension": ".py",
   "mimetype": "text/x-python",
   "name": "python",
   "nbconvert_exporter": "python",
   "pygments_lexer": "ipython2",
   "version": "2.7.6"
  }
 },
 "nbformat": 4,
 "nbformat_minor": 5
}
