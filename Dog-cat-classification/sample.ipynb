{
 "cells": [
  {
   "cell_type": "code",
   "execution_count": 1,
   "id": "initial_id",
   "metadata": {
    "collapsed": true,
    "ExecuteTime": {
     "end_time": "2024-08-12T05:56:59.230121Z",
     "start_time": "2024-08-12T05:56:55.255340Z"
    }
   },
   "outputs": [
    {
     "name": "stdout",
     "output_type": "stream",
     "text": [
      "Requirement already satisfied: numpy in /opt/homebrew/anaconda3/lib/python3.11/site-packages (1.24.3)\r\n",
      "Requirement already satisfied: scikit-learn in /opt/homebrew/anaconda3/lib/python3.11/site-packages (1.3.0)\r\n",
      "Requirement already satisfied: numpy>=1.17.3 in /opt/homebrew/anaconda3/lib/python3.11/site-packages (from scikit-learn) (1.24.3)\r\n",
      "Requirement already satisfied: scipy>=1.5.0 in /opt/homebrew/anaconda3/lib/python3.11/site-packages (from scikit-learn) (1.11.1)\r\n",
      "Requirement already satisfied: joblib>=1.1.1 in /opt/homebrew/anaconda3/lib/python3.11/site-packages (from scikit-learn) (1.2.0)\r\n",
      "Requirement already satisfied: threadpoolctl>=2.0.0 in /opt/homebrew/anaconda3/lib/python3.11/site-packages (from scikit-learn) (2.2.0)\r\n"
     ]
    }
   ],
   "source": [
    "!pip install numpy\n",
    "!pip install scikit-learn\n",
    "!pip install ultralytics"
   ]
  },
  {
   "cell_type": "code",
   "outputs": [],
   "source": [
    "import os\n",
    "import numpy as np\n",
    "from skimage.io import imread, imsave\n",
    "from sklearn.model_selection import train_test_split\n",
    "from ultralytics import YOLO"
   ],
   "metadata": {
    "collapsed": false,
    "ExecuteTime": {
     "end_time": "2024-08-12T06:21:35.609427Z",
     "start_time": "2024-08-12T06:21:31.180410Z"
    }
   },
   "id": "3ad72205acf2f9cf",
   "execution_count": 12
  },
  {
   "cell_type": "code",
   "outputs": [],
   "source": [
    "cat_data_path = 'animal/cat'\n",
    "dog_data_path = 'animal/dog'"
   ],
   "metadata": {
    "collapsed": false,
    "ExecuteTime": {
     "end_time": "2024-08-12T05:57:56.403837Z",
     "start_time": "2024-08-12T05:57:56.398546Z"
    }
   },
   "id": "6dd0552a9d0ba494",
   "execution_count": 3
  },
  {
   "cell_type": "code",
   "outputs": [
    {
     "name": "stdout",
     "output_type": "stream",
     "text": [
      "500 500\n"
     ]
    }
   ],
   "source": [
    "cat_data = []\n",
    "dog_data = []\n",
    "\n",
    "for file in os.listdir(cat_data_path):\n",
    "    img_path = os.path.join(cat_data_path, file)\n",
    "    img = imread(img_path)\n",
    "    cat_data.append(img)\n",
    "\n",
    "for file in os.listdir(dog_data_path):\n",
    "    img_path = os.path.join(dog_data_path, file)\n",
    "    img = imread(img_path)\n",
    "    dog_data.append(img)\n",
    "\n",
    "print(len(cat_data), len(dog_data))"
   ],
   "metadata": {
    "collapsed": false,
    "ExecuteTime": {
     "end_time": "2024-08-12T06:00:48.860661Z",
     "start_time": "2024-08-12T06:00:42.583478Z"
    }
   },
   "id": "c85c15257c5ef78",
   "execution_count": 5
  },
  {
   "cell_type": "code",
   "outputs": [
    {
     "name": "stdout",
     "output_type": "stream",
     "text": [
      "400 400\n",
      "100 100\n"
     ]
    }
   ],
   "source": [
    "cat_train, cat_val, dog_train, dog_val = train_test_split(cat_data, dog_data, test_size=0.2, random_state=52, shuffle=True)\n",
    "print(len(cat_train), len(dog_train))\n",
    "print(len(cat_val), len(dog_val))"
   ],
   "metadata": {
    "collapsed": false,
    "ExecuteTime": {
     "end_time": "2024-08-12T06:02:41.828651Z",
     "start_time": "2024-08-12T06:02:41.820129Z"
    }
   },
   "id": "fec4a98440493b50",
   "execution_count": 8
  },
  {
   "cell_type": "code",
   "outputs": [],
   "source": [
    "os.makedirs('data/train/cat', exist_ok=True)\n",
    "os.makedirs('data/train/dog', exist_ok=True)\n",
    "os.makedirs('data/val/cat', exist_ok=True)\n",
    "os.makedirs('data/val/dog', exist_ok=True)"
   ],
   "metadata": {
    "collapsed": false,
    "ExecuteTime": {
     "end_time": "2024-08-12T06:04:09.529686Z",
     "start_time": "2024-08-12T06:04:09.512420Z"
    }
   },
   "id": "e06749431863f213",
   "execution_count": 9
  },
  {
   "cell_type": "code",
   "outputs": [],
   "source": [
    "def save_image(image_data, directory, prefix):\n",
    "    for idx, image in enumerate(image_data):\n",
    "        imsave(os.path.join(directory, f'{prefix}_{idx}.png'), image)"
   ],
   "metadata": {
    "collapsed": false,
    "ExecuteTime": {
     "end_time": "2024-08-12T06:07:39.288519Z",
     "start_time": "2024-08-12T06:07:39.270186Z"
    }
   },
   "id": "1cbf215d5e7ac013",
   "execution_count": 10
  },
  {
   "cell_type": "code",
   "outputs": [],
   "source": [
    "save_image(cat_train, 'data/train/cat', 'cat_train')\n",
    "save_image(cat_val, 'data/val/cat', 'cat_val')\n",
    "save_image(dog_train, 'data/train/dog', 'dog_train')\n",
    "save_image(dog_val, 'data/val/dog', 'dog_val')"
   ],
   "metadata": {
    "collapsed": false,
    "ExecuteTime": {
     "end_time": "2024-08-12T06:09:51.772894Z",
     "start_time": "2024-08-12T06:08:24.890479Z"
    }
   },
   "id": "fda31977a27e5398",
   "execution_count": 11
  },
  {
   "cell_type": "code",
   "outputs": [
    {
     "name": "stdout",
     "output_type": "stream",
     "text": [
      "Ultralytics YOLOv8.2.76 🚀 Python-3.11.5 torch-2.4.0 CPU (Apple M2)\n",
      "\u001B[34m\u001B[1mengine/trainer: \u001B[0mtask=classify, mode=train, model=yolov8n-cls.pt, data=data, epochs=1, time=None, patience=100, batch=16, imgsz=64, save=True, save_period=-1, cache=False, device=None, workers=8, project=None, name=train, exist_ok=False, pretrained=True, optimizer=auto, verbose=True, seed=0, deterministic=True, single_cls=False, rect=False, cos_lr=False, close_mosaic=10, resume=False, amp=True, fraction=1.0, profile=False, freeze=None, multi_scale=False, overlap_mask=True, mask_ratio=4, dropout=0.0, val=True, split=val, save_json=False, save_hybrid=False, conf=None, iou=0.7, max_det=300, half=False, dnn=False, plots=True, source=None, vid_stride=1, stream_buffer=False, visualize=False, augment=False, agnostic_nms=False, classes=None, retina_masks=False, embed=None, show=False, save_frames=False, save_txt=False, save_conf=False, save_crop=False, show_labels=True, show_conf=True, show_boxes=True, line_width=None, format=torchscript, keras=False, optimize=False, int8=False, dynamic=False, simplify=False, opset=None, workspace=4, nms=False, lr0=0.01, lrf=0.01, momentum=0.937, weight_decay=0.0005, warmup_epochs=3.0, warmup_momentum=0.8, warmup_bias_lr=0.1, box=7.5, cls=0.5, dfl=1.5, pose=12.0, kobj=1.0, label_smoothing=0.0, nbs=64, hsv_h=0.015, hsv_s=0.7, hsv_v=0.4, degrees=0.0, translate=0.1, scale=0.5, shear=0.0, perspective=0.0, flipud=0.0, fliplr=0.5, bgr=0.0, mosaic=1.0, mixup=0.0, copy_paste=0.0, auto_augment=randaugment, erasing=0.4, crop_fraction=1.0, cfg=None, tracker=botsort.yaml, save_dir=/opt/homebrew/runs/classify/train\n",
      "\u001B[34m\u001B[1mtrain:\u001B[0m /Users/andrewf1amex/Programming/Machine-learning/Dog-cat-classification/data/train... found 800 images in 2 classes ✅ \n",
      "\u001B[34m\u001B[1mval:\u001B[0m /Users/andrewf1amex/Programming/Machine-learning/Dog-cat-classification/data/val... found 200 images in 2 classes ✅ \n",
      "\u001B[34m\u001B[1mtest:\u001B[0m None...\n",
      "Overriding model.yaml nc=1000 with nc=2\n",
      "\n",
      "                   from  n    params  module                                       arguments                     \n",
      "  0                  -1  1       464  ultralytics.nn.modules.conv.Conv             [3, 16, 3, 2]                 \n",
      "  1                  -1  1      4672  ultralytics.nn.modules.conv.Conv             [16, 32, 3, 2]                \n",
      "  2                  -1  1      7360  ultralytics.nn.modules.block.C2f             [32, 32, 1, True]             \n",
      "  3                  -1  1     18560  ultralytics.nn.modules.conv.Conv             [32, 64, 3, 2]                \n",
      "  4                  -1  2     49664  ultralytics.nn.modules.block.C2f             [64, 64, 2, True]             \n",
      "  5                  -1  1     73984  ultralytics.nn.modules.conv.Conv             [64, 128, 3, 2]               \n",
      "  6                  -1  2    197632  ultralytics.nn.modules.block.C2f             [128, 128, 2, True]           \n",
      "  7                  -1  1    295424  ultralytics.nn.modules.conv.Conv             [128, 256, 3, 2]              \n",
      "  8                  -1  1    460288  ultralytics.nn.modules.block.C2f             [256, 256, 1, True]           \n",
      "  9                  -1  1    332802  ultralytics.nn.modules.head.Classify         [256, 2]                      \n",
      "YOLOv8n-cls summary: 99 layers, 1,440,850 parameters, 1,440,850 gradients, 3.4 GFLOPs\n",
      "Transferred 156/158 items from pretrained weights\n",
      "\u001B[34m\u001B[1mTensorBoard: \u001B[0mStart with 'tensorboard --logdir /opt/homebrew/runs/classify/train', view at http://localhost:6006/\n"
     ]
    },
    {
     "name": "stderr",
     "output_type": "stream",
     "text": [
      "/opt/homebrew/anaconda3/lib/python3.11/site-packages/ultralytics/engine/trainer.py:269: FutureWarning: `torch.cuda.amp.GradScaler(args...)` is deprecated. Please use `torch.amp.GradScaler('cuda', args...)` instead.\n",
      "  self.scaler = torch.cuda.amp.GradScaler(enabled=self.amp)\n",
      "\u001B[34m\u001B[1mtrain: \u001B[0mScanning /Users/andrewf1amex/Programming/Machine-learning/Dog-cat-classification/data/train... 800 images, 0 corrupt: 100%|██████████| 800/800 [00:00<?, ?it/s]\n",
      "\u001B[34m\u001B[1mval: \u001B[0mScanning /Users/andrewf1amex/Programming/Machine-learning/Dog-cat-classification/data/val... 200 images, 0 corrupt: 100%|██████████| 200/200 [00:00<?, ?it/s]"
     ]
    },
    {
     "name": "stdout",
     "output_type": "stream",
     "text": [
      "\u001B[34m\u001B[1moptimizer:\u001B[0m 'optimizer=auto' found, ignoring 'lr0=0.01' and 'momentum=0.937' and determining best 'optimizer', 'lr0' and 'momentum' automatically... \n",
      "\u001B[34m\u001B[1moptimizer:\u001B[0m AdamW(lr=0.000714, momentum=0.9) with parameter groups 26 weight(decay=0.0), 27 weight(decay=0.0005), 27 bias(decay=0.0)\n"
     ]
    },
    {
     "name": "stderr",
     "output_type": "stream",
     "text": [
      "\n"
     ]
    },
    {
     "name": "stdout",
     "output_type": "stream",
     "text": [
      "\u001B[34m\u001B[1mTensorBoard: \u001B[0mmodel graph visualization added ✅\n",
      "Image sizes 64 train, 64 val\n",
      "Using 0 dataloader workers\n",
      "Logging results to \u001B[1m/opt/homebrew/runs/classify/train\u001B[0m\n",
      "Starting training for 1 epochs...\n",
      "\n",
      "      Epoch    GPU_mem       loss  Instances       Size\n"
     ]
    },
    {
     "name": "stderr",
     "output_type": "stream",
     "text": [
      "        1/1         0G     0.6343         16         64: 100%|██████████| 50/50 [00:11<00:00,  4.47it/s]\n",
      "               classes   top1_acc   top5_acc: 100%|██████████| 7/7 [00:01<00:00,  3.51it/s]\n"
     ]
    },
    {
     "name": "stdout",
     "output_type": "stream",
     "text": [
      "                   all       0.83          1\n",
      "\n",
      "1 epochs completed in 0.004 hours.\n",
      "Optimizer stripped from /opt/homebrew/runs/classify/train/weights/last.pt, 3.0MB\n",
      "Optimizer stripped from /opt/homebrew/runs/classify/train/weights/best.pt, 3.0MB\n",
      "\n",
      "Validating /opt/homebrew/runs/classify/train/weights/best.pt...\n",
      "Ultralytics YOLOv8.2.76 🚀 Python-3.11.5 torch-2.4.0 CPU (Apple M2)\n",
      "YOLOv8n-cls summary (fused): 73 layers, 1,437,442 parameters, 0 gradients, 3.3 GFLOPs\n",
      "\u001B[34m\u001B[1mtrain:\u001B[0m /Users/andrewf1amex/Programming/Machine-learning/Dog-cat-classification/data/train... found 800 images in 2 classes ✅ \n",
      "\u001B[34m\u001B[1mval:\u001B[0m /Users/andrewf1amex/Programming/Machine-learning/Dog-cat-classification/data/val... found 200 images in 2 classes ✅ \n",
      "\u001B[34m\u001B[1mtest:\u001B[0m None...\n"
     ]
    },
    {
     "name": "stderr",
     "output_type": "stream",
     "text": [
      "               classes   top1_acc   top5_acc: 100%|██████████| 7/7 [00:01<00:00,  3.75it/s]\n"
     ]
    },
    {
     "name": "stdout",
     "output_type": "stream",
     "text": [
      "                   all       0.83          1\n",
      "Speed: 0.0ms preprocess, 2.9ms inference, 0.0ms loss, 0.0ms postprocess per image\n",
      "Results saved to \u001B[1m/opt/homebrew/runs/classify/train\u001B[0m\n",
      "Results saved to \u001B[1m/opt/homebrew/runs/classify/train\u001B[0m\n"
     ]
    },
    {
     "data": {
      "text/plain": "ultralytics.utils.metrics.ClassifyMetrics object with attributes:\n\nconfusion_matrix: <ultralytics.utils.metrics.ConfusionMatrix object at 0x335e5e850>\ncurves: []\ncurves_results: []\nfitness: 0.9149999916553497\nkeys: ['metrics/accuracy_top1', 'metrics/accuracy_top5']\nresults_dict: {'metrics/accuracy_top1': 0.8299999833106995, 'metrics/accuracy_top5': 1.0, 'fitness': 0.9149999916553497}\nsave_dir: PosixPath('/opt/homebrew/runs/classify/train')\nspeed: {'preprocess': 0.0002682209014892578, 'inference': 2.8903889656066895, 'loss': 1.430511474609375e-05, 'postprocess': 1.9073486328125e-05}\ntask: 'classify'\ntop1: 0.8299999833106995\ntop5: 1.0"
     },
     "execution_count": 15,
     "metadata": {},
     "output_type": "execute_result"
    }
   ],
   "source": [
    "model = YOLO('yolov8n-cls.pt')\n",
    "model.train(data='data', epochs=1, imgsz=64)"
   ],
   "metadata": {
    "collapsed": false,
    "ExecuteTime": {
     "end_time": "2024-08-12T10:22:17.389958Z",
     "start_time": "2024-08-12T10:21:59.020841Z"
    }
   },
   "id": "9d9c7a4c0893d6b7",
   "execution_count": 15
  },
  {
   "cell_type": "code",
   "outputs": [],
   "source": [],
   "metadata": {
    "collapsed": false
   },
   "id": "cadabfff1026b13c"
  }
 ],
 "metadata": {
  "kernelspec": {
   "display_name": "Python 3",
   "language": "python",
   "name": "python3"
  },
  "language_info": {
   "codemirror_mode": {
    "name": "ipython",
    "version": 2
   },
   "file_extension": ".py",
   "mimetype": "text/x-python",
   "name": "python",
   "nbconvert_exporter": "python",
   "pygments_lexer": "ipython2",
   "version": "2.7.6"
  }
 },
 "nbformat": 4,
 "nbformat_minor": 5
}
