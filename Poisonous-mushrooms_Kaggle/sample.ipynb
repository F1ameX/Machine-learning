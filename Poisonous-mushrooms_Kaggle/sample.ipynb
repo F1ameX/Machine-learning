{
 "cells": [
  {
   "cell_type": "code",
   "execution_count": 1,
   "id": "initial_id",
   "metadata": {
    "collapsed": true,
    "ExecuteTime": {
     "end_time": "2024-08-09T12:09:08.786986Z",
     "start_time": "2024-08-09T12:08:58.529207Z"
    }
   },
   "outputs": [
    {
     "name": "stdout",
     "output_type": "stream",
     "text": [
      "Requirement already satisfied: numpy in /opt/homebrew/anaconda3/lib/python3.11/site-packages (1.24.3)\r\n",
      "Requirement already satisfied: pandas in /opt/homebrew/anaconda3/lib/python3.11/site-packages (2.0.3)\r\n",
      "Requirement already satisfied: python-dateutil>=2.8.2 in /opt/homebrew/anaconda3/lib/python3.11/site-packages (from pandas) (2.8.2)\r\n",
      "Requirement already satisfied: pytz>=2020.1 in /opt/homebrew/anaconda3/lib/python3.11/site-packages (from pandas) (2023.3.post1)\r\n",
      "Requirement already satisfied: tzdata>=2022.1 in /opt/homebrew/anaconda3/lib/python3.11/site-packages (from pandas) (2023.3)\r\n",
      "Requirement already satisfied: numpy>=1.21.0 in /opt/homebrew/anaconda3/lib/python3.11/site-packages (from pandas) (1.24.3)\r\n",
      "Requirement already satisfied: six>=1.5 in /opt/homebrew/anaconda3/lib/python3.11/site-packages (from python-dateutil>=2.8.2->pandas) (1.16.0)\r\n",
      "Requirement already satisfied: seaborn in /opt/homebrew/anaconda3/lib/python3.11/site-packages (0.12.2)\r\n",
      "Requirement already satisfied: numpy!=1.24.0,>=1.17 in /opt/homebrew/anaconda3/lib/python3.11/site-packages (from seaborn) (1.24.3)\r\n",
      "Requirement already satisfied: pandas>=0.25 in /opt/homebrew/anaconda3/lib/python3.11/site-packages (from seaborn) (2.0.3)\r\n",
      "Requirement already satisfied: matplotlib!=3.6.1,>=3.1 in /opt/homebrew/anaconda3/lib/python3.11/site-packages (from seaborn) (3.7.2)\r\n",
      "Requirement already satisfied: contourpy>=1.0.1 in /opt/homebrew/anaconda3/lib/python3.11/site-packages (from matplotlib!=3.6.1,>=3.1->seaborn) (1.0.5)\r\n",
      "Requirement already satisfied: cycler>=0.10 in /opt/homebrew/anaconda3/lib/python3.11/site-packages (from matplotlib!=3.6.1,>=3.1->seaborn) (0.11.0)\r\n",
      "Requirement already satisfied: fonttools>=4.22.0 in /opt/homebrew/anaconda3/lib/python3.11/site-packages (from matplotlib!=3.6.1,>=3.1->seaborn) (4.25.0)\r\n",
      "Requirement already satisfied: kiwisolver>=1.0.1 in /opt/homebrew/anaconda3/lib/python3.11/site-packages (from matplotlib!=3.6.1,>=3.1->seaborn) (1.4.4)\r\n",
      "Requirement already satisfied: packaging>=20.0 in /opt/homebrew/anaconda3/lib/python3.11/site-packages (from matplotlib!=3.6.1,>=3.1->seaborn) (23.1)\r\n",
      "Requirement already satisfied: pillow>=6.2.0 in /opt/homebrew/anaconda3/lib/python3.11/site-packages (from matplotlib!=3.6.1,>=3.1->seaborn) (9.4.0)\r\n",
      "Requirement already satisfied: pyparsing<3.1,>=2.3.1 in /opt/homebrew/anaconda3/lib/python3.11/site-packages (from matplotlib!=3.6.1,>=3.1->seaborn) (3.0.9)\r\n",
      "Requirement already satisfied: python-dateutil>=2.7 in /opt/homebrew/anaconda3/lib/python3.11/site-packages (from matplotlib!=3.6.1,>=3.1->seaborn) (2.8.2)\r\n",
      "Requirement already satisfied: pytz>=2020.1 in /opt/homebrew/anaconda3/lib/python3.11/site-packages (from pandas>=0.25->seaborn) (2023.3.post1)\r\n",
      "Requirement already satisfied: tzdata>=2022.1 in /opt/homebrew/anaconda3/lib/python3.11/site-packages (from pandas>=0.25->seaborn) (2023.3)\r\n",
      "Requirement already satisfied: six>=1.5 in /opt/homebrew/anaconda3/lib/python3.11/site-packages (from python-dateutil>=2.7->matplotlib!=3.6.1,>=3.1->seaborn) (1.16.0)\r\n",
      "Requirement already satisfied: matplotlib in /opt/homebrew/anaconda3/lib/python3.11/site-packages (3.7.2)\r\n",
      "Requirement already satisfied: contourpy>=1.0.1 in /opt/homebrew/anaconda3/lib/python3.11/site-packages (from matplotlib) (1.0.5)\r\n",
      "Requirement already satisfied: cycler>=0.10 in /opt/homebrew/anaconda3/lib/python3.11/site-packages (from matplotlib) (0.11.0)\r\n",
      "Requirement already satisfied: fonttools>=4.22.0 in /opt/homebrew/anaconda3/lib/python3.11/site-packages (from matplotlib) (4.25.0)\r\n",
      "Requirement already satisfied: kiwisolver>=1.0.1 in /opt/homebrew/anaconda3/lib/python3.11/site-packages (from matplotlib) (1.4.4)\r\n",
      "Requirement already satisfied: numpy>=1.20 in /opt/homebrew/anaconda3/lib/python3.11/site-packages (from matplotlib) (1.24.3)\r\n",
      "Requirement already satisfied: packaging>=20.0 in /opt/homebrew/anaconda3/lib/python3.11/site-packages (from matplotlib) (23.1)\r\n",
      "Requirement already satisfied: pillow>=6.2.0 in /opt/homebrew/anaconda3/lib/python3.11/site-packages (from matplotlib) (9.4.0)\r\n",
      "Requirement already satisfied: pyparsing<3.1,>=2.3.1 in /opt/homebrew/anaconda3/lib/python3.11/site-packages (from matplotlib) (3.0.9)\r\n",
      "Requirement already satisfied: python-dateutil>=2.7 in /opt/homebrew/anaconda3/lib/python3.11/site-packages (from matplotlib) (2.8.2)\r\n",
      "Requirement already satisfied: six>=1.5 in /opt/homebrew/anaconda3/lib/python3.11/site-packages (from python-dateutil>=2.7->matplotlib) (1.16.0)\r\n",
      "Requirement already satisfied: lightgbm in /opt/homebrew/anaconda3/lib/python3.11/site-packages (4.5.0)\r\n",
      "Requirement already satisfied: numpy>=1.17.0 in /opt/homebrew/anaconda3/lib/python3.11/site-packages (from lightgbm) (1.24.3)\r\n",
      "Requirement already satisfied: scipy in /opt/homebrew/anaconda3/lib/python3.11/site-packages (from lightgbm) (1.11.1)\r\n"
     ]
    }
   ],
   "source": [
    "!pip install numpy\n",
    "!pip install pandas\n",
    "!pip install seaborn\n",
    "!pip install matplotlib\n",
    "!pip install lightgbm"
   ]
  },
  {
   "cell_type": "code",
   "outputs": [],
   "source": [
    "import pandas as pd\n",
    "from sklearn.model_selection import train_test_split, GridSearchCV, StratifiedKFold\n",
    "from sklearn.metrics import matthews_corrcoef\n",
    "from lightgbm import LGBMClassifier"
   ],
   "metadata": {
    "collapsed": false,
    "ExecuteTime": {
     "end_time": "2024-08-09T12:09:12.178139Z",
     "start_time": "2024-08-09T12:09:08.788538Z"
    }
   },
   "id": "49cc0963e76432b0",
   "execution_count": 2
  },
  {
   "cell_type": "code",
   "outputs": [],
   "source": [
    "train_df = pd.read_csv('data/train.csv', index_col=0)\n",
    "test_df = pd.read_csv('data/test.csv', index_col=0)"
   ],
   "metadata": {
    "collapsed": false,
    "ExecuteTime": {
     "end_time": "2024-08-09T12:09:17.025148Z",
     "start_time": "2024-08-09T12:09:12.178953Z"
    }
   },
   "id": "dfc5a30e390c9167",
   "execution_count": 3
  },
  {
   "cell_type": "code",
   "outputs": [
    {
     "data": {
      "text/plain": "        class  cap-diameter cap-shape cap-surface cap-color  \\\nid                                                            \n0           e          8.80         f           s         u   \n1           p          4.51         x           h         o   \n2           e          6.94         f           s         b   \n3           e          3.88         f           y         g   \n4           e          5.85         x           l         w   \n...       ...           ...       ...         ...       ...   \n3116940     e          9.29         f         NaN         n   \n3116941     e         10.88         s         NaN         w   \n3116942     p          7.82         x           e         e   \n3116943     e          9.45         p           i         n   \n3116944     p          3.20         x           s         g   \n\n        does-bruise-or-bleed gill-attachment gill-spacing gill-color  \\\nid                                                                     \n0                          f               a            c          w   \n1                          f               a            c          n   \n2                          f               x            c          w   \n3                          f               s          NaN          g   \n4                          f               d          NaN          w   \n...                      ...             ...          ...        ...   \n3116940                    t             NaN          NaN          w   \n3116941                    t               d            c          p   \n3116942                    f               a          NaN          w   \n3116943                    t               e          NaN          p   \n3116944                    f               d            c          w   \n\n         stem-height  ...  stem-root stem-surface stem-color veil-type  \\\nid                    ...                                                \n0               4.51  ...        NaN          NaN          w       NaN   \n1               4.79  ...        NaN            y          o       NaN   \n2               6.85  ...        NaN            s          n       NaN   \n3               4.16  ...        NaN          NaN          w       NaN   \n4               3.37  ...        NaN          NaN          w       NaN   \n...              ...  ...        ...          ...        ...       ...   \n3116940        12.14  ...          b          NaN          w         u   \n3116941         6.65  ...        NaN          NaN          w       NaN   \n3116942         9.51  ...        NaN          NaN          y       NaN   \n3116943         9.13  ...        NaN            y          w       NaN   \n3116944         2.82  ...        NaN          NaN          w       NaN   \n\n        veil-color has-ring ring-type spore-print-color habitat season  \nid                                                                      \n0              NaN        f         f               NaN       d      a  \n1              NaN        t         z               NaN       d      w  \n2              NaN        f         f               NaN       l      w  \n3              NaN        f         f               NaN       d      u  \n4              NaN        f         f               NaN       g      a  \n...            ...      ...       ...               ...     ...    ...  \n3116940          w        t         g               NaN       d      u  \n3116941        NaN        f         f               NaN       d      u  \n3116942          w        t         z               NaN       d      a  \n3116943        NaN        t         p               NaN       d      u  \n3116944        NaN        f         f               NaN       g      u  \n\n[3116945 rows x 21 columns]",
      "text/html": "<div>\n<style scoped>\n    .dataframe tbody tr th:only-of-type {\n        vertical-align: middle;\n    }\n\n    .dataframe tbody tr th {\n        vertical-align: top;\n    }\n\n    .dataframe thead th {\n        text-align: right;\n    }\n</style>\n<table border=\"1\" class=\"dataframe\">\n  <thead>\n    <tr style=\"text-align: right;\">\n      <th></th>\n      <th>class</th>\n      <th>cap-diameter</th>\n      <th>cap-shape</th>\n      <th>cap-surface</th>\n      <th>cap-color</th>\n      <th>does-bruise-or-bleed</th>\n      <th>gill-attachment</th>\n      <th>gill-spacing</th>\n      <th>gill-color</th>\n      <th>stem-height</th>\n      <th>...</th>\n      <th>stem-root</th>\n      <th>stem-surface</th>\n      <th>stem-color</th>\n      <th>veil-type</th>\n      <th>veil-color</th>\n      <th>has-ring</th>\n      <th>ring-type</th>\n      <th>spore-print-color</th>\n      <th>habitat</th>\n      <th>season</th>\n    </tr>\n    <tr>\n      <th>id</th>\n      <th></th>\n      <th></th>\n      <th></th>\n      <th></th>\n      <th></th>\n      <th></th>\n      <th></th>\n      <th></th>\n      <th></th>\n      <th></th>\n      <th></th>\n      <th></th>\n      <th></th>\n      <th></th>\n      <th></th>\n      <th></th>\n      <th></th>\n      <th></th>\n      <th></th>\n      <th></th>\n      <th></th>\n    </tr>\n  </thead>\n  <tbody>\n    <tr>\n      <th>0</th>\n      <td>e</td>\n      <td>8.80</td>\n      <td>f</td>\n      <td>s</td>\n      <td>u</td>\n      <td>f</td>\n      <td>a</td>\n      <td>c</td>\n      <td>w</td>\n      <td>4.51</td>\n      <td>...</td>\n      <td>NaN</td>\n      <td>NaN</td>\n      <td>w</td>\n      <td>NaN</td>\n      <td>NaN</td>\n      <td>f</td>\n      <td>f</td>\n      <td>NaN</td>\n      <td>d</td>\n      <td>a</td>\n    </tr>\n    <tr>\n      <th>1</th>\n      <td>p</td>\n      <td>4.51</td>\n      <td>x</td>\n      <td>h</td>\n      <td>o</td>\n      <td>f</td>\n      <td>a</td>\n      <td>c</td>\n      <td>n</td>\n      <td>4.79</td>\n      <td>...</td>\n      <td>NaN</td>\n      <td>y</td>\n      <td>o</td>\n      <td>NaN</td>\n      <td>NaN</td>\n      <td>t</td>\n      <td>z</td>\n      <td>NaN</td>\n      <td>d</td>\n      <td>w</td>\n    </tr>\n    <tr>\n      <th>2</th>\n      <td>e</td>\n      <td>6.94</td>\n      <td>f</td>\n      <td>s</td>\n      <td>b</td>\n      <td>f</td>\n      <td>x</td>\n      <td>c</td>\n      <td>w</td>\n      <td>6.85</td>\n      <td>...</td>\n      <td>NaN</td>\n      <td>s</td>\n      <td>n</td>\n      <td>NaN</td>\n      <td>NaN</td>\n      <td>f</td>\n      <td>f</td>\n      <td>NaN</td>\n      <td>l</td>\n      <td>w</td>\n    </tr>\n    <tr>\n      <th>3</th>\n      <td>e</td>\n      <td>3.88</td>\n      <td>f</td>\n      <td>y</td>\n      <td>g</td>\n      <td>f</td>\n      <td>s</td>\n      <td>NaN</td>\n      <td>g</td>\n      <td>4.16</td>\n      <td>...</td>\n      <td>NaN</td>\n      <td>NaN</td>\n      <td>w</td>\n      <td>NaN</td>\n      <td>NaN</td>\n      <td>f</td>\n      <td>f</td>\n      <td>NaN</td>\n      <td>d</td>\n      <td>u</td>\n    </tr>\n    <tr>\n      <th>4</th>\n      <td>e</td>\n      <td>5.85</td>\n      <td>x</td>\n      <td>l</td>\n      <td>w</td>\n      <td>f</td>\n      <td>d</td>\n      <td>NaN</td>\n      <td>w</td>\n      <td>3.37</td>\n      <td>...</td>\n      <td>NaN</td>\n      <td>NaN</td>\n      <td>w</td>\n      <td>NaN</td>\n      <td>NaN</td>\n      <td>f</td>\n      <td>f</td>\n      <td>NaN</td>\n      <td>g</td>\n      <td>a</td>\n    </tr>\n    <tr>\n      <th>...</th>\n      <td>...</td>\n      <td>...</td>\n      <td>...</td>\n      <td>...</td>\n      <td>...</td>\n      <td>...</td>\n      <td>...</td>\n      <td>...</td>\n      <td>...</td>\n      <td>...</td>\n      <td>...</td>\n      <td>...</td>\n      <td>...</td>\n      <td>...</td>\n      <td>...</td>\n      <td>...</td>\n      <td>...</td>\n      <td>...</td>\n      <td>...</td>\n      <td>...</td>\n      <td>...</td>\n    </tr>\n    <tr>\n      <th>3116940</th>\n      <td>e</td>\n      <td>9.29</td>\n      <td>f</td>\n      <td>NaN</td>\n      <td>n</td>\n      <td>t</td>\n      <td>NaN</td>\n      <td>NaN</td>\n      <td>w</td>\n      <td>12.14</td>\n      <td>...</td>\n      <td>b</td>\n      <td>NaN</td>\n      <td>w</td>\n      <td>u</td>\n      <td>w</td>\n      <td>t</td>\n      <td>g</td>\n      <td>NaN</td>\n      <td>d</td>\n      <td>u</td>\n    </tr>\n    <tr>\n      <th>3116941</th>\n      <td>e</td>\n      <td>10.88</td>\n      <td>s</td>\n      <td>NaN</td>\n      <td>w</td>\n      <td>t</td>\n      <td>d</td>\n      <td>c</td>\n      <td>p</td>\n      <td>6.65</td>\n      <td>...</td>\n      <td>NaN</td>\n      <td>NaN</td>\n      <td>w</td>\n      <td>NaN</td>\n      <td>NaN</td>\n      <td>f</td>\n      <td>f</td>\n      <td>NaN</td>\n      <td>d</td>\n      <td>u</td>\n    </tr>\n    <tr>\n      <th>3116942</th>\n      <td>p</td>\n      <td>7.82</td>\n      <td>x</td>\n      <td>e</td>\n      <td>e</td>\n      <td>f</td>\n      <td>a</td>\n      <td>NaN</td>\n      <td>w</td>\n      <td>9.51</td>\n      <td>...</td>\n      <td>NaN</td>\n      <td>NaN</td>\n      <td>y</td>\n      <td>NaN</td>\n      <td>w</td>\n      <td>t</td>\n      <td>z</td>\n      <td>NaN</td>\n      <td>d</td>\n      <td>a</td>\n    </tr>\n    <tr>\n      <th>3116943</th>\n      <td>e</td>\n      <td>9.45</td>\n      <td>p</td>\n      <td>i</td>\n      <td>n</td>\n      <td>t</td>\n      <td>e</td>\n      <td>NaN</td>\n      <td>p</td>\n      <td>9.13</td>\n      <td>...</td>\n      <td>NaN</td>\n      <td>y</td>\n      <td>w</td>\n      <td>NaN</td>\n      <td>NaN</td>\n      <td>t</td>\n      <td>p</td>\n      <td>NaN</td>\n      <td>d</td>\n      <td>u</td>\n    </tr>\n    <tr>\n      <th>3116944</th>\n      <td>p</td>\n      <td>3.20</td>\n      <td>x</td>\n      <td>s</td>\n      <td>g</td>\n      <td>f</td>\n      <td>d</td>\n      <td>c</td>\n      <td>w</td>\n      <td>2.82</td>\n      <td>...</td>\n      <td>NaN</td>\n      <td>NaN</td>\n      <td>w</td>\n      <td>NaN</td>\n      <td>NaN</td>\n      <td>f</td>\n      <td>f</td>\n      <td>NaN</td>\n      <td>g</td>\n      <td>u</td>\n    </tr>\n  </tbody>\n</table>\n<p>3116945 rows × 21 columns</p>\n</div>"
     },
     "execution_count": 4,
     "metadata": {},
     "output_type": "execute_result"
    }
   ],
   "source": [
    "train_df"
   ],
   "metadata": {
    "collapsed": false,
    "ExecuteTime": {
     "end_time": "2024-08-09T12:09:18.789774Z",
     "start_time": "2024-08-09T12:09:17.027530Z"
    }
   },
   "id": "c3211105136289a8",
   "execution_count": 4
  },
  {
   "cell_type": "code",
   "outputs": [
    {
     "name": "stdout",
     "output_type": "stream",
     "text": [
      "<class 'pandas.core.frame.DataFrame'>\n",
      "Index: 3116945 entries, 0 to 3116944\n",
      "Data columns (total 21 columns):\n",
      " #   Column                Dtype  \n",
      "---  ------                -----  \n",
      " 0   class                 object \n",
      " 1   cap-diameter          float64\n",
      " 2   cap-shape             object \n",
      " 3   cap-surface           object \n",
      " 4   cap-color             object \n",
      " 5   does-bruise-or-bleed  object \n",
      " 6   gill-attachment       object \n",
      " 7   gill-spacing          object \n",
      " 8   gill-color            object \n",
      " 9   stem-height           float64\n",
      " 10  stem-width            float64\n",
      " 11  stem-root             object \n",
      " 12  stem-surface          object \n",
      " 13  stem-color            object \n",
      " 14  veil-type             object \n",
      " 15  veil-color            object \n",
      " 16  has-ring              object \n",
      " 17  ring-type             object \n",
      " 18  spore-print-color     object \n",
      " 19  habitat               object \n",
      " 20  season                object \n",
      "dtypes: float64(3), object(18)\n",
      "memory usage: 523.2+ MB\n"
     ]
    }
   ],
   "source": [
    "train_df.info()"
   ],
   "metadata": {
    "collapsed": false,
    "ExecuteTime": {
     "end_time": "2024-08-09T12:09:18.796887Z",
     "start_time": "2024-08-09T12:09:18.790781Z"
    }
   },
   "id": "15bdd43a25faa7e",
   "execution_count": 5
  },
  {
   "cell_type": "code",
   "outputs": [
    {
     "data": {
      "text/plain": "Index(['class', 'cap-diameter', 'cap-shape', 'cap-surface', 'cap-color',\n       'does-bruise-or-bleed', 'gill-attachment', 'gill-spacing', 'gill-color',\n       'stem-height', 'stem-width', 'stem-root', 'stem-surface', 'stem-color',\n       'veil-type', 'veil-color', 'has-ring', 'ring-type', 'spore-print-color',\n       'habitat', 'season'],\n      dtype='object')"
     },
     "execution_count": 6,
     "metadata": {},
     "output_type": "execute_result"
    }
   ],
   "source": [
    "train_df.columns"
   ],
   "metadata": {
    "collapsed": false,
    "ExecuteTime": {
     "end_time": "2024-08-09T12:09:18.800287Z",
     "start_time": "2024-08-09T12:09:18.797511Z"
    }
   },
   "id": "5907856d28562763",
   "execution_count": 6
  },
  {
   "cell_type": "code",
   "outputs": [],
   "source": [
    "cat_feats = ['cap-shape', 'cap-surface', 'cap-color',\n",
    "             'does-bruise-or-bleed', 'gill-attachment', 'gill-spacing', 'gill-color',  'stem-root', 'stem-surface', 'stem-color',\n",
    "             'veil-type', 'veil-color', 'has-ring', 'ring-type', 'spore-print-color',\n",
    "             'habitat', 'season']"
   ],
   "metadata": {
    "collapsed": false,
    "ExecuteTime": {
     "end_time": "2024-08-09T12:09:18.802559Z",
     "start_time": "2024-08-09T12:09:18.801004Z"
    }
   },
   "id": "c6d966cc4d15b3a4",
   "execution_count": 7
  },
  {
   "cell_type": "code",
   "outputs": [],
   "source": [
    "for feat in cat_feats:\n",
    "    train_df[feat] = train_df[feat].fillna('missing')\n",
    "    test_df[feat] = test_df[feat].fillna('missing')\n",
    "    train_df[feat] = train_df[feat].astype('category')\n",
    "    test_df[feat] = test_df[feat].astype('category')"
   ],
   "metadata": {
    "collapsed": false,
    "ExecuteTime": {
     "end_time": "2024-08-09T12:09:23.854832Z",
     "start_time": "2024-08-09T12:09:18.803077Z"
    }
   },
   "id": "be4a892da964ae05",
   "execution_count": 8
  },
  {
   "cell_type": "code",
   "outputs": [],
   "source": [
    "train_df['cap-diameter'] = train_df['cap-diameter'].fillna(train_df['cap-diameter'].mean())\n",
    "test_df['cap-diameter'] = test_df['cap-diameter'].fillna(test_df['cap-diameter'].mean())"
   ],
   "metadata": {
    "collapsed": false,
    "ExecuteTime": {
     "end_time": "2024-08-09T12:09:23.894043Z",
     "start_time": "2024-08-09T12:09:23.855760Z"
    }
   },
   "id": "4fd9971667552a5b",
   "execution_count": 9
  },
  {
   "cell_type": "code",
   "outputs": [
    {
     "name": "stdout",
     "output_type": "stream",
     "text": [
      "<class 'pandas.core.frame.DataFrame'>\n",
      "Index: 3116945 entries, 0 to 3116944\n",
      "Data columns (total 21 columns):\n",
      " #   Column                Dtype   \n",
      "---  ------                -----   \n",
      " 0   class                 object  \n",
      " 1   cap-diameter          float64 \n",
      " 2   cap-shape             category\n",
      " 3   cap-surface           category\n",
      " 4   cap-color             category\n",
      " 5   does-bruise-or-bleed  category\n",
      " 6   gill-attachment       category\n",
      " 7   gill-spacing          category\n",
      " 8   gill-color            category\n",
      " 9   stem-height           float64 \n",
      " 10  stem-width            float64 \n",
      " 11  stem-root             category\n",
      " 12  stem-surface          category\n",
      " 13  stem-color            category\n",
      " 14  veil-type             category\n",
      " 15  veil-color            category\n",
      " 16  has-ring              category\n",
      " 17  ring-type             category\n",
      " 18  spore-print-color     category\n",
      " 19  habitat               category\n",
      " 20  season                category\n",
      "dtypes: category(17), float64(3), object(1)\n",
      "memory usage: 169.5+ MB\n"
     ]
    }
   ],
   "source": [
    "train_df.info()"
   ],
   "metadata": {
    "collapsed": false,
    "ExecuteTime": {
     "end_time": "2024-08-09T12:09:23.904336Z",
     "start_time": "2024-08-09T12:09:23.896116Z"
    }
   },
   "id": "6a6cc76a2ef4c18c",
   "execution_count": 10
  },
  {
   "cell_type": "code",
   "outputs": [
    {
     "data": {
      "text/plain": "         cap-diameter cap-shape cap-surface cap-color does-bruise-or-bleed  \\\nid                                                                           \n0                8.80         f           s         u                    f   \n1                4.51         x           h         o                    f   \n2                6.94         f           s         b                    f   \n3                3.88         f           y         g                    f   \n4                5.85         x           l         w                    f   \n...               ...       ...         ...       ...                  ...   \n3116940          9.29         f     missing         n                    t   \n3116941         10.88         s     missing         w                    t   \n3116942          7.82         x           e         e                    f   \n3116943          9.45         p           i         n                    t   \n3116944          3.20         x           s         g                    f   \n\n        gill-attachment gill-spacing gill-color  stem-height  stem-width  \\\nid                                                                         \n0                     a            c          w         4.51       15.39   \n1                     a            c          n         4.79        6.48   \n2                     x            c          w         6.85        9.93   \n3                     s      missing          g         4.16        6.53   \n4                     d      missing          w         3.37        8.36   \n...                 ...          ...        ...          ...         ...   \n3116940         missing      missing          w        12.14       18.81   \n3116941               d            c          p         6.65       26.97   \n3116942               a      missing          w         9.51       11.06   \n3116943               e      missing          p         9.13       17.77   \n3116944               d            c          w         2.82        7.79   \n\n        stem-root stem-surface stem-color veil-type veil-color has-ring  \\\nid                                                                        \n0         missing      missing          w   missing    missing        f   \n1         missing            y          o   missing    missing        t   \n2         missing            s          n   missing    missing        f   \n3         missing      missing          w   missing    missing        f   \n4         missing      missing          w   missing    missing        f   \n...           ...          ...        ...       ...        ...      ...   \n3116940         b      missing          w         u          w        t   \n3116941   missing      missing          w   missing    missing        f   \n3116942   missing      missing          y   missing          w        t   \n3116943   missing            y          w   missing    missing        t   \n3116944   missing      missing          w   missing    missing        f   \n\n        ring-type spore-print-color habitat season  \nid                                                  \n0               f           missing       d      a  \n1               z           missing       d      w  \n2               f           missing       l      w  \n3               f           missing       d      u  \n4               f           missing       g      a  \n...           ...               ...     ...    ...  \n3116940         g           missing       d      u  \n3116941         f           missing       d      u  \n3116942         z           missing       d      a  \n3116943         p           missing       d      u  \n3116944         f           missing       g      u  \n\n[3116945 rows x 20 columns]",
      "text/html": "<div>\n<style scoped>\n    .dataframe tbody tr th:only-of-type {\n        vertical-align: middle;\n    }\n\n    .dataframe tbody tr th {\n        vertical-align: top;\n    }\n\n    .dataframe thead th {\n        text-align: right;\n    }\n</style>\n<table border=\"1\" class=\"dataframe\">\n  <thead>\n    <tr style=\"text-align: right;\">\n      <th></th>\n      <th>cap-diameter</th>\n      <th>cap-shape</th>\n      <th>cap-surface</th>\n      <th>cap-color</th>\n      <th>does-bruise-or-bleed</th>\n      <th>gill-attachment</th>\n      <th>gill-spacing</th>\n      <th>gill-color</th>\n      <th>stem-height</th>\n      <th>stem-width</th>\n      <th>stem-root</th>\n      <th>stem-surface</th>\n      <th>stem-color</th>\n      <th>veil-type</th>\n      <th>veil-color</th>\n      <th>has-ring</th>\n      <th>ring-type</th>\n      <th>spore-print-color</th>\n      <th>habitat</th>\n      <th>season</th>\n    </tr>\n    <tr>\n      <th>id</th>\n      <th></th>\n      <th></th>\n      <th></th>\n      <th></th>\n      <th></th>\n      <th></th>\n      <th></th>\n      <th></th>\n      <th></th>\n      <th></th>\n      <th></th>\n      <th></th>\n      <th></th>\n      <th></th>\n      <th></th>\n      <th></th>\n      <th></th>\n      <th></th>\n      <th></th>\n      <th></th>\n    </tr>\n  </thead>\n  <tbody>\n    <tr>\n      <th>0</th>\n      <td>8.80</td>\n      <td>f</td>\n      <td>s</td>\n      <td>u</td>\n      <td>f</td>\n      <td>a</td>\n      <td>c</td>\n      <td>w</td>\n      <td>4.51</td>\n      <td>15.39</td>\n      <td>missing</td>\n      <td>missing</td>\n      <td>w</td>\n      <td>missing</td>\n      <td>missing</td>\n      <td>f</td>\n      <td>f</td>\n      <td>missing</td>\n      <td>d</td>\n      <td>a</td>\n    </tr>\n    <tr>\n      <th>1</th>\n      <td>4.51</td>\n      <td>x</td>\n      <td>h</td>\n      <td>o</td>\n      <td>f</td>\n      <td>a</td>\n      <td>c</td>\n      <td>n</td>\n      <td>4.79</td>\n      <td>6.48</td>\n      <td>missing</td>\n      <td>y</td>\n      <td>o</td>\n      <td>missing</td>\n      <td>missing</td>\n      <td>t</td>\n      <td>z</td>\n      <td>missing</td>\n      <td>d</td>\n      <td>w</td>\n    </tr>\n    <tr>\n      <th>2</th>\n      <td>6.94</td>\n      <td>f</td>\n      <td>s</td>\n      <td>b</td>\n      <td>f</td>\n      <td>x</td>\n      <td>c</td>\n      <td>w</td>\n      <td>6.85</td>\n      <td>9.93</td>\n      <td>missing</td>\n      <td>s</td>\n      <td>n</td>\n      <td>missing</td>\n      <td>missing</td>\n      <td>f</td>\n      <td>f</td>\n      <td>missing</td>\n      <td>l</td>\n      <td>w</td>\n    </tr>\n    <tr>\n      <th>3</th>\n      <td>3.88</td>\n      <td>f</td>\n      <td>y</td>\n      <td>g</td>\n      <td>f</td>\n      <td>s</td>\n      <td>missing</td>\n      <td>g</td>\n      <td>4.16</td>\n      <td>6.53</td>\n      <td>missing</td>\n      <td>missing</td>\n      <td>w</td>\n      <td>missing</td>\n      <td>missing</td>\n      <td>f</td>\n      <td>f</td>\n      <td>missing</td>\n      <td>d</td>\n      <td>u</td>\n    </tr>\n    <tr>\n      <th>4</th>\n      <td>5.85</td>\n      <td>x</td>\n      <td>l</td>\n      <td>w</td>\n      <td>f</td>\n      <td>d</td>\n      <td>missing</td>\n      <td>w</td>\n      <td>3.37</td>\n      <td>8.36</td>\n      <td>missing</td>\n      <td>missing</td>\n      <td>w</td>\n      <td>missing</td>\n      <td>missing</td>\n      <td>f</td>\n      <td>f</td>\n      <td>missing</td>\n      <td>g</td>\n      <td>a</td>\n    </tr>\n    <tr>\n      <th>...</th>\n      <td>...</td>\n      <td>...</td>\n      <td>...</td>\n      <td>...</td>\n      <td>...</td>\n      <td>...</td>\n      <td>...</td>\n      <td>...</td>\n      <td>...</td>\n      <td>...</td>\n      <td>...</td>\n      <td>...</td>\n      <td>...</td>\n      <td>...</td>\n      <td>...</td>\n      <td>...</td>\n      <td>...</td>\n      <td>...</td>\n      <td>...</td>\n      <td>...</td>\n    </tr>\n    <tr>\n      <th>3116940</th>\n      <td>9.29</td>\n      <td>f</td>\n      <td>missing</td>\n      <td>n</td>\n      <td>t</td>\n      <td>missing</td>\n      <td>missing</td>\n      <td>w</td>\n      <td>12.14</td>\n      <td>18.81</td>\n      <td>b</td>\n      <td>missing</td>\n      <td>w</td>\n      <td>u</td>\n      <td>w</td>\n      <td>t</td>\n      <td>g</td>\n      <td>missing</td>\n      <td>d</td>\n      <td>u</td>\n    </tr>\n    <tr>\n      <th>3116941</th>\n      <td>10.88</td>\n      <td>s</td>\n      <td>missing</td>\n      <td>w</td>\n      <td>t</td>\n      <td>d</td>\n      <td>c</td>\n      <td>p</td>\n      <td>6.65</td>\n      <td>26.97</td>\n      <td>missing</td>\n      <td>missing</td>\n      <td>w</td>\n      <td>missing</td>\n      <td>missing</td>\n      <td>f</td>\n      <td>f</td>\n      <td>missing</td>\n      <td>d</td>\n      <td>u</td>\n    </tr>\n    <tr>\n      <th>3116942</th>\n      <td>7.82</td>\n      <td>x</td>\n      <td>e</td>\n      <td>e</td>\n      <td>f</td>\n      <td>a</td>\n      <td>missing</td>\n      <td>w</td>\n      <td>9.51</td>\n      <td>11.06</td>\n      <td>missing</td>\n      <td>missing</td>\n      <td>y</td>\n      <td>missing</td>\n      <td>w</td>\n      <td>t</td>\n      <td>z</td>\n      <td>missing</td>\n      <td>d</td>\n      <td>a</td>\n    </tr>\n    <tr>\n      <th>3116943</th>\n      <td>9.45</td>\n      <td>p</td>\n      <td>i</td>\n      <td>n</td>\n      <td>t</td>\n      <td>e</td>\n      <td>missing</td>\n      <td>p</td>\n      <td>9.13</td>\n      <td>17.77</td>\n      <td>missing</td>\n      <td>y</td>\n      <td>w</td>\n      <td>missing</td>\n      <td>missing</td>\n      <td>t</td>\n      <td>p</td>\n      <td>missing</td>\n      <td>d</td>\n      <td>u</td>\n    </tr>\n    <tr>\n      <th>3116944</th>\n      <td>3.20</td>\n      <td>x</td>\n      <td>s</td>\n      <td>g</td>\n      <td>f</td>\n      <td>d</td>\n      <td>c</td>\n      <td>w</td>\n      <td>2.82</td>\n      <td>7.79</td>\n      <td>missing</td>\n      <td>missing</td>\n      <td>w</td>\n      <td>missing</td>\n      <td>missing</td>\n      <td>f</td>\n      <td>f</td>\n      <td>missing</td>\n      <td>g</td>\n      <td>u</td>\n    </tr>\n  </tbody>\n</table>\n<p>3116945 rows × 20 columns</p>\n</div>"
     },
     "execution_count": 11,
     "metadata": {},
     "output_type": "execute_result"
    }
   ],
   "source": [
    "x = train_df.drop('class', axis=1)\n",
    "x"
   ],
   "metadata": {
    "collapsed": false,
    "ExecuteTime": {
     "end_time": "2024-08-09T12:09:23.941525Z",
     "start_time": "2024-08-09T12:09:23.905069Z"
    }
   },
   "id": "ffa7ddbc485ba854",
   "execution_count": 11
  },
  {
   "cell_type": "code",
   "outputs": [
    {
     "data": {
      "text/plain": "id\n0          e\n1          p\n2          e\n3          e\n4          e\n          ..\n3116940    e\n3116941    e\n3116942    p\n3116943    e\n3116944    p\nName: class, Length: 3116945, dtype: object"
     },
     "execution_count": 12,
     "metadata": {},
     "output_type": "execute_result"
    }
   ],
   "source": [
    "y = train_df['class']\n",
    "y"
   ],
   "metadata": {
    "collapsed": false,
    "ExecuteTime": {
     "end_time": "2024-08-09T12:09:23.945619Z",
     "start_time": "2024-08-09T12:09:23.942141Z"
    }
   },
   "id": "55afd0674cdaff42",
   "execution_count": 12
  },
  {
   "cell_type": "code",
   "outputs": [
    {
     "name": "stdout",
     "output_type": "stream",
     "text": [
      "(2493556, 20) (2493556,)\n",
      "(623389, 20) (623389,)\n"
     ]
    }
   ],
   "source": [
    "x_train, x_val, y_train, y_val = train_test_split(x, y, test_size=0.2, random_state=52, shuffle=True)\n",
    "print(x_train.shape, y_train.shape)\n",
    "print(x_val.shape, y_val.shape)"
   ],
   "metadata": {
    "collapsed": false,
    "ExecuteTime": {
     "end_time": "2024-08-09T12:09:32.163959Z",
     "start_time": "2024-08-09T12:09:31.769899Z"
    }
   },
   "id": "3c4f873057a7d651",
   "execution_count": 13
  },
  {
   "cell_type": "code",
   "outputs": [
    {
     "ename": "KeyboardInterrupt",
     "evalue": "",
     "output_type": "error",
     "traceback": [
      "\u001B[0;31m---------------------------------------------------------------------------\u001B[0m",
      "\u001B[0;31mKeyboardInterrupt\u001B[0m                         Traceback (most recent call last)",
      "Cell \u001B[0;32mIn[24], line 15\u001B[0m\n\u001B[1;32m      1\u001B[0m model \u001B[38;5;241m=\u001B[39m LGBMClassifier(colsample_bytree\u001B[38;5;241m=\u001B[39m\u001B[38;5;241m0.6248142892362624\u001B[39m,\n\u001B[1;32m      2\u001B[0m                        learning_rate\u001B[38;5;241m=\u001B[39m\u001B[38;5;241m0.029054776460531954\u001B[39m, \n\u001B[1;32m      3\u001B[0m                        max_depth\u001B[38;5;241m=\u001B[39m\u001B[38;5;241m11\u001B[39m,\n\u001B[0;32m   (...)\u001B[0m\n\u001B[1;32m     12\u001B[0m                        subsample_for_bin\u001B[38;5;241m=\u001B[39m\u001B[38;5;241m36805\u001B[39m, \n\u001B[1;32m     13\u001B[0m                        verbosity\u001B[38;5;241m=\u001B[39m\u001B[38;5;241m-\u001B[39m\u001B[38;5;241m1\u001B[39m)\n\u001B[0;32m---> 15\u001B[0m model\u001B[38;5;241m.\u001B[39mfit(x_train, y_train)\n\u001B[1;32m     16\u001B[0m pred \u001B[38;5;241m=\u001B[39m model\u001B[38;5;241m.\u001B[39mpredict(x_val)\n",
      "File \u001B[0;32m/opt/homebrew/anaconda3/lib/python3.11/site-packages/lightgbm/sklearn.py:1284\u001B[0m, in \u001B[0;36mLGBMClassifier.fit\u001B[0;34m(self, X, y, sample_weight, init_score, eval_set, eval_names, eval_sample_weight, eval_class_weight, eval_init_score, eval_metric, feature_name, categorical_feature, callbacks, init_model)\u001B[0m\n\u001B[1;32m   1281\u001B[0m         \u001B[38;5;28;01melse\u001B[39;00m:\n\u001B[1;32m   1282\u001B[0m             valid_sets\u001B[38;5;241m.\u001B[39mappend((valid_x, \u001B[38;5;28mself\u001B[39m\u001B[38;5;241m.\u001B[39m_le\u001B[38;5;241m.\u001B[39mtransform(valid_y)))\n\u001B[0;32m-> 1284\u001B[0m \u001B[38;5;28msuper\u001B[39m()\u001B[38;5;241m.\u001B[39mfit(\n\u001B[1;32m   1285\u001B[0m     X,\n\u001B[1;32m   1286\u001B[0m     _y,\n\u001B[1;32m   1287\u001B[0m     sample_weight\u001B[38;5;241m=\u001B[39msample_weight,\n\u001B[1;32m   1288\u001B[0m     init_score\u001B[38;5;241m=\u001B[39minit_score,\n\u001B[1;32m   1289\u001B[0m     eval_set\u001B[38;5;241m=\u001B[39mvalid_sets,\n\u001B[1;32m   1290\u001B[0m     eval_names\u001B[38;5;241m=\u001B[39meval_names,\n\u001B[1;32m   1291\u001B[0m     eval_sample_weight\u001B[38;5;241m=\u001B[39meval_sample_weight,\n\u001B[1;32m   1292\u001B[0m     eval_class_weight\u001B[38;5;241m=\u001B[39meval_class_weight,\n\u001B[1;32m   1293\u001B[0m     eval_init_score\u001B[38;5;241m=\u001B[39meval_init_score,\n\u001B[1;32m   1294\u001B[0m     eval_metric\u001B[38;5;241m=\u001B[39meval_metric,\n\u001B[1;32m   1295\u001B[0m     feature_name\u001B[38;5;241m=\u001B[39mfeature_name,\n\u001B[1;32m   1296\u001B[0m     categorical_feature\u001B[38;5;241m=\u001B[39mcategorical_feature,\n\u001B[1;32m   1297\u001B[0m     callbacks\u001B[38;5;241m=\u001B[39mcallbacks,\n\u001B[1;32m   1298\u001B[0m     init_model\u001B[38;5;241m=\u001B[39minit_model,\n\u001B[1;32m   1299\u001B[0m )\n\u001B[1;32m   1300\u001B[0m \u001B[38;5;28;01mreturn\u001B[39;00m \u001B[38;5;28mself\u001B[39m\n",
      "File \u001B[0;32m/opt/homebrew/anaconda3/lib/python3.11/site-packages/lightgbm/sklearn.py:955\u001B[0m, in \u001B[0;36mLGBMModel.fit\u001B[0;34m(self, X, y, sample_weight, init_score, group, eval_set, eval_names, eval_sample_weight, eval_class_weight, eval_init_score, eval_group, eval_metric, feature_name, categorical_feature, callbacks, init_model)\u001B[0m\n\u001B[1;32m    952\u001B[0m evals_result: _EvalResultDict \u001B[38;5;241m=\u001B[39m {}\n\u001B[1;32m    953\u001B[0m callbacks\u001B[38;5;241m.\u001B[39mappend(record_evaluation(evals_result))\n\u001B[0;32m--> 955\u001B[0m \u001B[38;5;28mself\u001B[39m\u001B[38;5;241m.\u001B[39m_Booster \u001B[38;5;241m=\u001B[39m train(\n\u001B[1;32m    956\u001B[0m     params\u001B[38;5;241m=\u001B[39mparams,\n\u001B[1;32m    957\u001B[0m     train_set\u001B[38;5;241m=\u001B[39mtrain_set,\n\u001B[1;32m    958\u001B[0m     num_boost_round\u001B[38;5;241m=\u001B[39m\u001B[38;5;28mself\u001B[39m\u001B[38;5;241m.\u001B[39mn_estimators,\n\u001B[1;32m    959\u001B[0m     valid_sets\u001B[38;5;241m=\u001B[39mvalid_sets,\n\u001B[1;32m    960\u001B[0m     valid_names\u001B[38;5;241m=\u001B[39meval_names,\n\u001B[1;32m    961\u001B[0m     feval\u001B[38;5;241m=\u001B[39meval_metrics_callable,  \u001B[38;5;66;03m# type: ignore[arg-type]\u001B[39;00m\n\u001B[1;32m    962\u001B[0m     init_model\u001B[38;5;241m=\u001B[39minit_model,\n\u001B[1;32m    963\u001B[0m     callbacks\u001B[38;5;241m=\u001B[39mcallbacks,\n\u001B[1;32m    964\u001B[0m )\n\u001B[1;32m    966\u001B[0m \u001B[38;5;28mself\u001B[39m\u001B[38;5;241m.\u001B[39m_evals_result \u001B[38;5;241m=\u001B[39m evals_result\n\u001B[1;32m    967\u001B[0m \u001B[38;5;28mself\u001B[39m\u001B[38;5;241m.\u001B[39m_best_iteration \u001B[38;5;241m=\u001B[39m \u001B[38;5;28mself\u001B[39m\u001B[38;5;241m.\u001B[39m_Booster\u001B[38;5;241m.\u001B[39mbest_iteration\n",
      "File \u001B[0;32m/opt/homebrew/anaconda3/lib/python3.11/site-packages/lightgbm/engine.py:307\u001B[0m, in \u001B[0;36mtrain\u001B[0;34m(params, train_set, num_boost_round, valid_sets, valid_names, feval, init_model, feature_name, categorical_feature, keep_training_booster, callbacks)\u001B[0m\n\u001B[1;32m    295\u001B[0m \u001B[38;5;28;01mfor\u001B[39;00m cb \u001B[38;5;129;01min\u001B[39;00m callbacks_before_iter:\n\u001B[1;32m    296\u001B[0m     cb(\n\u001B[1;32m    297\u001B[0m         callback\u001B[38;5;241m.\u001B[39mCallbackEnv(\n\u001B[1;32m    298\u001B[0m             model\u001B[38;5;241m=\u001B[39mbooster,\n\u001B[0;32m   (...)\u001B[0m\n\u001B[1;32m    304\u001B[0m         )\n\u001B[1;32m    305\u001B[0m     )\n\u001B[0;32m--> 307\u001B[0m booster\u001B[38;5;241m.\u001B[39mupdate(fobj\u001B[38;5;241m=\u001B[39mfobj)\n\u001B[1;32m    309\u001B[0m evaluation_result_list: List[_LGBM_BoosterEvalMethodResultType] \u001B[38;5;241m=\u001B[39m []\n\u001B[1;32m    310\u001B[0m \u001B[38;5;66;03m# check evaluation result.\u001B[39;00m\n",
      "File \u001B[0;32m/opt/homebrew/anaconda3/lib/python3.11/site-packages/lightgbm/basic.py:4136\u001B[0m, in \u001B[0;36mBooster.update\u001B[0;34m(self, train_set, fobj)\u001B[0m\n\u001B[1;32m   4133\u001B[0m \u001B[38;5;28;01mif\u001B[39;00m \u001B[38;5;28mself\u001B[39m\u001B[38;5;241m.\u001B[39m__set_objective_to_none:\n\u001B[1;32m   4134\u001B[0m     \u001B[38;5;28;01mraise\u001B[39;00m LightGBMError(\u001B[38;5;124m\"\u001B[39m\u001B[38;5;124mCannot update due to null objective function.\u001B[39m\u001B[38;5;124m\"\u001B[39m)\n\u001B[1;32m   4135\u001B[0m _safe_call(\n\u001B[0;32m-> 4136\u001B[0m     _LIB\u001B[38;5;241m.\u001B[39mLGBM_BoosterUpdateOneIter(\n\u001B[1;32m   4137\u001B[0m         \u001B[38;5;28mself\u001B[39m\u001B[38;5;241m.\u001B[39m_handle,\n\u001B[1;32m   4138\u001B[0m         ctypes\u001B[38;5;241m.\u001B[39mbyref(is_finished),\n\u001B[1;32m   4139\u001B[0m     )\n\u001B[1;32m   4140\u001B[0m )\n\u001B[1;32m   4141\u001B[0m \u001B[38;5;28mself\u001B[39m\u001B[38;5;241m.\u001B[39m__is_predicted_cur_iter \u001B[38;5;241m=\u001B[39m [\u001B[38;5;28;01mFalse\u001B[39;00m \u001B[38;5;28;01mfor\u001B[39;00m _ \u001B[38;5;129;01min\u001B[39;00m \u001B[38;5;28mrange\u001B[39m(\u001B[38;5;28mself\u001B[39m\u001B[38;5;241m.\u001B[39m__num_dataset)]\n\u001B[1;32m   4142\u001B[0m \u001B[38;5;28;01mreturn\u001B[39;00m is_finished\u001B[38;5;241m.\u001B[39mvalue \u001B[38;5;241m==\u001B[39m \u001B[38;5;241m1\u001B[39m\n",
      "\u001B[0;31mKeyboardInterrupt\u001B[0m: "
     ]
    }
   ],
   "source": [
    "model = LGBMClassifier(colsample_bytree=0.6248142892362624,\n",
    "                       learning_rate=0.029054776460531954, \n",
    "                       max_depth=11,\n",
    "                       min_child_samples=180, \n",
    "                       n_estimators=1188,\n",
    "                       num_leaves=459,\n",
    "                       objective='binary',\n",
    "                       random_state=42,\n",
    "                       reg_alpha=2.701133349161215,\n",
    "                       reg_lambda=2.3413285519209658e-08, \n",
    "                       subsample=0.6193856517174553,\n",
    "                       subsample_for_bin=36805, \n",
    "                       verbosity=-1)\n",
    "\n",
    "model.fit(x_train, y_train)\n",
    "pred = model.predict(x_val)"
   ],
   "metadata": {
    "collapsed": false,
    "ExecuteTime": {
     "end_time": "2024-08-09T13:44:23.675896Z",
     "start_time": "2024-08-09T13:44:19.027670Z"
    }
   },
   "id": "aa9e314eaad7bf64",
   "execution_count": 24
  },
  {
   "cell_type": "code",
   "outputs": [
    {
     "name": "stdout",
     "output_type": "stream",
     "text": [
      "Validation MCC: 0.9846245521712603\n"
     ]
    }
   ],
   "source": [
    "mcc = matthews_corrcoef(y_val, pred)\n",
    "print(f'Validation MCC: {mcc}')"
   ],
   "metadata": {
    "collapsed": false,
    "ExecuteTime": {
     "end_time": "2024-08-09T13:40:45.929735Z",
     "start_time": "2024-08-09T13:40:45.063917Z"
    }
   },
   "id": "3dd3c46e7f578174",
   "execution_count": 20
  },
  {
   "cell_type": "code",
   "outputs": [],
   "source": [
    "test_preds = model.predict(test_df)\n",
    "submission = pd.read_csv('data/sample_submission.csv')"
   ],
   "metadata": {
    "collapsed": false,
    "ExecuteTime": {
     "end_time": "2024-08-09T13:42:18.468599Z",
     "start_time": "2024-08-09T13:40:46.536090Z"
    }
   },
   "id": "568aba962b590d73",
   "execution_count": 21
  },
  {
   "cell_type": "code",
   "outputs": [],
   "source": [
    "submission = pd.DataFrame({\n",
    "    'id': submission['id'],\n",
    "    'class': test_preds\n",
    "})\n",
    "submission.to_csv('data/sample_submission.csv', index=False)"
   ],
   "metadata": {
    "collapsed": false,
    "ExecuteTime": {
     "end_time": "2024-08-09T13:42:27.499527Z",
     "start_time": "2024-08-09T13:42:26.316768Z"
    }
   },
   "id": "d4d57d31500b6ddb",
   "execution_count": 22
  },
  {
   "cell_type": "code",
   "outputs": [
    {
     "data": {
      "text/plain": "              id class\n0        3116945     e\n1        3116946     p\n2        3116947     p\n3        3116948     p\n4        3116949     e\n...          ...   ...\n2077959  5194904     p\n2077960  5194905     p\n2077961  5194906     p\n2077962  5194907     e\n2077963  5194908     e\n\n[2077964 rows x 2 columns]",
      "text/html": "<div>\n<style scoped>\n    .dataframe tbody tr th:only-of-type {\n        vertical-align: middle;\n    }\n\n    .dataframe tbody tr th {\n        vertical-align: top;\n    }\n\n    .dataframe thead th {\n        text-align: right;\n    }\n</style>\n<table border=\"1\" class=\"dataframe\">\n  <thead>\n    <tr style=\"text-align: right;\">\n      <th></th>\n      <th>id</th>\n      <th>class</th>\n    </tr>\n  </thead>\n  <tbody>\n    <tr>\n      <th>0</th>\n      <td>3116945</td>\n      <td>e</td>\n    </tr>\n    <tr>\n      <th>1</th>\n      <td>3116946</td>\n      <td>p</td>\n    </tr>\n    <tr>\n      <th>2</th>\n      <td>3116947</td>\n      <td>p</td>\n    </tr>\n    <tr>\n      <th>3</th>\n      <td>3116948</td>\n      <td>p</td>\n    </tr>\n    <tr>\n      <th>4</th>\n      <td>3116949</td>\n      <td>e</td>\n    </tr>\n    <tr>\n      <th>...</th>\n      <td>...</td>\n      <td>...</td>\n    </tr>\n    <tr>\n      <th>2077959</th>\n      <td>5194904</td>\n      <td>p</td>\n    </tr>\n    <tr>\n      <th>2077960</th>\n      <td>5194905</td>\n      <td>p</td>\n    </tr>\n    <tr>\n      <th>2077961</th>\n      <td>5194906</td>\n      <td>p</td>\n    </tr>\n    <tr>\n      <th>2077962</th>\n      <td>5194907</td>\n      <td>e</td>\n    </tr>\n    <tr>\n      <th>2077963</th>\n      <td>5194908</td>\n      <td>e</td>\n    </tr>\n  </tbody>\n</table>\n<p>2077964 rows × 2 columns</p>\n</div>"
     },
     "execution_count": 23,
     "metadata": {},
     "output_type": "execute_result"
    }
   ],
   "source": [
    "submission"
   ],
   "metadata": {
    "collapsed": false,
    "ExecuteTime": {
     "end_time": "2024-08-09T13:42:29.393509Z",
     "start_time": "2024-08-09T13:42:29.385912Z"
    }
   },
   "id": "a15e1d3ab878c937",
   "execution_count": 23
  },
  {
   "cell_type": "code",
   "outputs": [],
   "source": [],
   "metadata": {
    "collapsed": false
   },
   "id": "fd9da18ed364ea8"
  }
 ],
 "metadata": {
  "kernelspec": {
   "display_name": "Python 3",
   "language": "python",
   "name": "python3"
  },
  "language_info": {
   "codemirror_mode": {
    "name": "ipython",
    "version": 2
   },
   "file_extension": ".py",
   "mimetype": "text/x-python",
   "name": "python",
   "nbconvert_exporter": "python",
   "pygments_lexer": "ipython2",
   "version": "2.7.6"
  }
 },
 "nbformat": 4,
 "nbformat_minor": 5
}
